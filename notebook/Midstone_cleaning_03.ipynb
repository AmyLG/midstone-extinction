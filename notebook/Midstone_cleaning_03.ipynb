{
 "cells": [
  {
   "cell_type": "markdown",
   "metadata": {},
   "source": [
    "# This notebook convert location column values to a geoson file because polygon data can't be used in Leaflet in R:"
   ]
  },
  {
   "cell_type": "code",
   "execution_count": 1,
   "metadata": {},
   "outputs": [],
   "source": [
    "import pandas as pd\n",
    "import geopandas as gpd\n",
    "import numpy as np\n",
    "from shapely import wkt"
   ]
  },
  {
   "cell_type": "code",
   "execution_count": 2,
   "metadata": {},
   "outputs": [],
   "source": [
    "### to see all columns\n",
    "pd.set_option('display.max_columns', None)\n",
    "pd.set_option('display.max_rows', None)"
   ]
  },
  {
   "cell_type": "code",
   "execution_count": 3,
   "metadata": {},
   "outputs": [
    {
     "data": {
      "text/html": [
       "<div>\n",
       "<style scoped>\n",
       "    .dataframe tbody tr th:only-of-type {\n",
       "        vertical-align: middle;\n",
       "    }\n",
       "\n",
       "    .dataframe tbody tr th {\n",
       "        vertical-align: top;\n",
       "    }\n",
       "\n",
       "    .dataframe thead th {\n",
       "        text-align: right;\n",
       "    }\n",
       "</style>\n",
       "<table border=\"1\" class=\"dataframe\">\n",
       "  <thead>\n",
       "    <tr style=\"text-align: right;\">\n",
       "      <th></th>\n",
       "      <th>common_name</th>\n",
       "      <th>scientific_name</th>\n",
       "      <th>species_group</th>\n",
       "      <th>esa_status</th>\n",
       "      <th>foreign_or_domestic</th>\n",
       "      <th>image_url</th>\n",
       "      <th>image_url_full</th>\n",
       "      <th>location</th>\n",
       "      <th>country</th>\n",
       "      <th>food</th>\n",
       "      <th>habitat_requirements</th>\n",
       "      <th>home_range</th>\n",
       "      <th>cause</th>\n",
       "      <th>reproduction</th>\n",
       "      <th>description</th>\n",
       "      <th>status_code</th>\n",
       "    </tr>\n",
       "  </thead>\n",
       "  <tbody>\n",
       "    <tr>\n",
       "      <th>0</th>\n",
       "      <td>Akekee</td>\n",
       "      <td>Loxops caeruleirostris</td>\n",
       "      <td>Birds</td>\n",
       "      <td>Endangered</td>\n",
       "      <td>Domestic</td>\n",
       "      <td>/docs/species_images/doc4660.png</td>\n",
       "      <td>https://ecos.fws.gov/docs/species_images/doc46...</td>\n",
       "      <td>POLYGON((-160.30501096653 21.7282346819371,-16...</td>\n",
       "      <td>United States</td>\n",
       "      <td>The 'Akeke'e  feeds mostly on spiders, psyllid...</td>\n",
       "      <td>The 'Akeke'e inhabits Lowland Mesic and Wet Fo...</td>\n",
       "      <td>The 'Akeke'e is endemic to Kaua'i Island of th...</td>\n",
       "      <td>The 'Akeke'e population appears to have remain...</td>\n",
       "      <td>The 'Akeke'e  nests in open-cup nests located ...</td>\n",
       "      <td>The 'Akeke'e is a small Hawaiian honeycreeper....</td>\n",
       "      <td>200</td>\n",
       "    </tr>\n",
       "    <tr>\n",
       "      <th>1</th>\n",
       "      <td>Polar bear</td>\n",
       "      <td>Ursus maritimus</td>\n",
       "      <td>Mammals</td>\n",
       "      <td>Threatened</td>\n",
       "      <td>Both Domestic and Foreign</td>\n",
       "      <td>/docs/species_images/doc5025.jpg</td>\n",
       "      <td>https://ecos.fws.gov/docs/species_images/doc50...</td>\n",
       "      <td>POLYGON((-174.837571354155 59.7457496094217,-1...</td>\n",
       "      <td>Canada</td>\n",
       "      <td>No information available</td>\n",
       "      <td>No information available</td>\n",
       "      <td>No information available</td>\n",
       "      <td>No information available</td>\n",
       "      <td>No information available</td>\n",
       "      <td>Polar bears are protected under the Marine Mam...</td>\n",
       "      <td>200</td>\n",
       "    </tr>\n",
       "    <tr>\n",
       "      <th>2</th>\n",
       "      <td>Pitcher's thistle</td>\n",
       "      <td>Cirsium pitcheri</td>\n",
       "      <td>Flowering Plants</td>\n",
       "      <td>Threatened</td>\n",
       "      <td>Both Domestic and Foreign</td>\n",
       "      <td>/docs/species_images/doc5051.jpg</td>\n",
       "      <td>https://ecos.fws.gov/docs/species_images/doc50...</td>\n",
       "      <td>POLYGON((-88.2001819788612 41.1621947025267,-8...</td>\n",
       "      <td>Canada</td>\n",
       "      <td>No information available</td>\n",
       "      <td>No information available</td>\n",
       "      <td>No information available</td>\n",
       "      <td>No information available</td>\n",
       "      <td>No information available</td>\n",
       "      <td>No information available</td>\n",
       "      <td>200</td>\n",
       "    </tr>\n",
       "    <tr>\n",
       "      <th>3</th>\n",
       "      <td>Piping Plover</td>\n",
       "      <td>Charadrius melodus</td>\n",
       "      <td>Birds</td>\n",
       "      <td>Endangered</td>\n",
       "      <td>Both Domestic and Foreign</td>\n",
       "      <td>/docs/species_images/doc3770.jpg</td>\n",
       "      <td>https://ecos.fws.gov/docs/species_images/doc37...</td>\n",
       "      <td>POLYGON((-93.0885545621889 37.8619826666356,-9...</td>\n",
       "      <td>Canada</td>\n",
       "      <td>No information available</td>\n",
       "      <td>No information available</td>\n",
       "      <td>No information available</td>\n",
       "      <td>No information available</td>\n",
       "      <td>No information available</td>\n",
       "      <td>Size: 18 cm (7.25 in) in length. Color: Breedi...</td>\n",
       "      <td>200</td>\n",
       "    </tr>\n",
       "    <tr>\n",
       "      <th>4</th>\n",
       "      <td>Pink mucket (pearlymussel)</td>\n",
       "      <td>Lampsilis abrupta</td>\n",
       "      <td>Clams</td>\n",
       "      <td>Endangered</td>\n",
       "      <td>Domestic</td>\n",
       "      <td>/docs/species_images/doc4977.jpg</td>\n",
       "      <td>https://ecos.fws.gov/docs/species_images/doc49...</td>\n",
       "      <td>POLYGON((-93.8616440305422 32.505883021288,-93...</td>\n",
       "      <td>United States</td>\n",
       "      <td>Suspension feeder on plankton; deposit feeder ...</td>\n",
       "      <td>Relatively silt-free substrates of sand, grave...</td>\n",
       "      <td>Sedentary.</td>\n",
       "      <td>No information available</td>\n",
       "      <td>Separate sexes, males releasing sperm to water...</td>\n",
       "      <td>No information available</td>\n",
       "      <td>200</td>\n",
       "    </tr>\n",
       "  </tbody>\n",
       "</table>\n",
       "</div>"
      ],
      "text/plain": [
       "                  common_name         scientific_name     species_group  \\\n",
       "0                      Akekee  Loxops caeruleirostris             Birds   \n",
       "1                  Polar bear         Ursus maritimus           Mammals   \n",
       "2           Pitcher's thistle        Cirsium pitcheri  Flowering Plants   \n",
       "3               Piping Plover      Charadrius melodus             Birds   \n",
       "4  Pink mucket (pearlymussel)       Lampsilis abrupta             Clams   \n",
       "\n",
       "   esa_status        foreign_or_domestic                         image_url  \\\n",
       "0  Endangered                   Domestic  /docs/species_images/doc4660.png   \n",
       "1  Threatened  Both Domestic and Foreign  /docs/species_images/doc5025.jpg   \n",
       "2  Threatened  Both Domestic and Foreign  /docs/species_images/doc5051.jpg   \n",
       "3  Endangered  Both Domestic and Foreign  /docs/species_images/doc3770.jpg   \n",
       "4  Endangered                   Domestic  /docs/species_images/doc4977.jpg   \n",
       "\n",
       "                                      image_url_full  \\\n",
       "0  https://ecos.fws.gov/docs/species_images/doc46...   \n",
       "1  https://ecos.fws.gov/docs/species_images/doc50...   \n",
       "2  https://ecos.fws.gov/docs/species_images/doc50...   \n",
       "3  https://ecos.fws.gov/docs/species_images/doc37...   \n",
       "4  https://ecos.fws.gov/docs/species_images/doc49...   \n",
       "\n",
       "                                            location        country  \\\n",
       "0  POLYGON((-160.30501096653 21.7282346819371,-16...  United States   \n",
       "1  POLYGON((-174.837571354155 59.7457496094217,-1...         Canada   \n",
       "2  POLYGON((-88.2001819788612 41.1621947025267,-8...         Canada   \n",
       "3  POLYGON((-93.0885545621889 37.8619826666356,-9...         Canada   \n",
       "4  POLYGON((-93.8616440305422 32.505883021288,-93...  United States   \n",
       "\n",
       "                                                food  \\\n",
       "0  The 'Akeke'e  feeds mostly on spiders, psyllid...   \n",
       "1                           No information available   \n",
       "2                           No information available   \n",
       "3                           No information available   \n",
       "4  Suspension feeder on plankton; deposit feeder ...   \n",
       "\n",
       "                                habitat_requirements  \\\n",
       "0  The 'Akeke'e inhabits Lowland Mesic and Wet Fo...   \n",
       "1                           No information available   \n",
       "2                           No information available   \n",
       "3                           No information available   \n",
       "4  Relatively silt-free substrates of sand, grave...   \n",
       "\n",
       "                                          home_range  \\\n",
       "0  The 'Akeke'e is endemic to Kaua'i Island of th...   \n",
       "1                           No information available   \n",
       "2                           No information available   \n",
       "3                           No information available   \n",
       "4                                         Sedentary.   \n",
       "\n",
       "                                               cause  \\\n",
       "0  The 'Akeke'e population appears to have remain...   \n",
       "1                           No information available   \n",
       "2                           No information available   \n",
       "3                           No information available   \n",
       "4                           No information available   \n",
       "\n",
       "                                        reproduction  \\\n",
       "0  The 'Akeke'e  nests in open-cup nests located ...   \n",
       "1                           No information available   \n",
       "2                           No information available   \n",
       "3                           No information available   \n",
       "4  Separate sexes, males releasing sperm to water...   \n",
       "\n",
       "                                         description  status_code  \n",
       "0  The 'Akeke'e is a small Hawaiian honeycreeper....          200  \n",
       "1  Polar bears are protected under the Marine Mam...          200  \n",
       "2                           No information available          200  \n",
       "3  Size: 18 cm (7.25 in) in length. Color: Breedi...          200  \n",
       "4                           No information available          200  "
      ]
     },
     "execution_count": 3,
     "metadata": {},
     "output_type": "execute_result"
    }
   ],
   "source": [
    "### Read the cleaned csv file\n",
    "ecos_us_ca = pd.read_csv(\"../data/ecos_animal_us_ca_clean.csv\")\n",
    "ecos_us_ca.head()"
   ]
  },
  {
   "cell_type": "markdown",
   "metadata": {},
   "source": [
    "## 1- final cleaning before geospatial conversion:"
   ]
  },
  {
   "cell_type": "markdown",
   "metadata": {},
   "source": [
    "### 1- Column \"common_name\" and \"No common name\" multiple values:"
   ]
  },
  {
   "cell_type": "code",
   "execution_count": 4,
   "metadata": {},
   "outputs": [],
   "source": [
    "### There is 7 species with no common name and I need to modify it to be able to differenciate them for the app\n",
    "### look at the rows numbers:\n",
    "#ecos_us_ca.loc[:, \"common_name\"]"
   ]
  },
  {
   "cell_type": "markdown",
   "metadata": {},
   "source": [
    "there are located in rows 57, 59, 60, 61, 62, 63 and 66"
   ]
  },
  {
   "cell_type": "code",
   "execution_count": 5,
   "metadata": {},
   "outputs": [
    {
     "data": {
      "text/plain": [
       "common_name                               Northeastern beach tiger beetle\n",
       "scientific_name                               Cicindela dorsalis dorsalis\n",
       "species_group                                                     Insects\n",
       "esa_status                                                     Threatened\n",
       "foreign_or_domestic                                              Domestic\n",
       "image_url                                /docs/species_images/doc4860.jpg\n",
       "image_url_full          https://ecos.fws.gov/docs/species_images/doc48...\n",
       "location                POLYGON((-76.5301458997165 37.080589428058,-76...\n",
       "country                                                     United States\n",
       "food                    Adults are active predators that forage on sma...\n",
       "habitat_requirements    Adult and larval tiger beetles are found on lo...\n",
       "home_range              Once abundant along coastal beaches from Massa...\n",
       "cause                   Few northeastern beach tiger beetle sites are ...\n",
       "reproduction            Adults are primarily active from June to Septe...\n",
       "description             The largest (13-15 mm) of the recognized subsp...\n",
       "status_code                                                           200\n",
       "Name: 65, dtype: object"
      ]
     },
     "execution_count": 5,
     "metadata": {},
     "output_type": "execute_result"
    }
   ],
   "source": [
    "ecos_us_ca.iloc[65, :]"
   ]
  },
  {
   "cell_type": "code",
   "execution_count": 6,
   "metadata": {},
   "outputs": [
    {
     "name": "stderr",
     "output_type": "stream",
     "text": [
      "<ipython-input-6-14f47d3c3a68>:3: SettingWithCopyWarning: \n",
      "A value is trying to be set on a copy of a slice from a DataFrame\n",
      "\n",
      "See the caveats in the documentation: https://pandas.pydata.org/pandas-docs/stable/user_guide/indexing.html#returning-a-view-versus-a-copy\n",
      "  ecos_us_ca['common_name'][mask] = \"Chase's threeawn\"\n"
     ]
    }
   ],
   "source": [
    "### Aristida chaseae\n",
    "mask = (ecos_us_ca['common_name'] == \"No common name\") & (ecos_us_ca['scientific_name'] == \"Aristida chaseae\")\n",
    "ecos_us_ca['common_name'][mask] = \"Chase's threeawn\""
   ]
  },
  {
   "cell_type": "code",
   "execution_count": 7,
   "metadata": {},
   "outputs": [
    {
     "name": "stderr",
     "output_type": "stream",
     "text": [
      "<ipython-input-7-acdd5d007732>:3: SettingWithCopyWarning: \n",
      "A value is trying to be set on a copy of a slice from a DataFrame\n",
      "\n",
      "See the caveats in the documentation: https://pandas.pydata.org/pandas-docs/stable/user_guide/indexing.html#returning-a-view-versus-a-copy\n",
      "  ecos_us_ca['common_name'][mask] = \"Cassia mirabilis\"\n"
     ]
    }
   ],
   "source": [
    "### Chamaecrista glandulosa var. mirabilis\n",
    "mask = (ecos_us_ca['common_name'] == \"No common name\") & (ecos_us_ca['scientific_name'] == \"Chamaecrista glandulosa var. mirabilis\")\n",
    "ecos_us_ca['common_name'][mask] = \"Cassia mirabilis\""
   ]
  },
  {
   "cell_type": "code",
   "execution_count": 8,
   "metadata": {},
   "outputs": [
    {
     "name": "stderr",
     "output_type": "stream",
     "text": [
      "<ipython-input-8-3807489729bb>:3: SettingWithCopyWarning: \n",
      "A value is trying to be set on a copy of a slice from a DataFrame\n",
      "\n",
      "See the caveats in the documentation: https://pandas.pydata.org/pandas-docs/stable/user_guide/indexing.html#returning-a-view-versus-a-copy\n",
      "  ecos_us_ca['common_name'][mask] = \"Luquillo Mountain babyboot orchid\"\n"
     ]
    }
   ],
   "source": [
    "### Lepanthes eltoroensis\n",
    "mask = (ecos_us_ca['common_name'] == \"No common name\") & (ecos_us_ca['scientific_name'] == \"Lepanthes eltoroensis\")\n",
    "ecos_us_ca['common_name'][mask] = \"Luquillo Mountain babyboot orchid\""
   ]
  },
  {
   "cell_type": "code",
   "execution_count": 9,
   "metadata": {},
   "outputs": [
    {
     "name": "stderr",
     "output_type": "stream",
     "text": [
      "<ipython-input-9-010633ed5836>:3: SettingWithCopyWarning: \n",
      "A value is trying to be set on a copy of a slice from a DataFrame\n",
      "\n",
      "See the caveats in the documentation: https://pandas.pydata.org/pandas-docs/stable/user_guide/indexing.html#returning-a-view-versus-a-copy\n",
      "  ecos_us_ca['common_name'][mask] = \"Lyonia truncata\"\n"
     ]
    }
   ],
   "source": [
    "### Lyonia truncata var. proctorii (there is really no common name so I change it for the scientific name otherwise I can't separate it with other no common name species)\n",
    "mask = (ecos_us_ca['common_name'] == \"No common name\") & (ecos_us_ca['scientific_name'] == \"Lyonia truncata var. proctorii\")\n",
    "ecos_us_ca['common_name'][mask] = \"Lyonia truncata\""
   ]
  },
  {
   "cell_type": "code",
   "execution_count": 10,
   "metadata": {},
   "outputs": [
    {
     "name": "stderr",
     "output_type": "stream",
     "text": [
      "<ipython-input-10-03d5a301fbbd>:3: SettingWithCopyWarning: \n",
      "A value is trying to be set on a copy of a slice from a DataFrame\n",
      "\n",
      "See the caveats in the documentation: https://pandas.pydata.org/pandas-docs/stable/user_guide/indexing.html#returning-a-view-versus-a-copy\n",
      "  ecos_us_ca['common_name'][mask] = \"Schoepfia arenaria\"\n"
     ]
    }
   ],
   "source": [
    "### Schoepfia arenaria (there is also no common name for this species so I change it for the scientific name\n",
    "mask = (ecos_us_ca['common_name'] == \"No common name\") & (ecos_us_ca['scientific_name'] == \"Schoepfia arenaria\")\n",
    "ecos_us_ca['common_name'][mask] = \"Schoepfia arenaria\""
   ]
  },
  {
   "cell_type": "code",
   "execution_count": 11,
   "metadata": {},
   "outputs": [
    {
     "name": "stderr",
     "output_type": "stream",
     "text": [
      "<ipython-input-11-620902dcd6f8>:3: SettingWithCopyWarning: \n",
      "A value is trying to be set on a copy of a slice from a DataFrame\n",
      "\n",
      "See the caveats in the documentation: https://pandas.pydata.org/pandas-docs/stable/user_guide/indexing.html#returning-a-view-versus-a-copy\n",
      "  ecos_us_ca['common_name'][mask] = \"Proctor's ironweed\"\n"
     ]
    }
   ],
   "source": [
    "### Vernonia proctorii\n",
    "mask = (ecos_us_ca['common_name'] == \"No common name\") & (ecos_us_ca['scientific_name'] == \"Vernonia proctorii\")\n",
    "ecos_us_ca['common_name'][mask] = \"Proctor's ironweed\""
   ]
  },
  {
   "cell_type": "code",
   "execution_count": 12,
   "metadata": {},
   "outputs": [
    {
     "name": "stderr",
     "output_type": "stream",
     "text": [
      "<ipython-input-12-3795454425f0>:3: SettingWithCopyWarning: \n",
      "A value is trying to be set on a copy of a slice from a DataFrame\n",
      "\n",
      "See the caveats in the documentation: https://pandas.pydata.org/pandas-docs/stable/user_guide/indexing.html#returning-a-view-versus-a-copy\n",
      "  ecos_us_ca['common_name'][mask] = \"Puerto Rico helmet orchid\"\n"
     ]
    }
   ],
   "source": [
    "### Cranichis ricartii\n",
    "mask = (ecos_us_ca['common_name'] == \"No common name\") & (ecos_us_ca['scientific_name'] == \"Cranichis ricartii\")\n",
    "ecos_us_ca['common_name'][mask] = \"Puerto Rico helmet orchid\""
   ]
  },
  {
   "cell_type": "code",
   "execution_count": 13,
   "metadata": {
    "scrolled": true
   },
   "outputs": [
    {
     "data": {
      "text/plain": [
       "common_name    0\n",
       "dtype: int64"
      ]
     },
     "execution_count": 13,
     "metadata": {},
     "output_type": "execute_result"
    }
   ],
   "source": [
    "### Check if there is \"No common name\" values left:\n",
    "ecos_us_ca[[\"common_name\"]].eq(\"No common name\").sum()"
   ]
  },
  {
   "cell_type": "markdown",
   "metadata": {},
   "source": [
    "### 2- Prepare dataframe for geo conversion:"
   ]
  },
  {
   "cell_type": "code",
   "execution_count": 14,
   "metadata": {},
   "outputs": [
    {
     "data": {
      "text/plain": [
       "(434, 16)"
      ]
     },
     "execution_count": 14,
     "metadata": {},
     "output_type": "execute_result"
    }
   ],
   "source": [
    "### 436 rows\n",
    "ecos_us_ca.shape"
   ]
  },
  {
   "cell_type": "code",
   "execution_count": 15,
   "metadata": {},
   "outputs": [],
   "source": [
    "### drop columns (I forgot to drop it before)\n",
    "ecos_us_ca = ecos_us_ca.drop([\"image_url\", \"status_code\"], axis=1)"
   ]
  },
  {
   "cell_type": "code",
   "execution_count": 16,
   "metadata": {},
   "outputs": [],
   "source": [
    "### There is 5 missing polygones so unfortunately I have to drop them... or I can't convert into geojson (other columns do not contain missing values).\n",
    "ecos_us_ca = ecos_us_ca[ecos_us_ca[\"location\"].notnull()]"
   ]
  },
  {
   "cell_type": "code",
   "execution_count": 17,
   "metadata": {},
   "outputs": [
    {
     "data": {
      "text/plain": [
       "(429, 14)"
      ]
     },
     "execution_count": 17,
     "metadata": {},
     "output_type": "execute_result"
    }
   ],
   "source": [
    "### 429 rows left\n",
    "ecos_us_ca.shape"
   ]
  },
  {
   "cell_type": "markdown",
   "metadata": {},
   "source": [
    "## 2- Df conversion to geojson files:"
   ]
  },
  {
   "cell_type": "code",
   "execution_count": 18,
   "metadata": {},
   "outputs": [],
   "source": [
    "### The format of the polygon is WKT, so I have to convert it to shapely Polygon (\"https://geopandas.readthedocs.io/en/latest/gallery/create_geopandas_from_pandas.html\")\n",
    "### Make a new column \"geometry\" for the polygon data\n",
    "ecos_us_ca['geometry'] = ecos_us_ca[\"location\"].apply(wkt.loads)"
   ]
  },
  {
   "cell_type": "code",
   "execution_count": 19,
   "metadata": {},
   "outputs": [],
   "source": [
    "ecos_us_ca_geo = gpd.GeoDataFrame(ecos_us_ca)"
   ]
  },
  {
   "cell_type": "code",
   "execution_count": 20,
   "metadata": {},
   "outputs": [],
   "source": [
    "ecos_us_ca_geo.set_geometry(col='geometry', inplace=True)"
   ]
  },
  {
   "cell_type": "code",
   "execution_count": 21,
   "metadata": {},
   "outputs": [],
   "source": [
    "### Save the geodata\n",
    "ecos_us_ca_geo.to_file(\"../data/ecos_us_ca_geo.geojson\")"
   ]
  },
  {
   "cell_type": "code",
   "execution_count": null,
   "metadata": {},
   "outputs": [],
   "source": []
  }
 ],
 "metadata": {
  "kernelspec": {
   "display_name": "Python 3",
   "language": "python",
   "name": "python3"
  },
  "language_info": {
   "codemirror_mode": {
    "name": "ipython",
    "version": 3
   },
   "file_extension": ".py",
   "mimetype": "text/x-python",
   "name": "python",
   "nbconvert_exporter": "python",
   "pygments_lexer": "ipython3",
   "version": "3.8.5"
  }
 },
 "nbformat": 4,
 "nbformat_minor": 2
}
