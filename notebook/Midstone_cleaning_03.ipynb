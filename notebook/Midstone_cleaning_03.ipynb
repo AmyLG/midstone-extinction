{
 "cells": [
  {
   "cell_type": "markdown",
   "metadata": {},
   "source": [
    "# This notebook convert location column values to a geoson file because polygon data can't be used in Leaflet in R:"
   ]
  },
  {
   "cell_type": "code",
   "execution_count": 1,
   "metadata": {},
   "outputs": [],
   "source": [
    "import pandas as pd\n",
    "import geopandas as gpd\n",
    "import numpy as np\n",
    "from shapely import wkt"
   ]
  },
  {
   "cell_type": "code",
   "execution_count": 2,
   "metadata": {},
   "outputs": [],
   "source": [
    "### to see all columns\n",
    "pd.set_option('display.max_columns', None)\n",
    "pd.set_option('display.max_rows', None)"
   ]
  },
  {
   "cell_type": "code",
   "execution_count": 3,
   "metadata": {},
   "outputs": [
    {
     "data": {
      "text/html": [
       "<div>\n",
       "<style scoped>\n",
       "    .dataframe tbody tr th:only-of-type {\n",
       "        vertical-align: middle;\n",
       "    }\n",
       "\n",
       "    .dataframe tbody tr th {\n",
       "        vertical-align: top;\n",
       "    }\n",
       "\n",
       "    .dataframe thead th {\n",
       "        text-align: right;\n",
       "    }\n",
       "</style>\n",
       "<table border=\"1\" class=\"dataframe\">\n",
       "  <thead>\n",
       "    <tr style=\"text-align: right;\">\n",
       "      <th></th>\n",
       "      <th>common_name</th>\n",
       "      <th>scientific_name</th>\n",
       "      <th>species_group</th>\n",
       "      <th>esa_status</th>\n",
       "      <th>foreign_or_domestic</th>\n",
       "      <th>image_url_full</th>\n",
       "      <th>location</th>\n",
       "      <th>country</th>\n",
       "      <th>food</th>\n",
       "      <th>habitat_requirements</th>\n",
       "      <th>home_range</th>\n",
       "      <th>cause</th>\n",
       "      <th>reproduction</th>\n",
       "      <th>description</th>\n",
       "    </tr>\n",
       "  </thead>\n",
       "  <tbody>\n",
       "    <tr>\n",
       "      <th>0</th>\n",
       "      <td>Akekee</td>\n",
       "      <td>Loxops caeruleirostris</td>\n",
       "      <td>Birds</td>\n",
       "      <td>Endangered</td>\n",
       "      <td>Domestic</td>\n",
       "      <td>https://ecos.fws.gov/docs/species_images/doc46...</td>\n",
       "      <td>POLYGON((-160.30501096653 21.7282346819371,-16...</td>\n",
       "      <td>United States</td>\n",
       "      <td>The 'Akeke'e  feeds mostly on spiders, psyllid...</td>\n",
       "      <td>The 'Akeke'e inhabits Lowland Mesic and Wet Fo...</td>\n",
       "      <td>The 'Akeke'e is endemic to Kaua'i Island of th...</td>\n",
       "      <td>The 'Akeke'e population appears to have remain...</td>\n",
       "      <td>The 'Akeke'e  nests in open-cup nests located ...</td>\n",
       "      <td>The 'Akeke'e is a small Hawaiian honeycreeper....</td>\n",
       "    </tr>\n",
       "    <tr>\n",
       "      <th>1</th>\n",
       "      <td>Polar bear</td>\n",
       "      <td>Ursus maritimus</td>\n",
       "      <td>Mammals</td>\n",
       "      <td>Threatened</td>\n",
       "      <td>Both Domestic and Foreign</td>\n",
       "      <td>https://ecos.fws.gov/docs/species_images/doc50...</td>\n",
       "      <td>POLYGON((-174.837571354155 59.7457496094217,-1...</td>\n",
       "      <td>Canada</td>\n",
       "      <td>No information available</td>\n",
       "      <td>No information available</td>\n",
       "      <td>No information available</td>\n",
       "      <td>No information available</td>\n",
       "      <td>No information available</td>\n",
       "      <td>Polar bears are protected under the Marine Mam...</td>\n",
       "    </tr>\n",
       "    <tr>\n",
       "      <th>2</th>\n",
       "      <td>Pitcher's thistle</td>\n",
       "      <td>Cirsium pitcheri</td>\n",
       "      <td>Flowering Plants</td>\n",
       "      <td>Threatened</td>\n",
       "      <td>Both Domestic and Foreign</td>\n",
       "      <td>https://ecos.fws.gov/docs/species_images/doc50...</td>\n",
       "      <td>POLYGON((-88.2001819788612 41.1621947025267,-8...</td>\n",
       "      <td>Canada</td>\n",
       "      <td>No information available</td>\n",
       "      <td>No information available</td>\n",
       "      <td>No information available</td>\n",
       "      <td>No information available</td>\n",
       "      <td>No information available</td>\n",
       "      <td>No information available</td>\n",
       "    </tr>\n",
       "    <tr>\n",
       "      <th>3</th>\n",
       "      <td>Piping Plover</td>\n",
       "      <td>Charadrius melodus</td>\n",
       "      <td>Birds</td>\n",
       "      <td>Endangered</td>\n",
       "      <td>Both Domestic and Foreign</td>\n",
       "      <td>https://ecos.fws.gov/docs/species_images/doc37...</td>\n",
       "      <td>POLYGON((-93.0885545621889 37.8619826666356,-9...</td>\n",
       "      <td>Canada</td>\n",
       "      <td>No information available</td>\n",
       "      <td>No information available</td>\n",
       "      <td>No information available</td>\n",
       "      <td>No information available</td>\n",
       "      <td>No information available</td>\n",
       "      <td>Size: 18 cm (7.25 in) in length. Color: Breedi...</td>\n",
       "    </tr>\n",
       "    <tr>\n",
       "      <th>4</th>\n",
       "      <td>Pink mucket (pearlymussel)</td>\n",
       "      <td>Lampsilis abrupta</td>\n",
       "      <td>Clams</td>\n",
       "      <td>Endangered</td>\n",
       "      <td>Domestic</td>\n",
       "      <td>https://ecos.fws.gov/docs/species_images/doc49...</td>\n",
       "      <td>POLYGON((-93.8616440305422 32.505883021288,-93...</td>\n",
       "      <td>United States</td>\n",
       "      <td>Suspension feeder on plankton; deposit feeder ...</td>\n",
       "      <td>Relatively silt-free substrates of sand, grave...</td>\n",
       "      <td>Sedentary.</td>\n",
       "      <td>No information available</td>\n",
       "      <td>Separate sexes, males releasing sperm to water...</td>\n",
       "      <td>No information available</td>\n",
       "    </tr>\n",
       "  </tbody>\n",
       "</table>\n",
       "</div>"
      ],
      "text/plain": [
       "                  common_name         scientific_name     species_group  \\\n",
       "0                      Akekee  Loxops caeruleirostris             Birds   \n",
       "1                  Polar bear         Ursus maritimus           Mammals   \n",
       "2           Pitcher's thistle        Cirsium pitcheri  Flowering Plants   \n",
       "3               Piping Plover      Charadrius melodus             Birds   \n",
       "4  Pink mucket (pearlymussel)       Lampsilis abrupta             Clams   \n",
       "\n",
       "   esa_status        foreign_or_domestic  \\\n",
       "0  Endangered                   Domestic   \n",
       "1  Threatened  Both Domestic and Foreign   \n",
       "2  Threatened  Both Domestic and Foreign   \n",
       "3  Endangered  Both Domestic and Foreign   \n",
       "4  Endangered                   Domestic   \n",
       "\n",
       "                                      image_url_full  \\\n",
       "0  https://ecos.fws.gov/docs/species_images/doc46...   \n",
       "1  https://ecos.fws.gov/docs/species_images/doc50...   \n",
       "2  https://ecos.fws.gov/docs/species_images/doc50...   \n",
       "3  https://ecos.fws.gov/docs/species_images/doc37...   \n",
       "4  https://ecos.fws.gov/docs/species_images/doc49...   \n",
       "\n",
       "                                            location        country  \\\n",
       "0  POLYGON((-160.30501096653 21.7282346819371,-16...  United States   \n",
       "1  POLYGON((-174.837571354155 59.7457496094217,-1...         Canada   \n",
       "2  POLYGON((-88.2001819788612 41.1621947025267,-8...         Canada   \n",
       "3  POLYGON((-93.0885545621889 37.8619826666356,-9...         Canada   \n",
       "4  POLYGON((-93.8616440305422 32.505883021288,-93...  United States   \n",
       "\n",
       "                                                food  \\\n",
       "0  The 'Akeke'e  feeds mostly on spiders, psyllid...   \n",
       "1                           No information available   \n",
       "2                           No information available   \n",
       "3                           No information available   \n",
       "4  Suspension feeder on plankton; deposit feeder ...   \n",
       "\n",
       "                                habitat_requirements  \\\n",
       "0  The 'Akeke'e inhabits Lowland Mesic and Wet Fo...   \n",
       "1                           No information available   \n",
       "2                           No information available   \n",
       "3                           No information available   \n",
       "4  Relatively silt-free substrates of sand, grave...   \n",
       "\n",
       "                                          home_range  \\\n",
       "0  The 'Akeke'e is endemic to Kaua'i Island of th...   \n",
       "1                           No information available   \n",
       "2                           No information available   \n",
       "3                           No information available   \n",
       "4                                         Sedentary.   \n",
       "\n",
       "                                               cause  \\\n",
       "0  The 'Akeke'e population appears to have remain...   \n",
       "1                           No information available   \n",
       "2                           No information available   \n",
       "3                           No information available   \n",
       "4                           No information available   \n",
       "\n",
       "                                        reproduction  \\\n",
       "0  The 'Akeke'e  nests in open-cup nests located ...   \n",
       "1                           No information available   \n",
       "2                           No information available   \n",
       "3                           No information available   \n",
       "4  Separate sexes, males releasing sperm to water...   \n",
       "\n",
       "                                         description  \n",
       "0  The 'Akeke'e is a small Hawaiian honeycreeper....  \n",
       "1  Polar bears are protected under the Marine Mam...  \n",
       "2                           No information available  \n",
       "3  Size: 18 cm (7.25 in) in length. Color: Breedi...  \n",
       "4                           No information available  "
      ]
     },
     "execution_count": 3,
     "metadata": {},
     "output_type": "execute_result"
    }
   ],
   "source": [
    "### Read the cleaned csv file\n",
    "ecos_us_ca = pd.read_csv(\"../data/ecos_end_species_us_ca_clean.csv\")\n",
    "ecos_us_ca.head()"
   ]
  },
  {
   "cell_type": "markdown",
   "metadata": {},
   "source": [
    "## 1- final cleaning before geospatial conversion:"
   ]
  },
  {
   "cell_type": "markdown",
   "metadata": {},
   "source": [
    "### 1- Column \"common_name\" and \"No common name\" multiple values:"
   ]
  },
  {
   "cell_type": "markdown",
   "metadata": {},
   "source": [
    "### For Df us_ca"
   ]
  },
  {
   "cell_type": "code",
   "execution_count": 4,
   "metadata": {},
   "outputs": [],
   "source": [
    "### There is 7 species with no common name and I need to modify it to be able to differenciate them for the app\n",
    "### look at the rows numbers:\n",
    "#ecos_us_ca.loc[:, \"common_name\"]"
   ]
  },
  {
   "cell_type": "markdown",
   "metadata": {},
   "source": [
    "there are located in rows 57, 59, 60, 61, 62, 63, 66"
   ]
  },
  {
   "cell_type": "code",
   "execution_count": 5,
   "metadata": {},
   "outputs": [
    {
     "data": {
      "text/plain": [
       "common_name                               Northeastern beach tiger beetle\n",
       "scientific_name                               Cicindela dorsalis dorsalis\n",
       "species_group                                                     Insects\n",
       "esa_status                                                     Threatened\n",
       "foreign_or_domestic                                              Domestic\n",
       "image_url_full          https://ecos.fws.gov/docs/species_images/doc48...\n",
       "location                POLYGON((-76.5301458997165 37.080589428058,-76...\n",
       "country                                                     United States\n",
       "food                    Adults are active predators that forage on sma...\n",
       "habitat_requirements    Adult and larval tiger beetles are found on lo...\n",
       "home_range              Once abundant along coastal beaches from Massa...\n",
       "cause                   Few northeastern beach tiger beetle sites are ...\n",
       "reproduction            Adults are primarily active from June to Septe...\n",
       "description             The largest (13-15 mm) of the recognized subsp...\n",
       "Name: 65, dtype: object"
      ]
     },
     "execution_count": 5,
     "metadata": {},
     "output_type": "execute_result"
    }
   ],
   "source": [
    "ecos_us_ca.iloc[65, :]"
   ]
  },
  {
   "cell_type": "code",
   "execution_count": 6,
   "metadata": {},
   "outputs": [],
   "source": [
    "### Aristida chaseae\n",
    "mask = (ecos_us_ca['common_name'] == \"No common name\") & (ecos_us_ca['scientific_name'] == \"Aristida chaseae\")\n",
    "ecos_us_ca['common_name'][mask] = \"Chase's threeawn\""
   ]
  },
  {
   "cell_type": "code",
   "execution_count": 7,
   "metadata": {},
   "outputs": [],
   "source": [
    "### Chamaecrista glandulosa var. mirabilis\n",
    "mask = (ecos_us_ca['common_name'] == \"No common name\") & (ecos_us_ca['scientific_name'] == \"Chamaecrista glandulosa var. mirabilis\")\n",
    "ecos_us_ca['common_name'][mask] = \"Cassia mirabilis\""
   ]
  },
  {
   "cell_type": "code",
   "execution_count": 8,
   "metadata": {},
   "outputs": [],
   "source": [
    "### Lepanthes eltoroensis\n",
    "mask = (ecos_us_ca['common_name'] == \"No common name\") & (ecos_us_ca['scientific_name'] == \"Lepanthes eltoroensis\")\n",
    "ecos_us_ca['common_name'][mask] = \"Luquillo Mountain babyboot orchid\""
   ]
  },
  {
   "cell_type": "code",
   "execution_count": 9,
   "metadata": {},
   "outputs": [],
   "source": [
    "### Lyonia truncata var. proctorii (there is really no common name so I change it for the scientific name otherwise I can't separate it with other no common name species)\n",
    "mask = (ecos_us_ca['common_name'] == \"No common name\") & (ecos_us_ca['scientific_name'] == \"Lyonia truncata var. proctorii\")\n",
    "ecos_us_ca['common_name'][mask] = \"No common name 1\""
   ]
  },
  {
   "cell_type": "code",
   "execution_count": 10,
   "metadata": {},
   "outputs": [],
   "source": [
    "### Schoepfia arenaria (there is also no common name for this species so I change it for the scientific name\n",
    "mask = (ecos_us_ca['common_name'] == \"No common name\") & (ecos_us_ca['scientific_name'] == \"Schoepfia arenaria\")\n",
    "ecos_us_ca['common_name'][mask] = \"No common name 2\""
   ]
  },
  {
   "cell_type": "code",
   "execution_count": 11,
   "metadata": {},
   "outputs": [],
   "source": [
    "### Vernonia proctorii\n",
    "mask = (ecos_us_ca['common_name'] == \"No common name\") & (ecos_us_ca['scientific_name'] == \"Vernonia proctorii\")\n",
    "ecos_us_ca['common_name'][mask] = \"Proctor's ironweed\""
   ]
  },
  {
   "cell_type": "code",
   "execution_count": 12,
   "metadata": {},
   "outputs": [],
   "source": [
    "### Cranichis ricartii\n",
    "mask = (ecos_us_ca['common_name'] == \"No common name\") & (ecos_us_ca['scientific_name'] == \"Cranichis ricartii\")\n",
    "ecos_us_ca['common_name'][mask] = \"Puerto Rico helmet orchid\""
   ]
  },
  {
   "cell_type": "code",
   "execution_count": 13,
   "metadata": {
    "scrolled": false
   },
   "outputs": [
    {
     "data": {
      "text/plain": [
       "common_name    0\n",
       "dtype: int64"
      ]
     },
     "execution_count": 13,
     "metadata": {},
     "output_type": "execute_result"
    }
   ],
   "source": [
    "### Check if there is \"No common name\" values left:\n",
    "ecos_us_ca[[\"common_name\"]].eq(\"No common name\").sum()"
   ]
  },
  {
   "cell_type": "markdown",
   "metadata": {},
   "source": [
    "### For Df all countries"
   ]
  },
  {
   "cell_type": "code",
   "execution_count": 14,
   "metadata": {},
   "outputs": [
    {
     "data": {
      "text/html": [
       "<div>\n",
       "<style scoped>\n",
       "    .dataframe tbody tr th:only-of-type {\n",
       "        vertical-align: middle;\n",
       "    }\n",
       "\n",
       "    .dataframe tbody tr th {\n",
       "        vertical-align: top;\n",
       "    }\n",
       "\n",
       "    .dataframe thead th {\n",
       "        text-align: right;\n",
       "    }\n",
       "</style>\n",
       "<table border=\"1\" class=\"dataframe\">\n",
       "  <thead>\n",
       "    <tr style=\"text-align: right;\">\n",
       "      <th></th>\n",
       "      <th>common_name</th>\n",
       "      <th>scientific_name</th>\n",
       "      <th>species_group</th>\n",
       "      <th>esa_status</th>\n",
       "      <th>foreign_or_domestic</th>\n",
       "      <th>image_url_full</th>\n",
       "      <th>location</th>\n",
       "      <th>country</th>\n",
       "      <th>food</th>\n",
       "      <th>habitat_requirements</th>\n",
       "      <th>home_range</th>\n",
       "      <th>cause</th>\n",
       "      <th>reproduction</th>\n",
       "      <th>description</th>\n",
       "    </tr>\n",
       "  </thead>\n",
       "  <tbody>\n",
       "    <tr>\n",
       "      <th>0</th>\n",
       "      <td>Akekee</td>\n",
       "      <td>Loxops caeruleirostris</td>\n",
       "      <td>Birds</td>\n",
       "      <td>Endangered</td>\n",
       "      <td>Domestic</td>\n",
       "      <td>https://ecos.fws.gov/docs/species_images/doc46...</td>\n",
       "      <td>POLYGON((-160.30501096653 21.7282346819371,-16...</td>\n",
       "      <td>United States</td>\n",
       "      <td>The 'Akeke'e  feeds mostly on spiders, psyllid...</td>\n",
       "      <td>The 'Akeke'e inhabits Lowland Mesic and Wet Fo...</td>\n",
       "      <td>The 'Akeke'e is endemic to Kaua'i Island of th...</td>\n",
       "      <td>The 'Akeke'e population appears to have remain...</td>\n",
       "      <td>The 'Akeke'e  nests in open-cup nests located ...</td>\n",
       "      <td>The 'Akeke'e is a small Hawaiian honeycreeper....</td>\n",
       "    </tr>\n",
       "    <tr>\n",
       "      <th>1</th>\n",
       "      <td>Polar bear</td>\n",
       "      <td>Ursus maritimus</td>\n",
       "      <td>Mammals</td>\n",
       "      <td>Threatened</td>\n",
       "      <td>Both Domestic and Foreign</td>\n",
       "      <td>https://ecos.fws.gov/docs/species_images/doc50...</td>\n",
       "      <td>POLYGON((-174.837571354155 59.7457496094217,-1...</td>\n",
       "      <td>Canada</td>\n",
       "      <td>No information available</td>\n",
       "      <td>No information available</td>\n",
       "      <td>No information available</td>\n",
       "      <td>No information available</td>\n",
       "      <td>No information available</td>\n",
       "      <td>Polar bears are protected under the Marine Mam...</td>\n",
       "    </tr>\n",
       "    <tr>\n",
       "      <th>2</th>\n",
       "      <td>Pitcher's thistle</td>\n",
       "      <td>Cirsium pitcheri</td>\n",
       "      <td>Flowering Plants</td>\n",
       "      <td>Threatened</td>\n",
       "      <td>Both Domestic and Foreign</td>\n",
       "      <td>https://ecos.fws.gov/docs/species_images/doc50...</td>\n",
       "      <td>POLYGON((-88.2001819788612 41.1621947025267,-8...</td>\n",
       "      <td>Canada</td>\n",
       "      <td>No information available</td>\n",
       "      <td>No information available</td>\n",
       "      <td>No information available</td>\n",
       "      <td>No information available</td>\n",
       "      <td>No information available</td>\n",
       "      <td>No information available</td>\n",
       "    </tr>\n",
       "    <tr>\n",
       "      <th>3</th>\n",
       "      <td>Piping Plover</td>\n",
       "      <td>Charadrius melodus</td>\n",
       "      <td>Birds</td>\n",
       "      <td>Endangered</td>\n",
       "      <td>Both Domestic and Foreign</td>\n",
       "      <td>https://ecos.fws.gov/docs/species_images/doc37...</td>\n",
       "      <td>POLYGON((-93.0885545621889 37.8619826666356,-9...</td>\n",
       "      <td>Canada</td>\n",
       "      <td>No information available</td>\n",
       "      <td>No information available</td>\n",
       "      <td>No information available</td>\n",
       "      <td>No information available</td>\n",
       "      <td>No information available</td>\n",
       "      <td>Size: 18 cm (7.25 in) in length. Color: Breedi...</td>\n",
       "    </tr>\n",
       "    <tr>\n",
       "      <th>4</th>\n",
       "      <td>Pink mucket (pearlymussel)</td>\n",
       "      <td>Lampsilis abrupta</td>\n",
       "      <td>Clams</td>\n",
       "      <td>Endangered</td>\n",
       "      <td>Domestic</td>\n",
       "      <td>https://ecos.fws.gov/docs/species_images/doc49...</td>\n",
       "      <td>POLYGON((-93.8616440305422 32.505883021288,-93...</td>\n",
       "      <td>United States</td>\n",
       "      <td>Suspension feeder on plankton; deposit feeder ...</td>\n",
       "      <td>Relatively silt-free substrates of sand, grave...</td>\n",
       "      <td>Sedentary.</td>\n",
       "      <td>No information available</td>\n",
       "      <td>Separate sexes, males releasing sperm to water...</td>\n",
       "      <td>No information available</td>\n",
       "    </tr>\n",
       "  </tbody>\n",
       "</table>\n",
       "</div>"
      ],
      "text/plain": [
       "                  common_name         scientific_name     species_group  \\\n",
       "0                      Akekee  Loxops caeruleirostris             Birds   \n",
       "1                  Polar bear         Ursus maritimus           Mammals   \n",
       "2           Pitcher's thistle        Cirsium pitcheri  Flowering Plants   \n",
       "3               Piping Plover      Charadrius melodus             Birds   \n",
       "4  Pink mucket (pearlymussel)       Lampsilis abrupta             Clams   \n",
       "\n",
       "   esa_status        foreign_or_domestic  \\\n",
       "0  Endangered                   Domestic   \n",
       "1  Threatened  Both Domestic and Foreign   \n",
       "2  Threatened  Both Domestic and Foreign   \n",
       "3  Endangered  Both Domestic and Foreign   \n",
       "4  Endangered                   Domestic   \n",
       "\n",
       "                                      image_url_full  \\\n",
       "0  https://ecos.fws.gov/docs/species_images/doc46...   \n",
       "1  https://ecos.fws.gov/docs/species_images/doc50...   \n",
       "2  https://ecos.fws.gov/docs/species_images/doc50...   \n",
       "3  https://ecos.fws.gov/docs/species_images/doc37...   \n",
       "4  https://ecos.fws.gov/docs/species_images/doc49...   \n",
       "\n",
       "                                            location        country  \\\n",
       "0  POLYGON((-160.30501096653 21.7282346819371,-16...  United States   \n",
       "1  POLYGON((-174.837571354155 59.7457496094217,-1...         Canada   \n",
       "2  POLYGON((-88.2001819788612 41.1621947025267,-8...         Canada   \n",
       "3  POLYGON((-93.0885545621889 37.8619826666356,-9...         Canada   \n",
       "4  POLYGON((-93.8616440305422 32.505883021288,-93...  United States   \n",
       "\n",
       "                                                food  \\\n",
       "0  The 'Akeke'e  feeds mostly on spiders, psyllid...   \n",
       "1                           No information available   \n",
       "2                           No information available   \n",
       "3                           No information available   \n",
       "4  Suspension feeder on plankton; deposit feeder ...   \n",
       "\n",
       "                                habitat_requirements  \\\n",
       "0  The 'Akeke'e inhabits Lowland Mesic and Wet Fo...   \n",
       "1                           No information available   \n",
       "2                           No information available   \n",
       "3                           No information available   \n",
       "4  Relatively silt-free substrates of sand, grave...   \n",
       "\n",
       "                                          home_range  \\\n",
       "0  The 'Akeke'e is endemic to Kaua'i Island of th...   \n",
       "1                           No information available   \n",
       "2                           No information available   \n",
       "3                           No information available   \n",
       "4                                         Sedentary.   \n",
       "\n",
       "                                               cause  \\\n",
       "0  The 'Akeke'e population appears to have remain...   \n",
       "1                           No information available   \n",
       "2                           No information available   \n",
       "3                           No information available   \n",
       "4                           No information available   \n",
       "\n",
       "                                        reproduction  \\\n",
       "0  The 'Akeke'e  nests in open-cup nests located ...   \n",
       "1                           No information available   \n",
       "2                           No information available   \n",
       "3                           No information available   \n",
       "4  Separate sexes, males releasing sperm to water...   \n",
       "\n",
       "                                         description  \n",
       "0  The 'Akeke'e is a small Hawaiian honeycreeper....  \n",
       "1  Polar bears are protected under the Marine Mam...  \n",
       "2                           No information available  \n",
       "3  Size: 18 cm (7.25 in) in length. Color: Breedi...  \n",
       "4                           No information available  "
      ]
     },
     "execution_count": 14,
     "metadata": {},
     "output_type": "execute_result"
    }
   ],
   "source": [
    "### Read the cleaned csv file\n",
    "ecos_all_countries = pd.read_csv(\"../data/ecos_end_species_us_ca_clean.csv\")\n",
    "ecos_all_countries.head()"
   ]
  },
  {
   "cell_type": "code",
   "execution_count": 15,
   "metadata": {},
   "outputs": [],
   "source": [
    "### There is 7 species with no common name and I need to modify it to be able to differenciate them for the app\n",
    "### look at the rows numbers:\n",
    "#ecos_all_countries.loc[:, \"common_name\"]"
   ]
  },
  {
   "cell_type": "markdown",
   "metadata": {},
   "source": [
    "there are located in rows 128, 135, 136, 137, 139, 140, 141 "
   ]
  },
  {
   "cell_type": "code",
   "execution_count": 16,
   "metadata": {},
   "outputs": [],
   "source": [
    "### Aristida chaseae\n",
    "mask = (ecos_all_countries['common_name'] == \"No common name\") & (ecos_all_countries['scientific_name'] == \"Aristida chaseae\")\n",
    "ecos_all_countries['common_name'][mask] = \"Chase's threeawn\""
   ]
  },
  {
   "cell_type": "code",
   "execution_count": 17,
   "metadata": {},
   "outputs": [],
   "source": [
    "### Chamaecrista glandulosa var. mirabilis\n",
    "mask = (ecos_all_countries['common_name'] == \"No common name\") & (ecos_all_countries['scientific_name'] == \"Chamaecrista glandulosa var. mirabilis\")\n",
    "ecos_all_countries['common_name'][mask] = \"Cassia mirabilis\""
   ]
  },
  {
   "cell_type": "code",
   "execution_count": 18,
   "metadata": {},
   "outputs": [],
   "source": [
    "### Lepanthes eltoroensis\n",
    "mask = (ecos_all_countries['common_name'] == \"No common name\") & (ecos_all_countries['scientific_name'] == \"Lepanthes eltoroensis\")\n",
    "ecos_all_countries['common_name'][mask] = \"Luquillo Mountain babyboot orchid\""
   ]
  },
  {
   "cell_type": "code",
   "execution_count": 19,
   "metadata": {},
   "outputs": [],
   "source": [
    "### Lyonia truncata var. proctorii (there is really no common name so I change it for the scientific name otherwise I can't separate it with other no common name species)\n",
    "mask = (ecos_all_countries['common_name'] == \"No common name\") & (ecos_all_countries['scientific_name'] == \"Lyonia truncata var. proctorii\")\n",
    "ecos_all_countries['common_name'][mask] = \"No common name 1\""
   ]
  },
  {
   "cell_type": "code",
   "execution_count": 20,
   "metadata": {},
   "outputs": [],
   "source": [
    "### Schoepfia arenaria (there is also no common name for this species so I change it for the scientific name\n",
    "mask = (ecos_all_countries['common_name'] == \"No common name\") & (ecos_all_countries['scientific_name'] == \"Schoepfia arenaria\")\n",
    "ecos_all_countries['common_name'][mask] = \"No common name 2\""
   ]
  },
  {
   "cell_type": "code",
   "execution_count": 21,
   "metadata": {},
   "outputs": [],
   "source": [
    "### Vernonia proctorii\n",
    "mask = (ecos_all_countries['common_name'] == \"No common name\") & (ecos_all_countries['scientific_name'] == \"Vernonia proctorii\")\n",
    "ecos_all_countries['common_name'][mask] = \"Proctor's ironweed\""
   ]
  },
  {
   "cell_type": "code",
   "execution_count": 22,
   "metadata": {},
   "outputs": [],
   "source": [
    "### Cranichis ricartii\n",
    "mask = (ecos_all_countries['common_name'] == \"No common name\") & (ecos_all_countries['scientific_name'] == \"Cranichis ricartii\")\n",
    "ecos_all_countries['common_name'][mask] = \"Puerto Rico helmet orchid\""
   ]
  },
  {
   "cell_type": "code",
   "execution_count": 23,
   "metadata": {},
   "outputs": [
    {
     "data": {
      "text/plain": [
       "common_name    0\n",
       "dtype: int64"
      ]
     },
     "execution_count": 23,
     "metadata": {},
     "output_type": "execute_result"
    }
   ],
   "source": [
    "### Check if there is \"No common name\" values left:\n",
    "ecos_all_countries[[\"common_name\"]].eq(\"No common name\").sum()"
   ]
  },
  {
   "cell_type": "markdown",
   "metadata": {},
   "source": [
    "### 2- Prepare dataframe for geo conversion:"
   ]
  },
  {
   "cell_type": "markdown",
   "metadata": {},
   "source": [
    "### Df Us and canada"
   ]
  },
  {
   "cell_type": "code",
   "execution_count": 24,
   "metadata": {},
   "outputs": [
    {
     "data": {
      "text/plain": [
       "(434, 14)"
      ]
     },
     "execution_count": 24,
     "metadata": {},
     "output_type": "execute_result"
    }
   ],
   "source": [
    "### 436 rows\n",
    "ecos_us_ca.shape"
   ]
  },
  {
   "cell_type": "code",
   "execution_count": 25,
   "metadata": {},
   "outputs": [],
   "source": [
    "### There is 5 missing polygones so unfortunately I have to drop them... or I can't convert into geojson (other columns do not contain missing values).\n",
    "ecos_us_ca = ecos_us_ca[ecos_us_ca[\"location\"].notnull()]"
   ]
  },
  {
   "cell_type": "code",
   "execution_count": 26,
   "metadata": {},
   "outputs": [
    {
     "data": {
      "text/plain": [
       "(429, 14)"
      ]
     },
     "execution_count": 26,
     "metadata": {},
     "output_type": "execute_result"
    }
   ],
   "source": [
    "### 429 rows left\n",
    "ecos_us_ca.shape"
   ]
  },
  {
   "cell_type": "markdown",
   "metadata": {},
   "source": [
    "### Df all contries"
   ]
  },
  {
   "cell_type": "code",
   "execution_count": 27,
   "metadata": {},
   "outputs": [
    {
     "data": {
      "text/plain": [
       "(434, 14)"
      ]
     },
     "execution_count": 27,
     "metadata": {},
     "output_type": "execute_result"
    }
   ],
   "source": [
    "### 436 rows\n",
    "ecos_all_countries.shape"
   ]
  },
  {
   "cell_type": "code",
   "execution_count": 28,
   "metadata": {},
   "outputs": [],
   "source": [
    "### There is 5 missing polygones so unfortunately I have to drop them... or I can't convert into geojson (other columns do not contain missing values).\n",
    "ecos_all_countries = ecos_all_countries[ecos_all_countries[\"location\"].notnull()]"
   ]
  },
  {
   "cell_type": "code",
   "execution_count": 29,
   "metadata": {},
   "outputs": [
    {
     "data": {
      "text/plain": [
       "(429, 14)"
      ]
     },
     "execution_count": 29,
     "metadata": {},
     "output_type": "execute_result"
    }
   ],
   "source": [
    "### 429 rows left\n",
    "ecos_all_countries.shape"
   ]
  },
  {
   "cell_type": "markdown",
   "metadata": {},
   "source": [
    "## 2- Df conversion to geojson files:"
   ]
  },
  {
   "cell_type": "markdown",
   "metadata": {},
   "source": [
    "### Df US-canada"
   ]
  },
  {
   "cell_type": "code",
   "execution_count": 30,
   "metadata": {},
   "outputs": [],
   "source": [
    "### The format of the polygon is WKT, so I have to convert it to shapely Polygon (\"https://geopandas.readthedocs.io/en/latest/gallery/create_geopandas_from_pandas.html\")\n",
    "### Make a new column \"geometry\" for the polygon data\n",
    "ecos_us_ca['geometry'] = ecos_us_ca[\"location\"].apply(wkt.loads)"
   ]
  },
  {
   "cell_type": "code",
   "execution_count": 31,
   "metadata": {},
   "outputs": [],
   "source": [
    "ecos_us_ca_geo = gpd.GeoDataFrame(ecos_us_ca)"
   ]
  },
  {
   "cell_type": "code",
   "execution_count": 32,
   "metadata": {},
   "outputs": [],
   "source": [
    "ecos_us_ca_geo.set_geometry(col='geometry', inplace=True)"
   ]
  },
  {
   "cell_type": "code",
   "execution_count": 33,
   "metadata": {},
   "outputs": [],
   "source": [
    "### Save the geodata\n",
    "ecos_us_ca_geo.to_file(\"../data/ecos_us_ca_geo.geojson\")"
   ]
  },
  {
   "cell_type": "markdown",
   "metadata": {},
   "source": [
    "### Df all countries"
   ]
  },
  {
   "cell_type": "code",
   "execution_count": 34,
   "metadata": {},
   "outputs": [],
   "source": [
    "### Make a new column \"geometry\" for the polygon data\n",
    "ecos_all_countries['geometry'] = ecos_all_countries[\"location\"].apply(wkt.loads)"
   ]
  },
  {
   "cell_type": "code",
   "execution_count": 35,
   "metadata": {},
   "outputs": [],
   "source": [
    "ecos_all_geo = gpd.GeoDataFrame(ecos_all_countries)"
   ]
  },
  {
   "cell_type": "code",
   "execution_count": 36,
   "metadata": {},
   "outputs": [],
   "source": [
    "ecos_all_geo.set_geometry(col='geometry', inplace=True)"
   ]
  },
  {
   "cell_type": "code",
   "execution_count": 37,
   "metadata": {},
   "outputs": [],
   "source": [
    "### Save the geodata\n",
    "ecos_all_geo.to_file(\"../data/ecos_all_geo.geojson\")"
   ]
  }
 ],
 "metadata": {
  "kernelspec": {
   "display_name": "Python 3",
   "language": "python",
   "name": "python3"
  },
  "language_info": {
   "codemirror_mode": {
    "name": "ipython",
    "version": 3
   },
   "file_extension": ".py",
   "mimetype": "text/x-python",
   "name": "python",
   "nbconvert_exporter": "python",
   "pygments_lexer": "ipython3",
   "version": "3.8.5"
  }
 },
 "nbformat": 4,
 "nbformat_minor": 2
}
