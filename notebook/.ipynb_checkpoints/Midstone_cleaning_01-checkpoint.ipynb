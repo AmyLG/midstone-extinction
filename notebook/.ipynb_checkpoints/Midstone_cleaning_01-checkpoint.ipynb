{
 "cells": [
  {
   "cell_type": "code",
   "execution_count": 1,
   "metadata": {},
   "outputs": [],
   "source": [
    "import pandas as pd\n",
    "import numpy as np"
   ]
  },
  {
   "cell_type": "code",
   "execution_count": 2,
   "metadata": {},
   "outputs": [],
   "source": [
    "### to see all columns\n",
    "pd.set_option('display.max_columns', None)"
   ]
  },
  {
   "cell_type": "code",
   "execution_count": 3,
   "metadata": {},
   "outputs": [
    {
     "data": {
      "text/html": [
       "<div>\n",
       "<style scoped>\n",
       "    .dataframe tbody tr th:only-of-type {\n",
       "        vertical-align: middle;\n",
       "    }\n",
       "\n",
       "    .dataframe tbody tr th {\n",
       "        vertical-align: top;\n",
       "    }\n",
       "\n",
       "    .dataframe thead th {\n",
       "        text-align: right;\n",
       "    }\n",
       "</style>\n",
       "<table border=\"1\" class=\"dataframe\">\n",
       "  <thead>\n",
       "    <tr style=\"text-align: right;\">\n",
       "      <th></th>\n",
       "      <th>Scientific Name</th>\n",
       "      <th>Scientific Name_url</th>\n",
       "      <th>Common Name</th>\n",
       "      <th>Inverted Common Name</th>\n",
       "      <th>ECOS Species ID</th>\n",
       "      <th>Species Group</th>\n",
       "      <th>ESA Listing Status</th>\n",
       "      <th>ESA Listing Date</th>\n",
       "      <th>Entity Description</th>\n",
       "      <th>Foreign or Domestic</th>\n",
       "      <th>Lead Agency</th>\n",
       "      <th>Range Envelope</th>\n",
       "      <th>Range Shapefile</th>\n",
       "      <th>Range Shapefile_url</th>\n",
       "      <th>Image URL</th>\n",
       "      <th>Image URL_url</th>\n",
       "      <th>Conservation Plan Type</th>\n",
       "      <th>Country Name</th>\n",
       "      <th>State Abbreviation</th>\n",
       "      <th>State Name</th>\n",
       "    </tr>\n",
       "  </thead>\n",
       "  <tbody>\n",
       "    <tr>\n",
       "      <th>0</th>\n",
       "      <td>Acanthomintha ilicifolia</td>\n",
       "      <td>https://ecos.fws.gov/ecp/species/351</td>\n",
       "      <td>San Diego thornmint</td>\n",
       "      <td>Thornmint, San Diego</td>\n",
       "      <td>351</td>\n",
       "      <td>Flowering Plants</td>\n",
       "      <td>Threatened</td>\n",
       "      <td>10-13-1998</td>\n",
       "      <td>Wherever found</td>\n",
       "      <td>Both Domestic and Foreign</td>\n",
       "      <td>FWS</td>\n",
       "      <td>POLYGON((-117.484880239914 32.5394076799656,-1...</td>\n",
       "      <td>usfws_Q00E_P01_Acanthomintha_ilicifolia_curren...</td>\n",
       "      <td>https://ecos.fws.gov/docs/species/shapefiles/u...</td>\n",
       "      <td>/docs/species_images/doc5153.jpg</td>\n",
       "      <td>https://ecos.fws.gov/docs/species_images/doc51...</td>\n",
       "      <td>HCP</td>\n",
       "      <td>Mexico</td>\n",
       "      <td>CA</td>\n",
       "      <td>California</td>\n",
       "    </tr>\n",
       "    <tr>\n",
       "      <th>1</th>\n",
       "      <td>Acanthomintha ilicifolia</td>\n",
       "      <td>https://ecos.fws.gov/ecp/species/351</td>\n",
       "      <td>San Diego thornmint</td>\n",
       "      <td>Thornmint, San Diego</td>\n",
       "      <td>351</td>\n",
       "      <td>Flowering Plants</td>\n",
       "      <td>Threatened</td>\n",
       "      <td>10-13-1998</td>\n",
       "      <td>Wherever found</td>\n",
       "      <td>Both Domestic and Foreign</td>\n",
       "      <td>FWS</td>\n",
       "      <td>POLYGON((-117.484880239914 32.5394076799656,-1...</td>\n",
       "      <td>usfws_Q00E_P01_Acanthomintha_ilicifolia_curren...</td>\n",
       "      <td>https://ecos.fws.gov/docs/species/shapefiles/u...</td>\n",
       "      <td>/docs/species_images/doc5153.jpg</td>\n",
       "      <td>https://ecos.fws.gov/docs/species_images/doc51...</td>\n",
       "      <td>HCP</td>\n",
       "      <td>Mexico</td>\n",
       "      <td>CA</td>\n",
       "      <td>California</td>\n",
       "    </tr>\n",
       "    <tr>\n",
       "      <th>2</th>\n",
       "      <td>Acanthomintha ilicifolia</td>\n",
       "      <td>https://ecos.fws.gov/ecp/species/351</td>\n",
       "      <td>San Diego thornmint</td>\n",
       "      <td>Thornmint, San Diego</td>\n",
       "      <td>351</td>\n",
       "      <td>Flowering Plants</td>\n",
       "      <td>Threatened</td>\n",
       "      <td>10-13-1998</td>\n",
       "      <td>Wherever found</td>\n",
       "      <td>Both Domestic and Foreign</td>\n",
       "      <td>FWS</td>\n",
       "      <td>POLYGON((-117.484880239914 32.5394076799656,-1...</td>\n",
       "      <td>usfws_Q00E_P01_Acanthomintha_ilicifolia_curren...</td>\n",
       "      <td>https://ecos.fws.gov/docs/species/shapefiles/u...</td>\n",
       "      <td>/docs/species_images/doc5153.jpg</td>\n",
       "      <td>https://ecos.fws.gov/docs/species_images/doc51...</td>\n",
       "      <td>HCP</td>\n",
       "      <td>United States</td>\n",
       "      <td>CA</td>\n",
       "      <td>California</td>\n",
       "    </tr>\n",
       "    <tr>\n",
       "      <th>3</th>\n",
       "      <td>Acanthomintha ilicifolia</td>\n",
       "      <td>https://ecos.fws.gov/ecp/species/351</td>\n",
       "      <td>San Diego thornmint</td>\n",
       "      <td>Thornmint, San Diego</td>\n",
       "      <td>351</td>\n",
       "      <td>Flowering Plants</td>\n",
       "      <td>Threatened</td>\n",
       "      <td>10-13-1998</td>\n",
       "      <td>Wherever found</td>\n",
       "      <td>Both Domestic and Foreign</td>\n",
       "      <td>FWS</td>\n",
       "      <td>POLYGON((-117.484880239914 32.5394076799656,-1...</td>\n",
       "      <td>usfws_Q00E_P01_Acanthomintha_ilicifolia_curren...</td>\n",
       "      <td>https://ecos.fws.gov/docs/species/shapefiles/u...</td>\n",
       "      <td>/docs/species_images/doc5153.jpg</td>\n",
       "      <td>https://ecos.fws.gov/docs/species_images/doc51...</td>\n",
       "      <td>HCP</td>\n",
       "      <td>United States</td>\n",
       "      <td>CA</td>\n",
       "      <td>California</td>\n",
       "    </tr>\n",
       "    <tr>\n",
       "      <th>4</th>\n",
       "      <td>Acanthomintha ilicifolia</td>\n",
       "      <td>https://ecos.fws.gov/ecp/species/351</td>\n",
       "      <td>San Diego thornmint</td>\n",
       "      <td>Thornmint, San Diego</td>\n",
       "      <td>351</td>\n",
       "      <td>Flowering Plants</td>\n",
       "      <td>Threatened</td>\n",
       "      <td>10-13-1998</td>\n",
       "      <td>Wherever found</td>\n",
       "      <td>Both Domestic and Foreign</td>\n",
       "      <td>FWS</td>\n",
       "      <td>POLYGON((-117.484880239914 32.5394076799656,-1...</td>\n",
       "      <td>usfws_Q00E_P01_Acanthomintha_ilicifolia_curren...</td>\n",
       "      <td>https://ecos.fws.gov/docs/species/shapefiles/u...</td>\n",
       "      <td>/docs/species_images/doc5153.jpg</td>\n",
       "      <td>https://ecos.fws.gov/docs/species_images/doc51...</td>\n",
       "      <td>HCP</td>\n",
       "      <td>Mexico</td>\n",
       "      <td>CA</td>\n",
       "      <td>California</td>\n",
       "    </tr>\n",
       "  </tbody>\n",
       "</table>\n",
       "</div>"
      ],
      "text/plain": [
       "            Scientific Name                   Scientific Name_url  \\\n",
       "0  Acanthomintha ilicifolia  https://ecos.fws.gov/ecp/species/351   \n",
       "1  Acanthomintha ilicifolia  https://ecos.fws.gov/ecp/species/351   \n",
       "2  Acanthomintha ilicifolia  https://ecos.fws.gov/ecp/species/351   \n",
       "3  Acanthomintha ilicifolia  https://ecos.fws.gov/ecp/species/351   \n",
       "4  Acanthomintha ilicifolia  https://ecos.fws.gov/ecp/species/351   \n",
       "\n",
       "           Common Name  Inverted Common Name  ECOS Species ID  \\\n",
       "0  San Diego thornmint  Thornmint, San Diego              351   \n",
       "1  San Diego thornmint  Thornmint, San Diego              351   \n",
       "2  San Diego thornmint  Thornmint, San Diego              351   \n",
       "3  San Diego thornmint  Thornmint, San Diego              351   \n",
       "4  San Diego thornmint  Thornmint, San Diego              351   \n",
       "\n",
       "      Species Group ESA Listing Status ESA Listing Date Entity Description  \\\n",
       "0  Flowering Plants         Threatened       10-13-1998     Wherever found   \n",
       "1  Flowering Plants         Threatened       10-13-1998     Wherever found   \n",
       "2  Flowering Plants         Threatened       10-13-1998     Wherever found   \n",
       "3  Flowering Plants         Threatened       10-13-1998     Wherever found   \n",
       "4  Flowering Plants         Threatened       10-13-1998     Wherever found   \n",
       "\n",
       "         Foreign or Domestic Lead Agency  \\\n",
       "0  Both Domestic and Foreign         FWS   \n",
       "1  Both Domestic and Foreign         FWS   \n",
       "2  Both Domestic and Foreign         FWS   \n",
       "3  Both Domestic and Foreign         FWS   \n",
       "4  Both Domestic and Foreign         FWS   \n",
       "\n",
       "                                      Range Envelope  \\\n",
       "0  POLYGON((-117.484880239914 32.5394076799656,-1...   \n",
       "1  POLYGON((-117.484880239914 32.5394076799656,-1...   \n",
       "2  POLYGON((-117.484880239914 32.5394076799656,-1...   \n",
       "3  POLYGON((-117.484880239914 32.5394076799656,-1...   \n",
       "4  POLYGON((-117.484880239914 32.5394076799656,-1...   \n",
       "\n",
       "                                     Range Shapefile  \\\n",
       "0  usfws_Q00E_P01_Acanthomintha_ilicifolia_curren...   \n",
       "1  usfws_Q00E_P01_Acanthomintha_ilicifolia_curren...   \n",
       "2  usfws_Q00E_P01_Acanthomintha_ilicifolia_curren...   \n",
       "3  usfws_Q00E_P01_Acanthomintha_ilicifolia_curren...   \n",
       "4  usfws_Q00E_P01_Acanthomintha_ilicifolia_curren...   \n",
       "\n",
       "                                 Range Shapefile_url  \\\n",
       "0  https://ecos.fws.gov/docs/species/shapefiles/u...   \n",
       "1  https://ecos.fws.gov/docs/species/shapefiles/u...   \n",
       "2  https://ecos.fws.gov/docs/species/shapefiles/u...   \n",
       "3  https://ecos.fws.gov/docs/species/shapefiles/u...   \n",
       "4  https://ecos.fws.gov/docs/species/shapefiles/u...   \n",
       "\n",
       "                          Image URL  \\\n",
       "0  /docs/species_images/doc5153.jpg   \n",
       "1  /docs/species_images/doc5153.jpg   \n",
       "2  /docs/species_images/doc5153.jpg   \n",
       "3  /docs/species_images/doc5153.jpg   \n",
       "4  /docs/species_images/doc5153.jpg   \n",
       "\n",
       "                                       Image URL_url Conservation Plan Type  \\\n",
       "0  https://ecos.fws.gov/docs/species_images/doc51...                    HCP   \n",
       "1  https://ecos.fws.gov/docs/species_images/doc51...                    HCP   \n",
       "2  https://ecos.fws.gov/docs/species_images/doc51...                    HCP   \n",
       "3  https://ecos.fws.gov/docs/species_images/doc51...                    HCP   \n",
       "4  https://ecos.fws.gov/docs/species_images/doc51...                    HCP   \n",
       "\n",
       "    Country Name State Abbreviation  State Name  \n",
       "0         Mexico                 CA  California  \n",
       "1         Mexico                 CA  California  \n",
       "2  United States                 CA  California  \n",
       "3  United States                 CA  California  \n",
       "4         Mexico                 CA  California  "
      ]
     },
     "execution_count": 3,
     "metadata": {},
     "output_type": "execute_result"
    }
   ],
   "source": [
    "### Read the csv file from ECOS\n",
    "ecos_end_species = pd.read_csv(\"../data/FWS_Species_Data_Explorer2.csv\")\n",
    "ecos_end_species.head()"
   ]
  },
  {
   "cell_type": "markdown",
   "metadata": {},
   "source": [
    "## I/ Explore the columns and drop some columns:"
   ]
  },
  {
   "cell_type": "code",
   "execution_count": 4,
   "metadata": {},
   "outputs": [
    {
     "data": {
      "text/plain": [
       "array(['Mexico', 'United States', 'Canada', 'Puerto Rico', 'India', nan,\n",
       "       'Colombia', 'Honduras', 'Costa Rica', 'Panama', 'Guatemala',\n",
       "       'Nicaragua', 'Venezuela', 'Belize', 'Angola', 'Namibia', 'China',\n",
       "       'Dominica', 'Bahamas', 'Cayman Islands', 'Cuba', 'Brazil',\n",
       "       'Argentina', 'Saint Lucia', 'U.S. Virgin Islands', 'Australia',\n",
       "       'New Zealand', 'Japan', 'Spain', 'Algeria', 'Morocco',\n",
       "       'Mozambique', 'Tanzania', 'Pakistan', 'Madagascar', 'Malaysia',\n",
       "       'Indonesia', 'Myanmar (Burma)', 'Bangladesh', 'Mauritius',\n",
       "       'Seychelles', 'Fiji', 'Tonga', 'Russia', 'Ecuador', 'Peru',\n",
       "       'Bolivia', 'Thailand', 'Guadeloupe', 'Jamaica',\n",
       "       'British Virgin Islands', 'French Guiana', 'Aruba', 'Uruguay',\n",
       "       'Haiti', 'Dominican Republic', 'Paraguay', 'Chile', 'Suriname',\n",
       "       'Guyana', 'Barbados', 'Trinidad and Tobago', 'El Salvador',\n",
       "       'Mongolia', 'Afghanistan', 'Tuvalu', 'Kiribati', 'Cook Islands',\n",
       "       'Tokelau', 'Papua New Guinea', 'Marshall Islands',\n",
       "       'Federated States of Micronesia', 'Solomon Islands',\n",
       "       'French Polynesia', 'South Korea', 'North Korea', 'Portugal',\n",
       "       'Gabon', 'Cameroon', 'Equatorial Guinea', 'Philippines',\n",
       "       'Norfolk Island', 'Turks and Caicos Islands', 'Senegal',\n",
       "       'Northern Mariana Islands', 'Eritrea', 'Guam', 'South Africa',\n",
       "       'Vanuatu', 'Togo', 'Palau', 'Martinique', 'Sri Lanka',\n",
       "       'Netherlands Antilles', 'Italy', 'Sao Tome and Principe',\n",
       "       'Mauritania', 'Albania', 'Congo', 'Montserrat', 'Benin',\n",
       "       'U.S. Pacific Outlying Islands', 'Grenada', 'Bahrain',\n",
       "       'Saint Vincent and the Grenadines', 'American Samoa', 'Liberia',\n",
       "       'Ghana', 'Antigua and Barbuda', 'Taiwan', 'Saint Kitts and Nevis',\n",
       "       'Ivory Coast', 'French Southern Territories', 'Qatar', 'Maldives',\n",
       "       'Iran', 'Vietnam', 'Yemen', 'British Indian Ocean Territory',\n",
       "       'Mayotte', 'United Arab Emirates', 'Nauru', 'Reunion', 'Kenya',\n",
       "       'Sudan', 'Kuwait', 'Oman', 'Egypt', 'Comoros', 'Saudi Arabia',\n",
       "       'Cambodia', 'Somalia', 'Norway', 'Israel', 'Libya', 'Jordan',\n",
       "       'Ethiopia', 'Chad', 'Niger', 'Central African Republic',\n",
       "       'Sierra Leone', 'Guinea-Bissau', 'Guinea', 'Gambia', 'Cape Verde',\n",
       "       'Brunei', 'Nigeria', 'Burundi', 'Mali', 'Congo (Zaire)',\n",
       "       'Burkina Faso', 'Uganda', 'Bhutan', 'Nepal', 'Kazakstan',\n",
       "       'Tajikistan', 'Kyrgyzstan', 'Uzbekistan', 'Cyprus',\n",
       "       'Christmas Island', 'Finland', 'New Caledonia', 'Bermuda', 'Laos',\n",
       "       'Denmark', 'Iraq'], dtype=object)"
      ]
     },
     "execution_count": 4,
     "metadata": {},
     "output_type": "execute_result"
    }
   ],
   "source": [
    "ecos_end_species[\"Country Name\"].unique()"
   ]
  },
  {
   "cell_type": "code",
   "execution_count": 5,
   "metadata": {},
   "outputs": [
    {
     "data": {
      "text/plain": [
       "array(['HCP', 'CCAA', 'CCA', nan, 'SHA'], dtype=object)"
      ]
     },
     "execution_count": 5,
     "metadata": {},
     "output_type": "execute_result"
    }
   ],
   "source": [
    "ecos_end_species[\"Conservation Plan Type\"].unique()"
   ]
  },
  {
   "cell_type": "markdown",
   "metadata": {},
   "source": [
    "* Definition:\\\n",
    "HCP = Habitat conservation plans  \n",
    "CCAA = Candidate Conservation Agreements with Assurances   \n",
    "CCA = Candidate Conservation Agreements  \n",
    "SHA = Safe Harbor Agreements "
   ]
  },
  {
   "cell_type": "code",
   "execution_count": 6,
   "metadata": {},
   "outputs": [],
   "source": [
    "### drop columns\n",
    "ecos_end_species = ecos_end_species.drop([\"Scientific Name_url\", \"Lead Agency\", \"Range Shapefile\", \"Range Shapefile_url\"], axis = 1)"
   ]
  },
  {
   "cell_type": "code",
   "execution_count": 7,
   "metadata": {},
   "outputs": [
    {
     "data": {
      "text/plain": [
       "(47434, 16)"
      ]
     },
     "execution_count": 7,
     "metadata": {},
     "output_type": "execute_result"
    }
   ],
   "source": [
    "ecos_end_species.shape"
   ]
  },
  {
   "cell_type": "code",
   "execution_count": 11,
   "metadata": {
    "scrolled": true
   },
   "outputs": [
    {
     "data": {
      "text/html": [
       "<div>\n",
       "<style scoped>\n",
       "    .dataframe tbody tr th:only-of-type {\n",
       "        vertical-align: middle;\n",
       "    }\n",
       "\n",
       "    .dataframe tbody tr th {\n",
       "        vertical-align: top;\n",
       "    }\n",
       "\n",
       "    .dataframe thead th {\n",
       "        text-align: right;\n",
       "    }\n",
       "</style>\n",
       "<table border=\"1\" class=\"dataframe\">\n",
       "  <thead>\n",
       "    <tr style=\"text-align: right;\">\n",
       "      <th></th>\n",
       "      <th>Scientific Name</th>\n",
       "      <th>Common Name</th>\n",
       "      <th>Inverted Common Name</th>\n",
       "      <th>ECOS Species ID</th>\n",
       "      <th>Species Group</th>\n",
       "      <th>ESA Listing Status</th>\n",
       "      <th>ESA Listing Date</th>\n",
       "      <th>Entity Description</th>\n",
       "      <th>Foreign or Domestic</th>\n",
       "      <th>Range Envelope</th>\n",
       "      <th>Image URL</th>\n",
       "      <th>Image URL_url</th>\n",
       "      <th>Conservation Plan Type</th>\n",
       "      <th>Country Name</th>\n",
       "      <th>State Abbreviation</th>\n",
       "      <th>State Name</th>\n",
       "    </tr>\n",
       "  </thead>\n",
       "  <tbody>\n",
       "    <tr>\n",
       "      <th>0</th>\n",
       "      <td>Acanthomintha ilicifolia</td>\n",
       "      <td>San Diego thornmint</td>\n",
       "      <td>Thornmint, San Diego</td>\n",
       "      <td>351</td>\n",
       "      <td>Flowering Plants</td>\n",
       "      <td>Threatened</td>\n",
       "      <td>10-13-1998</td>\n",
       "      <td>Wherever found</td>\n",
       "      <td>Both Domestic and Foreign</td>\n",
       "      <td>POLYGON((-117.484880239914 32.5394076799656,-1...</td>\n",
       "      <td>/docs/species_images/doc5153.jpg</td>\n",
       "      <td>https://ecos.fws.gov/docs/species_images/doc51...</td>\n",
       "      <td>HCP</td>\n",
       "      <td>Mexico</td>\n",
       "      <td>CA</td>\n",
       "      <td>California</td>\n",
       "    </tr>\n",
       "    <tr>\n",
       "      <th>2</th>\n",
       "      <td>Acanthomintha ilicifolia</td>\n",
       "      <td>San Diego thornmint</td>\n",
       "      <td>Thornmint, San Diego</td>\n",
       "      <td>351</td>\n",
       "      <td>Flowering Plants</td>\n",
       "      <td>Threatened</td>\n",
       "      <td>10-13-1998</td>\n",
       "      <td>Wherever found</td>\n",
       "      <td>Both Domestic and Foreign</td>\n",
       "      <td>POLYGON((-117.484880239914 32.5394076799656,-1...</td>\n",
       "      <td>/docs/species_images/doc5153.jpg</td>\n",
       "      <td>https://ecos.fws.gov/docs/species_images/doc51...</td>\n",
       "      <td>HCP</td>\n",
       "      <td>United States</td>\n",
       "      <td>CA</td>\n",
       "      <td>California</td>\n",
       "    </tr>\n",
       "    <tr>\n",
       "      <th>18</th>\n",
       "      <td>Accipiter cooperii</td>\n",
       "      <td>Cooper's hawk</td>\n",
       "      <td>hawk, Cooper's</td>\n",
       "      <td>8352</td>\n",
       "      <td>Birds</td>\n",
       "      <td>Species of Concern</td>\n",
       "      <td>NaN</td>\n",
       "      <td>Wherever found</td>\n",
       "      <td>Domestic</td>\n",
       "      <td>POLYGON((-129.01274688566 30.5420892837935,-12...</td>\n",
       "      <td>/docs/species_images/doc3671.jpg</td>\n",
       "      <td>https://ecos.fws.gov/docs/species_images/doc36...</td>\n",
       "      <td>HCP</td>\n",
       "      <td>United States</td>\n",
       "      <td>CA</td>\n",
       "      <td>California</td>\n",
       "    </tr>\n",
       "    <tr>\n",
       "      <th>23</th>\n",
       "      <td>Accipiter gentilis</td>\n",
       "      <td>Northern goshawk</td>\n",
       "      <td>Goshawk, northern</td>\n",
       "      <td>34</td>\n",
       "      <td>Birds</td>\n",
       "      <td>Resolved Taxon</td>\n",
       "      <td>NaN</td>\n",
       "      <td>Wherever found</td>\n",
       "      <td>Both Domestic and Foreign</td>\n",
       "      <td>POLYGON((-179.9999999999 24.3963075841278,-179...</td>\n",
       "      <td>/docs/species_images/doc3672.jpg</td>\n",
       "      <td>https://ecos.fws.gov/docs/species_images/doc36...</td>\n",
       "      <td>HCP</td>\n",
       "      <td>Canada</td>\n",
       "      <td>NE</td>\n",
       "      <td>Nebraska</td>\n",
       "    </tr>\n",
       "    <tr>\n",
       "      <th>25</th>\n",
       "      <td>Accipiter gentilis</td>\n",
       "      <td>Northern goshawk</td>\n",
       "      <td>Goshawk, northern</td>\n",
       "      <td>34</td>\n",
       "      <td>Birds</td>\n",
       "      <td>Resolved Taxon</td>\n",
       "      <td>NaN</td>\n",
       "      <td>Wherever found</td>\n",
       "      <td>Both Domestic and Foreign</td>\n",
       "      <td>POLYGON((-179.9999999999 24.3963075841278,-179...</td>\n",
       "      <td>/docs/species_images/doc3672.jpg</td>\n",
       "      <td>https://ecos.fws.gov/docs/species_images/doc36...</td>\n",
       "      <td>CCAA</td>\n",
       "      <td>Mexico</td>\n",
       "      <td>CA</td>\n",
       "      <td>California</td>\n",
       "    </tr>\n",
       "  </tbody>\n",
       "</table>\n",
       "</div>"
      ],
      "text/plain": [
       "             Scientific Name          Common Name  Inverted Common Name  \\\n",
       "0   Acanthomintha ilicifolia  San Diego thornmint  Thornmint, San Diego   \n",
       "2   Acanthomintha ilicifolia  San Diego thornmint  Thornmint, San Diego   \n",
       "18        Accipiter cooperii        Cooper's hawk        hawk, Cooper's   \n",
       "23        Accipiter gentilis     Northern goshawk     Goshawk, northern   \n",
       "25        Accipiter gentilis     Northern goshawk     Goshawk, northern   \n",
       "\n",
       "    ECOS Species ID     Species Group  ESA Listing Status ESA Listing Date  \\\n",
       "0               351  Flowering Plants          Threatened       10-13-1998   \n",
       "2               351  Flowering Plants          Threatened       10-13-1998   \n",
       "18             8352             Birds  Species of Concern              NaN   \n",
       "23               34             Birds      Resolved Taxon              NaN   \n",
       "25               34             Birds      Resolved Taxon              NaN   \n",
       "\n",
       "   Entity Description        Foreign or Domestic  \\\n",
       "0      Wherever found  Both Domestic and Foreign   \n",
       "2      Wherever found  Both Domestic and Foreign   \n",
       "18     Wherever found                   Domestic   \n",
       "23     Wherever found  Both Domestic and Foreign   \n",
       "25     Wherever found  Both Domestic and Foreign   \n",
       "\n",
       "                                       Range Envelope  \\\n",
       "0   POLYGON((-117.484880239914 32.5394076799656,-1...   \n",
       "2   POLYGON((-117.484880239914 32.5394076799656,-1...   \n",
       "18  POLYGON((-129.01274688566 30.5420892837935,-12...   \n",
       "23  POLYGON((-179.9999999999 24.3963075841278,-179...   \n",
       "25  POLYGON((-179.9999999999 24.3963075841278,-179...   \n",
       "\n",
       "                           Image URL  \\\n",
       "0   /docs/species_images/doc5153.jpg   \n",
       "2   /docs/species_images/doc5153.jpg   \n",
       "18  /docs/species_images/doc3671.jpg   \n",
       "23  /docs/species_images/doc3672.jpg   \n",
       "25  /docs/species_images/doc3672.jpg   \n",
       "\n",
       "                                        Image URL_url Conservation Plan Type  \\\n",
       "0   https://ecos.fws.gov/docs/species_images/doc51...                    HCP   \n",
       "2   https://ecos.fws.gov/docs/species_images/doc51...                    HCP   \n",
       "18  https://ecos.fws.gov/docs/species_images/doc36...                    HCP   \n",
       "23  https://ecos.fws.gov/docs/species_images/doc36...                    HCP   \n",
       "25  https://ecos.fws.gov/docs/species_images/doc36...                   CCAA   \n",
       "\n",
       "     Country Name State Abbreviation  State Name  \n",
       "0          Mexico                 CA  California  \n",
       "2   United States                 CA  California  \n",
       "18  United States                 CA  California  \n",
       "23         Canada                 NE    Nebraska  \n",
       "25         Mexico                 CA  California  "
      ]
     },
     "execution_count": 11,
     "metadata": {},
     "output_type": "execute_result"
    }
   ],
   "source": [
    "### There is a lot of duplicates that need to be dropped\n",
    "ecos_end_species = ecos_end_species.drop_duplicates()\n",
    "ecos_end_species.head()"
   ]
  },
  {
   "cell_type": "code",
   "execution_count": 12,
   "metadata": {},
   "outputs": [
    {
     "data": {
      "text/plain": [
       "(10269, 16)"
      ]
     },
     "execution_count": 12,
     "metadata": {},
     "output_type": "execute_result"
    }
   ],
   "source": [
    "ecos_end_species.shape"
   ]
  },
  {
   "cell_type": "markdown",
   "metadata": {},
   "source": [
    "## II/ Filter rows:"
   ]
  },
  {
   "cell_type": "markdown",
   "metadata": {},
   "source": [
    "### 1- Filter species status according to ESA (Endangered Species Act):"
   ]
  },
  {
   "cell_type": "code",
   "execution_count": 13,
   "metadata": {},
   "outputs": [
    {
     "data": {
      "text/plain": [
       "array(['Threatened', 'Species of Concern', 'Resolved Taxon', 'Endangered',\n",
       "       'Under Review', 'Similarity of Appearance (Threatened)',\n",
       "       'Extinction', 'Status Undefined',\n",
       "       'Original Data in Error - Taxonomic Revision',\n",
       "       'Experimental Population, Non-Essential', 'Proposed Threatened',\n",
       "       'Recovery', 'Proposed Endangered', 'Candidate',\n",
       "       'Proposed Experimental Population, Non-Essential',\n",
       "       'Proposed Similarity of Appearance (Threatened)',\n",
       "       'Original Data in Error - New Information Discovered'],\n",
       "      dtype=object)"
      ]
     },
     "execution_count": 13,
     "metadata": {},
     "output_type": "execute_result"
    }
   ],
   "source": [
    "ecos_end_species[\"ESA Listing Status\"].unique()"
   ]
  },
  {
   "cell_type": "code",
   "execution_count": 16,
   "metadata": {},
   "outputs": [],
   "source": [
    "### I only want only endangered, threatened, etc.\n",
    "ecos_end_species = ecos_end_species[ecos_end_species[\"ESA Listing Status\"].isin([\"Threatened\", \"Species of Concern\", \"Endangered\", \"Similarity of Appearance (Threatened)\", \"Extinction\", \"Proposed Threatened\", \"Proposed Endangered\", \"Proposed Similarity of Appearance (Threatened)\"])]"
   ]
  },
  {
   "cell_type": "code",
   "execution_count": 17,
   "metadata": {},
   "outputs": [
    {
     "data": {
      "text/plain": [
       "array(['Threatened', 'Species of Concern', 'Endangered',\n",
       "       'Similarity of Appearance (Threatened)', 'Extinction',\n",
       "       'Proposed Threatened', 'Proposed Endangered',\n",
       "       'Proposed Similarity of Appearance (Threatened)'], dtype=object)"
      ]
     },
     "execution_count": 17,
     "metadata": {},
     "output_type": "execute_result"
    }
   ],
   "source": [
    "ecos_end_species[\"ESA Listing Status\"].unique()"
   ]
  },
  {
   "cell_type": "code",
   "execution_count": 18,
   "metadata": {},
   "outputs": [],
   "source": [
    "### For simplicity change \"proposed... etc.\"\" for threatened or endangered\n",
    "ecos_end_species[\"ESA Listing Status\"] = ecos_end_species[\"ESA Listing Status\"].replace(\"Similarity of Appearance (Threatened)\", \"Threatened\")\n",
    "ecos_end_species[\"ESA Listing Status\"] = ecos_end_species[\"ESA Listing Status\"].replace(\"Proposed Threatened\", \"Threatened\")\n",
    "ecos_end_species[\"ESA Listing Status\"] = ecos_end_species[\"ESA Listing Status\"].replace(\"Proposed Similarity of Appearance (Threatened)\", \"Threatened\")\n",
    "ecos_end_species[\"ESA Listing Status\"] = ecos_end_species[\"ESA Listing Status\"].replace(\"Proposed Endangered\", \"Endangered\")"
   ]
  },
  {
   "cell_type": "code",
   "execution_count": 19,
   "metadata": {},
   "outputs": [
    {
     "data": {
      "text/plain": [
       "array(['Threatened', 'Species of Concern', 'Endangered', 'Extinction'],\n",
       "      dtype=object)"
      ]
     },
     "execution_count": 19,
     "metadata": {},
     "output_type": "execute_result"
    }
   ],
   "source": [
    "ecos_end_species[\"ESA Listing Status\"].unique()"
   ]
  },
  {
   "cell_type": "markdown",
   "metadata": {},
   "source": [
    "### 2- Keep only animals:"
   ]
  },
  {
   "cell_type": "code",
   "execution_count": 20,
   "metadata": {},
   "outputs": [
    {
     "data": {
      "text/plain": [
       "array(['Flowering Plants', 'Birds', 'Mammals', 'Fishes', 'Corals',\n",
       "       'Arachnids', 'Clams', 'Reptiles', 'Insects', 'Amphibians',\n",
       "       'Snails', 'Crustaceans', 'Ferns and Allies'], dtype=object)"
      ]
     },
     "execution_count": 20,
     "metadata": {},
     "output_type": "execute_result"
    }
   ],
   "source": [
    "ecos_end_species[\"Species Group\"].unique()"
   ]
  },
  {
   "cell_type": "code",
   "execution_count": 30,
   "metadata": {},
   "outputs": [],
   "source": [
    "# I decided to keep only animals and drop plants\n",
    "ecos_end_animal_species = ecos_end_species.loc[(ecos_end_species[\"Species Group\"] != \"Flowering Plants\") & (ecos_end_species[\"Species Group\"] != \"Ferns and Allies\")]"
   ]
  },
  {
   "cell_type": "code",
   "execution_count": 31,
   "metadata": {},
   "outputs": [
    {
     "data": {
      "text/plain": [
       "array(['Birds', 'Mammals', 'Fishes', 'Corals', 'Arachnids', 'Clams',\n",
       "       'Reptiles', 'Insects', 'Amphibians', 'Snails', 'Crustaceans'],\n",
       "      dtype=object)"
      ]
     },
     "execution_count": 31,
     "metadata": {},
     "output_type": "execute_result"
    }
   ],
   "source": [
    "ecos_end_animal_species[\"Species Group\"].unique()"
   ]
  },
  {
   "cell_type": "code",
   "execution_count": 34,
   "metadata": {},
   "outputs": [
    {
     "data": {
      "text/plain": [
       "(8018, 16)"
      ]
     },
     "execution_count": 34,
     "metadata": {},
     "output_type": "execute_result"
    }
   ],
   "source": [
    "ecos_end_animal_species.shape"
   ]
  },
  {
   "cell_type": "markdown",
   "metadata": {},
   "source": [
    "### 3- Keep only Canada and USA:"
   ]
  },
  {
   "cell_type": "code",
   "execution_count": null,
   "metadata": {},
   "outputs": [],
   "source": []
  }
 ],
 "metadata": {
  "kernelspec": {
   "display_name": "Python 3",
   "language": "python",
   "name": "python3"
  },
  "language_info": {
   "codemirror_mode": {
    "name": "ipython",
    "version": 3
   },
   "file_extension": ".py",
   "mimetype": "text/x-python",
   "name": "python",
   "nbconvert_exporter": "python",
   "pygments_lexer": "ipython3",
   "version": "3.7.3"
  }
 },
 "nbformat": 4,
 "nbformat_minor": 2
}
