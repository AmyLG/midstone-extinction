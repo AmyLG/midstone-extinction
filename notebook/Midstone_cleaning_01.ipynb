{
 "cells": [
  {
   "cell_type": "code",
   "execution_count": 1,
   "metadata": {},
   "outputs": [],
   "source": [
    "import pandas as pd\n",
    "import numpy as np\n",
    "import re\n",
    "import requests"
   ]
  },
  {
   "cell_type": "code",
   "execution_count": 2,
   "metadata": {},
   "outputs": [],
   "source": [
    "### to see all columns\n",
    "pd.set_option('display.max_columns', None)"
   ]
  },
  {
   "cell_type": "code",
   "execution_count": 3,
   "metadata": {},
   "outputs": [
    {
     "data": {
      "text/html": [
       "<div>\n",
       "<style scoped>\n",
       "    .dataframe tbody tr th:only-of-type {\n",
       "        vertical-align: middle;\n",
       "    }\n",
       "\n",
       "    .dataframe tbody tr th {\n",
       "        vertical-align: top;\n",
       "    }\n",
       "\n",
       "    .dataframe thead th {\n",
       "        text-align: right;\n",
       "    }\n",
       "</style>\n",
       "<table border=\"1\" class=\"dataframe\">\n",
       "  <thead>\n",
       "    <tr style=\"text-align: right;\">\n",
       "      <th></th>\n",
       "      <th>Common Name</th>\n",
       "      <th>Scientific Name</th>\n",
       "      <th>Scientific Name_url</th>\n",
       "      <th>Species Group</th>\n",
       "      <th>ESA Listing Status</th>\n",
       "      <th>ESA Listing Date</th>\n",
       "      <th>Entity Description</th>\n",
       "      <th>Foreign or Domestic</th>\n",
       "      <th>Image URL</th>\n",
       "      <th>Image URL_url</th>\n",
       "      <th>Range Envelope</th>\n",
       "      <th>State Abbreviation</th>\n",
       "      <th>State Name</th>\n",
       "      <th>Country Name</th>\n",
       "      <th>Food Habits</th>\n",
       "      <th>Habitat Requirements</th>\n",
       "      <th>Movement / Home Range</th>\n",
       "      <th>Other Information</th>\n",
       "      <th>Reproductive Strategy</th>\n",
       "      <th>Species Description</th>\n",
       "    </tr>\n",
       "  </thead>\n",
       "  <tbody>\n",
       "    <tr>\n",
       "      <th>0</th>\n",
       "      <td>Abbott's booby</td>\n",
       "      <td>Papasula (=Sula) abbotti</td>\n",
       "      <td>https://ecos.fws.gov/ecp/species/1470</td>\n",
       "      <td>Birds</td>\n",
       "      <td>Endangered</td>\n",
       "      <td>06-14-1976</td>\n",
       "      <td>Wherever found</td>\n",
       "      <td>Foreign</td>\n",
       "      <td>/docs/species_images/doc1650.jpg</td>\n",
       "      <td>https://ecos.fws.gov/docs/species_images/doc16...</td>\n",
       "      <td>NaN</td>\n",
       "      <td>NaN</td>\n",
       "      <td>NaN</td>\n",
       "      <td>Christmas Island</td>\n",
       "      <td>NaN</td>\n",
       "      <td>NaN</td>\n",
       "      <td>NaN</td>\n",
       "      <td>NaN</td>\n",
       "      <td>NaN</td>\n",
       "      <td>NaN</td>\n",
       "    </tr>\n",
       "    <tr>\n",
       "      <th>1</th>\n",
       "      <td>Acklins ground iguana</td>\n",
       "      <td>Cyclura rileyi nuchalis</td>\n",
       "      <td>https://ecos.fws.gov/ecp/species/27</td>\n",
       "      <td>Reptiles</td>\n",
       "      <td>Threatened</td>\n",
       "      <td>06-22-1983</td>\n",
       "      <td>Wherever found</td>\n",
       "      <td>Foreign</td>\n",
       "      <td>/docs/species_images/doc1803.jpg</td>\n",
       "      <td>https://ecos.fws.gov/docs/species_images/doc18...</td>\n",
       "      <td>NaN</td>\n",
       "      <td>NaN</td>\n",
       "      <td>NaN</td>\n",
       "      <td>Bahamas</td>\n",
       "      <td>NaN</td>\n",
       "      <td>NaN</td>\n",
       "      <td>NaN</td>\n",
       "      <td>NaN</td>\n",
       "      <td>NaN</td>\n",
       "      <td>NaN</td>\n",
       "    </tr>\n",
       "    <tr>\n",
       "      <th>2</th>\n",
       "      <td>African elephant</td>\n",
       "      <td>Loxodonta africana</td>\n",
       "      <td>https://ecos.fws.gov/ecp/species/7724</td>\n",
       "      <td>Mammals</td>\n",
       "      <td>Threatened</td>\n",
       "      <td>06-11-1978</td>\n",
       "      <td>Wherever found</td>\n",
       "      <td>Foreign</td>\n",
       "      <td>/docs/species_images/doc1458.jpg</td>\n",
       "      <td>https://ecos.fws.gov/docs/species_images/doc14...</td>\n",
       "      <td>NaN</td>\n",
       "      <td>NaN</td>\n",
       "      <td>NaN</td>\n",
       "      <td>Sudan</td>\n",
       "      <td>NaN</td>\n",
       "      <td>NaN</td>\n",
       "      <td>NaN</td>\n",
       "      <td>NaN</td>\n",
       "      <td>NaN</td>\n",
       "      <td>NaN</td>\n",
       "    </tr>\n",
       "    <tr>\n",
       "      <th>3</th>\n",
       "      <td>African elephant</td>\n",
       "      <td>Loxodonta africana</td>\n",
       "      <td>https://ecos.fws.gov/ecp/species/7724</td>\n",
       "      <td>Mammals</td>\n",
       "      <td>Threatened</td>\n",
       "      <td>06-11-1978</td>\n",
       "      <td>Wherever found</td>\n",
       "      <td>Foreign</td>\n",
       "      <td>/docs/species_images/doc1458.jpg</td>\n",
       "      <td>https://ecos.fws.gov/docs/species_images/doc14...</td>\n",
       "      <td>NaN</td>\n",
       "      <td>NaN</td>\n",
       "      <td>NaN</td>\n",
       "      <td>Sierra Leone</td>\n",
       "      <td>NaN</td>\n",
       "      <td>NaN</td>\n",
       "      <td>NaN</td>\n",
       "      <td>NaN</td>\n",
       "      <td>NaN</td>\n",
       "      <td>NaN</td>\n",
       "    </tr>\n",
       "    <tr>\n",
       "      <th>4</th>\n",
       "      <td>African elephant</td>\n",
       "      <td>Loxodonta africana</td>\n",
       "      <td>https://ecos.fws.gov/ecp/species/7724</td>\n",
       "      <td>Mammals</td>\n",
       "      <td>Threatened</td>\n",
       "      <td>06-11-1978</td>\n",
       "      <td>Wherever found</td>\n",
       "      <td>Foreign</td>\n",
       "      <td>/docs/species_images/doc1458.jpg</td>\n",
       "      <td>https://ecos.fws.gov/docs/species_images/doc14...</td>\n",
       "      <td>NaN</td>\n",
       "      <td>NaN</td>\n",
       "      <td>NaN</td>\n",
       "      <td>Kenya</td>\n",
       "      <td>NaN</td>\n",
       "      <td>NaN</td>\n",
       "      <td>NaN</td>\n",
       "      <td>NaN</td>\n",
       "      <td>NaN</td>\n",
       "      <td>NaN</td>\n",
       "    </tr>\n",
       "  </tbody>\n",
       "</table>\n",
       "</div>"
      ],
      "text/plain": [
       "             Common Name           Scientific Name  \\\n",
       "0         Abbott's booby  Papasula (=Sula) abbotti   \n",
       "1  Acklins ground iguana   Cyclura rileyi nuchalis   \n",
       "2       African elephant        Loxodonta africana   \n",
       "3       African elephant        Loxodonta africana   \n",
       "4       African elephant        Loxodonta africana   \n",
       "\n",
       "                     Scientific Name_url Species Group ESA Listing Status  \\\n",
       "0  https://ecos.fws.gov/ecp/species/1470         Birds         Endangered   \n",
       "1    https://ecos.fws.gov/ecp/species/27      Reptiles         Threatened   \n",
       "2  https://ecos.fws.gov/ecp/species/7724       Mammals         Threatened   \n",
       "3  https://ecos.fws.gov/ecp/species/7724       Mammals         Threatened   \n",
       "4  https://ecos.fws.gov/ecp/species/7724       Mammals         Threatened   \n",
       "\n",
       "  ESA Listing Date Entity Description Foreign or Domestic  \\\n",
       "0       06-14-1976     Wherever found             Foreign   \n",
       "1       06-22-1983     Wherever found             Foreign   \n",
       "2       06-11-1978     Wherever found             Foreign   \n",
       "3       06-11-1978     Wherever found             Foreign   \n",
       "4       06-11-1978     Wherever found             Foreign   \n",
       "\n",
       "                          Image URL  \\\n",
       "0  /docs/species_images/doc1650.jpg   \n",
       "1  /docs/species_images/doc1803.jpg   \n",
       "2  /docs/species_images/doc1458.jpg   \n",
       "3  /docs/species_images/doc1458.jpg   \n",
       "4  /docs/species_images/doc1458.jpg   \n",
       "\n",
       "                                       Image URL_url Range Envelope  \\\n",
       "0  https://ecos.fws.gov/docs/species_images/doc16...            NaN   \n",
       "1  https://ecos.fws.gov/docs/species_images/doc18...            NaN   \n",
       "2  https://ecos.fws.gov/docs/species_images/doc14...            NaN   \n",
       "3  https://ecos.fws.gov/docs/species_images/doc14...            NaN   \n",
       "4  https://ecos.fws.gov/docs/species_images/doc14...            NaN   \n",
       "\n",
       "  State Abbreviation State Name      Country Name Food Habits  \\\n",
       "0                NaN        NaN  Christmas Island         NaN   \n",
       "1                NaN        NaN           Bahamas         NaN   \n",
       "2                NaN        NaN             Sudan         NaN   \n",
       "3                NaN        NaN      Sierra Leone         NaN   \n",
       "4                NaN        NaN             Kenya         NaN   \n",
       "\n",
       "  Habitat Requirements Movement / Home Range Other Information  \\\n",
       "0                  NaN                   NaN               NaN   \n",
       "1                  NaN                   NaN               NaN   \n",
       "2                  NaN                   NaN               NaN   \n",
       "3                  NaN                   NaN               NaN   \n",
       "4                  NaN                   NaN               NaN   \n",
       "\n",
       "  Reproductive Strategy Species Description  \n",
       "0                   NaN                 NaN  \n",
       "1                   NaN                 NaN  \n",
       "2                   NaN                 NaN  \n",
       "3                   NaN                 NaN  \n",
       "4                   NaN                 NaN  "
      ]
     },
     "execution_count": 3,
     "metadata": {},
     "output_type": "execute_result"
    }
   ],
   "source": [
    "### Read the csv file from ECOS\n",
    "ecos_species = pd.read_csv(\"../data/FWS_Species_Data_Explorer.csv\")\n",
    "ecos_species.head()"
   ]
  },
  {
   "cell_type": "markdown",
   "metadata": {},
   "source": [
    "## I/ Explore the columns and drop some columns:"
   ]
  },
  {
   "cell_type": "code",
   "execution_count": 4,
   "metadata": {},
   "outputs": [],
   "source": [
    "#ecos_species[\"Conservation Plan Type\"].unique()"
   ]
  },
  {
   "cell_type": "markdown",
   "metadata": {},
   "source": [
    "* Definition:\\\n",
    "HCP = Habitat conservation plans  \n",
    "CCAA = Candidate Conservation Agreements with Assurances   \n",
    "CCA = Candidate Conservation Agreements  \n",
    "SHA = Safe Harbor Agreements "
   ]
  },
  {
   "cell_type": "code",
   "execution_count": 5,
   "metadata": {},
   "outputs": [
    {
     "data": {
      "text/plain": [
       "array(['Birds', 'Reptiles', 'Mammals', 'Amphibians', 'Flowering Plants',\n",
       "       'Clams', 'Insects', 'Fishes', 'Crustaceans', 'Snails', 'Arachnids',\n",
       "       'Ferns and Allies', 'Corals'], dtype=object)"
      ]
     },
     "execution_count": 5,
     "metadata": {},
     "output_type": "execute_result"
    }
   ],
   "source": [
    "ecos_species[\"Species Group\"].unique()"
   ]
  },
  {
   "cell_type": "code",
   "execution_count": 6,
   "metadata": {},
   "outputs": [
    {
     "data": {
      "text/plain": [
       "array(['Wherever found',\n",
       "       'Wherever found; Except where listed as Experimental Populations',\n",
       "       'U.S.A. (AL;The free-flowing reach of the Tennessee R. from the base of Wilson Dam downstream to the backwaters of Pickwick Reservoir [about 12 RM (19 km)] and the lower 5 RM [8 km] of all tributaries to this reach in Colbert and Lauderdale Cos., see 17.85(a))',\n",
       "       'U.S.A. (LA, all counties; MS, TX, only within the historic county range of the Louisiana black bear)',\n",
       "       'Wherever found, except where listed as an experimental population',\n",
       "       'In southwestern Missouri, the counties of Cedar, St. Clair, Bates, and Vernon.',\n",
       "       nan, 'U.S.A. (FL)', 'Wherever found, except in U.S.A. (FL)',\n",
       "       'Upper Missouri River DPS', 'Kyrgyzstan, Mongolia, and Tajikistan',\n",
       "       'Wherever found except Kyrgyzstan, Mongolia, and Tajikistan',\n",
       "       'Kennebec River DPS', 'Gulf of Maine DPS - See 50 CFR 224.101',\n",
       "       'U.S.A. ME Gulf of Maine Atlantic Salmon Distinct Population Segment, which includes all naturally reproducing wild populations and those river-specific hatchery populations of Atlantic salmon having historical, river-specific characteristics found north of and including tributaries of the lower Kennebec River to, but not including, the mouth of the St. Croix River at the U.S.-Canda border. To date, the Services have determined that these populations are found in the Dennys, East Machias, Machias, Pleasant, Narraguagus, Sheepscot, and Ducktrap Rivers and in Cove Brook, Maine',\n",
       "       'Gulf of Maine DPS - See 50 CFR 223.102',\n",
       "       'Carolina DPS - See 50 CFR 224.101',\n",
       "       'South Atlantic DPS - See 50 CFR 224.101',\n",
       "       'Chesapeake Bay DPS - See 50 CFR 224.101',\n",
       "       'New York Bight DPS - See 50 CFR 224.101',\n",
       "       'Southwest Distinct Population Segment',\n",
       "       'U.S.A., conterminous (lower 48) States.',\n",
       "       'Sonoran Desert DPS: Arizona: (1) Yavapai, northern Mexico.  Gila, Graham, Pinal, and Maricopa, Counties; and (2) Southern Mohave County (that portion south and east of the center of Interstate Highway 40 and east of Arizona Highway 95), eastern LaPaz County (that portion east of the centerline of U.S. and Arizona Highways 95), and north of the centerline of Interstate Highway 8).',\n",
       "       'USA (HI)', 'Okhotsk DPS - See 50 CFR 223.102',\n",
       "       'Beringia DPS - See 50 CFR 223.102',\n",
       "       'U.S.A. (WY and specified portions of AZ, CO, MT, SD, and UT, see 17.84(g)(9))',\n",
       "       'Sub-Saharan Africa', 'Wherever found, except GA, NC, SC, TN, VA',\n",
       "       'U.S.A. (GA, NC, SC, TN, VA)', 'Argentina DPS',\n",
       "       'Bolivia, Brazil, Paraguay, and Uruguay', 'Italy',\n",
       "       'Wherever found, except U.S. Atlantic coast, FL, AL',\n",
       "       'U.S. Atlantic coast, FL, AL',\n",
       "       'U.S.A., conterminous, (lower 48 states)',\n",
       "       'Clackamas River subbasin and the mainstem Willamette River, from Willamette Falls to its points of confluence with the Columbia River, including Multnomah Channel',\n",
       "       'U.S.A. (Oregon, and specific portions of northern California and northwest Nevada)',\n",
       "       'U.S.A. only, except where listed as an experimental population',\n",
       "       'U.S.A. (specific portions of Arizona, Nevada, and Utah)-see 17.84(j)',\n",
       "       'U.S.A. (CA - Central California)',\n",
       "       'U.S.A. (CA - Santa Barbara County)',\n",
       "       'U.S.A. (CA - Sonoma County)', 'Wherever Found in Contiguous U.S.',\n",
       "       'California Coastal ESU - See 50 CFR 223.102',\n",
       "       'Snake River spring/summer-run ESU See 50 CFR 223.102',\n",
       "       'Sacramento River winter-run ESU - See 50 CFR 224.101',\n",
       "       'Central Valley spring-run ESU XN - See 50 CFR 223.102',\n",
       "       'Upper Columbia River spring-run ESU See 50 CFR 224.101',\n",
       "       'Upper Willamette River ESU See 50 CFR 223.102',\n",
       "       'Lower Columbia River ESU See 50 CFR 223.102',\n",
       "       'Snake River fall-run ESU See 50 CFR 223.102',\n",
       "       'Puget Sound ESU See 50 CFR 223.102',\n",
       "       'Central Valley spring-run ESU See 50 CFR 223.102',\n",
       "       'Hood Canal summer-run ESU - See 50 CFR 223.102',\n",
       "       'Columbia River ESU See 50 CFR 223.102',\n",
       "       'Lower Columbia River ESU - See 50 CFR 223.102',\n",
       "       'Central California Coast ESU - See 50 CFR 224.101',\n",
       "       'Oregon Coast ESU - See 50 CFR 223.102',\n",
       "       'Southern Oregon - Northern California Coast ESU - See 50 CFR 223.102',\n",
       "       'Salt and Verde R. drainages, AZ',\n",
       "       'U.S.A. (WA-Douglas, Grant, Lincoln, Adams, Benton Counties)',\n",
       "       'Columbia River (Clark, Cowliz, Pacific, Skamania, and Wahkiakum Counties, WA., and Clatsop, Columbia, and Multnomah Counties, OR.)',\n",
       "       'Douglas County, Oregon', 'main pop.', 'Great Basin DPS',\n",
       "       'Indiana north of 40 degrees north latitude, Michigan, Ohio',\n",
       "       'Cuba (excludes U.S. Puerto Rico population)',\n",
       "       'U.S.A. (TN - specified portions of the French Broad and Holston Rivers; see 17.85(b)(1))',\n",
       "       'U.S.A. (DE, Sussex Co.)',\n",
       "       'Wherever found, except AZ south and east of Colorado R., and Mexico',\n",
       "       'AZ south and east of Colorado R., and Mexico, when found outside of Mexico or said range in AZ',\n",
       "       'Missouri DPS',\n",
       "       'Northern California/Southern Oregon Distinct Population Segment',\n",
       "       'West Coast Distinct Population Segment',\n",
       "       'Northern Rocky Mountains DPS',\n",
       "       'Southern Sierra Nevada Distinct Population Segment',\n",
       "       'Great Lakes',\n",
       "       'Black Warrior R. system upstream from Bankhead Dam',\n",
       "       'South America', 'Utah DPS',\n",
       "       'Wherever found west of Mobile and Tombigbee Rivers in AL, MS, and LA',\n",
       "       'U.S.A. (Florida)', 'eastern',\n",
       "       'Northern Rocky Mountain Distinct Population Segment: Montana, Idaho, Wyoming, eastern Washington, eastern Oregon, and north central Utah',\n",
       "       'U.S.A. (MN)',\n",
       "       'U.S.A.: All of AL, AR, CA, CO, CT, DE, FL, GA, IA, IN, IL, KS, KY, LA, MA, MD, ME, MI, MO, MS, NC, ND, NE, NH, NJ, NV, NY, OH, OK, PA, RI, SC, SD, TN, TX, VA, VT, WI, and WV; and portions of AZ, NM, OR, UT, and WA as follows: (1) Northern AZ (that portion north of the centerline of Interstate Highway 40); (2) Northern NM (that portion north of the centerline of Interstate Highway 40); (3) Western OR (that portion of OR west of the centerline of Highway 395 and Highway 78 north of Burns Junction and that portion of OR west of the centerline of Highway 95 south of Burns Junction); (4) Most of Utah (that portion of UT south and west of the centerline of Highway 84 and that portion of UT south of Highway 80 from Echo to the UT/WY Stateline); and (5) Western WA (that portion of WA west of the centerline of Highway 97 and Highway 17 north of Mesa and that portion of WA west of the centerline of Highway 395 south of Mesa). Mexico.',\n",
       "       'Western Great Lakes Distinct Population Segment: Minnesota, Wisconsin, and Michigan; the eastern half of North Dakota and South Dakota; the northern half of Iowa; the northern portions of Illinois and Indiana; and the northwestern portion of Ohio.',\n",
       "       'Columbia basin DPS, WA', 'Bi-State', 'Western subspecies',\n",
       "       'Nepal, India',\n",
       "       'Green sea turtles originating from the Central West Pacific Ocean, bounded by the following coordinates: 41 degrees N., 146 degrees E. in the northwest; 41 degrees N., 169 degrees E. in the northeast; 9 degrees N., 175 degrees W. in the east; 13 degrees S., 171 degrees E. in the southeast; along the northern coast of the island of New Guinea; and 4.5 degrees N., 129 degrees E. in the west',\n",
       "       'Green sea turtles originating from the North Atlantic Ocean, bounded by the following lines and coordinates: 48 degrees N. Lat. in the north, along the western coasts of Europe and Africa (west of 5.5 degrees W. Long.); north of 19 degrees N. Lat. in the east; bounded by 19 degrees N., 65.1 degrees W. to 14 degrees N., 65.1 degrees W. then 14 degrees N., 77 degrees W. in the south and west; and along the eastern coasts of the Americas (north of 7.5 degrees N., 77 degrees W.)',\n",
       "       'Green sea turtles originating from the Central South Pacific Ocean, bounded by the following coordinates: 9 degrees N., 175 degrees W. in the northwest; 9 degrees N., 125 degrees W. in the northeast; 40 degrees S., 96 degrees W. in the southeast; 40 degrees S., 176 degrees E. in the southwest; and 13 degrees S., 171 degrees E. in the west',\n",
       "       'Green sea turtles originating from the North Indian Ocean, bounded by: Africa and Asia in the west and north; 84 degrees E. Long. in the east; and the equator in the south',\n",
       "       'Green sea turtles originating from the Mediterranean Sea, bounded by 5.5 degrees W. Long. in the west',\n",
       "       'Green sea turtles originating from the East Pacific Ocean, bounded by the following lines and coordinates: 41 degrees N., 143 degrees W. in the northwest; 41 degrees N. Lat. in the north; along the western coasts of the Americas; 40 degrees S. Lat. in the south; and 40 degrees S., 96 degrees W. in the southwest',\n",
       "       'Green sea turtles originating from the Southwest Pacific Ocean, bounded by the following lines and coordinates: along the southern coast of the island of New Guinea and the Torres Strait (east of 142 degrees E Long.); 13 degrees S., 171 degrees E. in the northeast; 40 degrees S., 176 degrees E. in the southeast; and 40 degrees S., 142 degrees E. in the southwest',\n",
       "       'Green sea turtles originating from the South Atlantic Ocean, bounded by the following lines and coordinates: along the northern and eastern coasts of South America (east of 7.5 degrees N., 77 degrees W.); 14 degrees N., 77 degrees W. to 14 degrees N., 65.1 degrees W. to 19 degrees N., 65.1 degrees W. in the north and west; 19 degrees N. Lat. in the northeast; 40 degrees S., 19 degrees E. in the southeast; and 40 degrees S. Lat. in the south',\n",
       "       'Green sea turtles originating from the Central North Pacific Ocean, bounded by the following coordinates: 41 degrees N., 169 degrees E. in the northwest; 41 degrees N., 143 degrees W. in the northeast; 9 degrees N., 125 degrees W. in the southeast; and 9 degrees N., 175 degrees W. in the southwest Pacific coast of Mexico',\n",
       "       'Green sea turtles originating from the Eastern Indian and Western Pacific Oceans, bounded by the following lines and coordinates: 41 degrees N. Lat. in the north, 41 degrees N., 146 degrees E. in the northeast; 4.5 degrees N., 129 degrees E. in the southeast; along the southern coast of the island of New Guinea; along the western coast of Australia (west of 142 degrees E. Long.); 40 degrees S. Lat. in the south; and 84 degrees E. Long. in the east',\n",
       "       'Green sea turtles originating from the Southwest Indian Ocean, bounded by the following lines: the equator to the north; 84 degrees E. Long. to the east; 40 degrees S. Lat. to the south; and 19 degrees E. Long (and along the eastern coast of Africa) in the west',\n",
       "       'Southern DPS - See 50 CFR 223.102',\n",
       "       'U.S.A., conterminous (lower 48) States, except where listed as an experimental population',\n",
       "       'Northern Illinois (Winnebago County) and Southern Wisconsin (Columbia, Iowa, Richland and Rock Counties)',\n",
       "       'Central America DPS', 'Oceania DPS', 'Arabian Sea DPS',\n",
       "       'East Australia DPS', 'Brazil DPS', 'West Australia DPS',\n",
       "       'Southeast Africa/Madagascar DPS', 'Mexico DPS', 'West Indies DPS',\n",
       "       'Western North Pacific', 'Hawaii DPS',\n",
       "       'Cape Verde Island/Northwest Africa', 'Southeastern Pacific DPS',\n",
       "       'Gabon/Southwest Africa DPS',\n",
       "       'Sikkim, Thailand, Malaysia, Indonesia, Indochina, Burma, Bangladesh',\n",
       "       'Southern Resident DPS See 50 CFR 224.101', 'Australia',\n",
       "       'Lake Erie offshore islands and their adjacent waters (located more than 1 mile from mainland)_U.S.A. (OH), Canada (Ont.)',\n",
       "       'Atlantic',\n",
       "       'U.S.A. (AR, CO, IA, IL, IN, KS, KY, LA_Miss. R. and tribs. N of Baton Rouge, MS_Miss. R., MO, MT, ND, NE, NM, OK, SD, TN, TX_except within 50 miles of coast)',\n",
       "       'Wherever found, except where it is listed as Threatened',\n",
       "       'In Africa, in the wild, south of, and including, the following countries: Gabon, Congo, Zaire, Uganda, Kenya',\n",
       "       'Northwest Atlantic Ocean DPS - Loggerhead sea turtles originating from the Northwest Atlantic Ocean west of 40 degrees W. Long',\n",
       "       'Loggerhead sea turtles originating from the Southwest Indian Ocean north of the equator, south of 30 degrees N. Lat., east of 20 degrees E. Long., and west of 80 degrees E. Long.',\n",
       "       'Northeast Atlantic Ocean DPS - Loggerhead sea turtles originating from the Northeast Atlantic Ocean north of the equator, south of 60 degrees N. Lat., and east of 40 degrees W. Long., except in the vicinity of the Strait of Gibraltar where the eastern boundary is 5 degrees 36 minutes W. Long',\n",
       "       'North Pacific Ocean DPS - Loggerhead sea turtles originating from the North Pacific north of the equator and south of 60 degrees N. Lat',\n",
       "       'North Indian Ocean DPS - Loggerhead sea turtles originating from the North Indian Ocean north of the equator and south of 30? N. Lat',\n",
       "       'Loggerhead sea turtles originating from the Southeast Indian Ocean south of the equator, north of 60 degrees S. Lat., and east of 80 degrees E. Long.; South Pacific Ocean south of the equator, north of 60degrees S. Lat., and west of 141 degrees E. Long',\n",
       "       'Loggerhead sea turtles originating from the South Atlantic Ocean south of the equator, north of 60 degrees S. Lat., west of 20 degrees E. Long., and east of 67 degrees W. Long',\n",
       "       'Loggerhead sea turtles originating from the South Pacific south of the equator, north of 60 degrees S. Lat., west of 67 degrees W. Long., and east of 141 degrees E. Long.',\n",
       "       'Mediterranean Sea DPS - Loggerhead sea turtles originating from the Mediterranean Sea east of 5 degrees 36 minues W. Long.',\n",
       "       'Entire, except U.S.A. (CA, OR, WA)', 'U.S.A. (CA, OR, WA)',\n",
       "       'U.S. only',\n",
       "       'Wherever found, except where included in an experimental population as set forth in 17.84(k)',\n",
       "       'U.S.A. (portions of AZ and NM)see 17.84(k)',\n",
       "       'Amargosa River population', 'Mongolia',\n",
       "       'U.S.A., northern California', 'U.S.A., southern California',\n",
       "       'Afghanistan, Bhutan, Burma, China (Tibet, Yunnan), India, Nepal, Pakistan, Sikkim',\n",
       "       'Nonessential Experimental Population of the North American Wolverine in Colorado, Wyoming, and New Mexico',\n",
       "       'U.S.A (AZ, NM)', 'Canada', 'wherever found',\n",
       "       'Wherever found, except when listed as endangered under 50 CFR 224.101',\n",
       "       'Breeding colony populations on Pacific coast of Mexico',\n",
       "       'U.S.A. (CA) Peninsular Ranges', 'Mexico (Baja California)',\n",
       "       '[Atlantic Coast and Northern Great Plains populations] - Wherever found, except those areas where listed as endangered.',\n",
       "       '[Great Lakes watershed DPS] - Great Lakes, watershed in States of IL, IN, MI, MN, NY, OH, PA, and WI and Canada (Ont.)',\n",
       "       'British Columbia, Canada',\n",
       "       'U.S.A. (portions of NC and TN see  17.84(c)(9))',\n",
       "       'Rio Grande, from Little Box Canyon (approximately 10.4 river miles downstream of Fort Quitman, TX) to Amistad Dam; and on the Pecos River, from its confluence with Independence Creek to its confluence with the Rio Grande',\n",
       "       'U.S.A. (Atlantic Coast south to NC), Canada (Newf., N.S, Que.), Bermuda',\n",
       "       'Western Hemisphere and adjacent oceans, incl. U.S.A. (FL, PR, VI), where not listed as endangered',\n",
       "       'Puerto Rico',\n",
       "       'Wherever found, except Papua New Guinea and Australia',\n",
       "       'Los Angeles River basin, San Gabriel River basin, Santa Ana River basin',\n",
       "       'Florida population', 'U.S.A. (CA) Sierra Nevada',\n",
       "       'U.S.A. (TN - specified portions of the French Broad and Holston  Rivers; see 17.84(s)(1)(i))',\n",
       "       'US DPS - Smalltooth sawfish originating from U.S. waters.',\n",
       "       'Non-US DPS - Smalltooth sawfish originating from non-US waters',\n",
       "       'Ozette Lake ESU - See 50 CFR 223.102',\n",
       "       'Lake Sammamish and Lake Washington',\n",
       "       'Snake River ESU - See 50 CFR 224.101',\n",
       "       'In Arizona, an area north of Interstate 8 and south of Interstate 10, bounded by the Colorado River on the west and Interstate 10 on the east; and an area south of Interstate 8, bounded by Highway 85 on the west, Interstates 10 and 19 on the east, and the U.S.-Mexico border on the south',\n",
       "       'Lower Columbia River DPS - See 50 CFR 223.102',\n",
       "       'South-Central California Coast DPS - See 50 CFR 223.102',\n",
       "       'Central California Coast DPS - See 50 CFR 223.102',\n",
       "       'Middle Columbia River DPS - XN - See 50 CFR 223.102',\n",
       "       'Klamath Mountains Province steelhead(Oncorhynchus mykiss).Includes all Naturally spawned populations of Steelhead (and their progeny) in coastal river basins ranging from the Elk River in Curry County, Oregon, to the Klamath River, inclusive, in Del Norte County, California',\n",
       "       'Puget Sound DPS - See 50 CFR 223.102',\n",
       "       'Northern California DPS - See 50 CFR 223.102',\n",
       "       'Snake River Basin DPS - See 50 CFR 223.102',\n",
       "       'Southern California DPS - See 50 CFR 224.101',\n",
       "       'Middle Columbia River DPS - See 50 CFR 223.102',\n",
       "       'Upper Willamette River DPS - See 50 CFR 223.102',\n",
       "       'California Central Valley DPS - See 50 CFR 223.102',\n",
       "       'Upper Columbia River DPS - See 50 CFR 223.102',\n",
       "       'Western DPS - See 50 CFR 224.101',\n",
       "       'Eastern DPS - Entire, except the population segment west of 1440 W. Long',\n",
       "       'U.S. Alaska breeding population only',\n",
       "       'U.S.A. (MO-specified portions of Little Creek, Big Muddy Creek, and Spring Creek watersheds in Adair, Gentry, Harrison, Putnam, Sullivan, and Worth Counties; see 17.84(d)(1)(i))',\n",
       "       'Greater Yellowstone (Tri-state) breeding pop (DPS)',\n",
       "       'Rocky Mountain Population', 'Ecuador (DPS)',\n",
       "       'Entire, except Ecuador', 'Mexico',\n",
       "       'Pacific Coast population DPS-U.S.A. (CA, OR, WA), Mexico (within 50 miles of Pacific coast)',\n",
       "       'U.S.A. (ID, MT), Canada (B.C.), (Kootenai R. system)',\n",
       "       'U.S.A. (AL, AR, CO, FL, GA, ID, IL, IN, IA, KY, LA, MI, MN, MS, MO, NC, NM, OH, SC, TN, UT, VA, WI, WV, western half of WY)',\n",
       "       'U.S.A (Southwestern Louisiana)',\n",
       "       'U.S.A. (CO, ID, FL, NM, UT, and the western  half of Wyoming)',\n",
       "       'U.S.A. (AL-specified portions of the Tennessee River; see 17.85(a)(1))',\n",
       "       'U.S.A. (wherever found), Canada (southeastern British Columbia)',\n",
       "       'U.S.A. (AL, FL, GA, MS, NC, SC)', 'Gila R. drainage, AZ, NM',\n",
       "       'Western DPS: U.S.A. (AZ, CA, CO (western), ID, MT (western), NM (western), NV, OR, TX (western), UT, WA, WY (western)); Canada (British Columbia (southwestern); Mexico (Baja California, Baja California Sur, Chihuahua, Durango (western), Sinaloa, Sonora)'],\n",
       "      dtype=object)"
      ]
     },
     "execution_count": 6,
     "metadata": {},
     "output_type": "execute_result"
    }
   ],
   "source": [
    "ecos_species[\"Entity Description\"].unique()"
   ]
  },
  {
   "cell_type": "code",
   "execution_count": 7,
   "metadata": {},
   "outputs": [],
   "source": [
    "### drop columns\n",
    "ecos_species = ecos_species.drop([\"Scientific Name_url\", \"ESA Listing Date\", \"Entity Description\", \"Image URL\"], axis = 1)"
   ]
  },
  {
   "cell_type": "code",
   "execution_count": 8,
   "metadata": {},
   "outputs": [
    {
     "data": {
      "text/plain": [
       "(9390, 16)"
      ]
     },
     "execution_count": 8,
     "metadata": {},
     "output_type": "execute_result"
    }
   ],
   "source": [
    "ecos_species.shape"
   ]
  },
  {
   "cell_type": "code",
   "execution_count": 9,
   "metadata": {
    "scrolled": true
   },
   "outputs": [],
   "source": [
    "### In case if there is duplicates that need to be dropped\n",
    "ecos_species = ecos_species.drop_duplicates()"
   ]
  },
  {
   "cell_type": "code",
   "execution_count": 10,
   "metadata": {},
   "outputs": [
    {
     "data": {
      "text/plain": [
       "(9337, 16)"
      ]
     },
     "execution_count": 10,
     "metadata": {},
     "output_type": "execute_result"
    }
   ],
   "source": [
    "ecos_species.shape"
   ]
  },
  {
   "cell_type": "code",
   "execution_count": 11,
   "metadata": {},
   "outputs": [],
   "source": [
    "# Rename column other information to threat comments\n",
    "ecos_species.rename(columns = {'Other Information':'Threat Comments'}, inplace = True) "
   ]
  },
  {
   "cell_type": "markdown",
   "metadata": {},
   "source": [
    "## II/ Filter rows:"
   ]
  },
  {
   "cell_type": "markdown",
   "metadata": {},
   "source": [
    "### 1- Filter species status according to ESA (Endangered Species Act):"
   ]
  },
  {
   "cell_type": "code",
   "execution_count": 12,
   "metadata": {},
   "outputs": [
    {
     "data": {
      "text/plain": [
       "array(['Endangered', 'Threatened',\n",
       "       'Experimental Population, Non-Essential', 'Recovery',\n",
       "       'Species of Concern', 'Similarity of Appearance (Threatened)',\n",
       "       'Resolved Taxon', 'Proposed Threatened', 'Under Review',\n",
       "       'Proposed Experimental Population, Non-Essential', 'Extinction',\n",
       "       'Status Undefined',\n",
       "       'Original Data in Error - New Information Discovered',\n",
       "       'Proposed Similarity of Appearance (Threatened)',\n",
       "       'Proposed Endangered', 'Candidate',\n",
       "       'Original Data in Error - Taxonomic Revision'], dtype=object)"
      ]
     },
     "execution_count": 12,
     "metadata": {},
     "output_type": "execute_result"
    }
   ],
   "source": [
    "ecos_species[\"ESA Listing Status\"].unique()"
   ]
  },
  {
   "cell_type": "code",
   "execution_count": 13,
   "metadata": {},
   "outputs": [],
   "source": [
    "### I only want endangered, threatened, etc.\n",
    "ecos_end_species = ecos_species[ecos_species[\"ESA Listing Status\"].isin([\"Threatened\", \"Species of Concern\", \"Endangered\", \"Similarity of Appearance (Threatened)\", \"Extinction\", \"Proposed Threatened\", \"Proposed Endangered\", \"Proposed Similarity of Appearance (Threatened)\"])]"
   ]
  },
  {
   "cell_type": "code",
   "execution_count": 14,
   "metadata": {},
   "outputs": [
    {
     "data": {
      "text/plain": [
       "array(['Endangered', 'Threatened', 'Species of Concern',\n",
       "       'Similarity of Appearance (Threatened)', 'Proposed Threatened',\n",
       "       'Extinction', 'Proposed Similarity of Appearance (Threatened)',\n",
       "       'Proposed Endangered'], dtype=object)"
      ]
     },
     "execution_count": 14,
     "metadata": {},
     "output_type": "execute_result"
    }
   ],
   "source": [
    "ecos_end_species[\"ESA Listing Status\"].unique()"
   ]
  },
  {
   "cell_type": "code",
   "execution_count": 15,
   "metadata": {},
   "outputs": [
    {
     "name": "stderr",
     "output_type": "stream",
     "text": [
      "/Users/armelleleguelte/anaconda3/lib/python3.7/site-packages/ipykernel_launcher.py:2: SettingWithCopyWarning: \n",
      "A value is trying to be set on a copy of a slice from a DataFrame.\n",
      "Try using .loc[row_indexer,col_indexer] = value instead\n",
      "\n",
      "See the caveats in the documentation: https://pandas.pydata.org/pandas-docs/stable/user_guide/indexing.html#returning-a-view-versus-a-copy\n",
      "  \n",
      "/Users/armelleleguelte/anaconda3/lib/python3.7/site-packages/ipykernel_launcher.py:3: SettingWithCopyWarning: \n",
      "A value is trying to be set on a copy of a slice from a DataFrame.\n",
      "Try using .loc[row_indexer,col_indexer] = value instead\n",
      "\n",
      "See the caveats in the documentation: https://pandas.pydata.org/pandas-docs/stable/user_guide/indexing.html#returning-a-view-versus-a-copy\n",
      "  This is separate from the ipykernel package so we can avoid doing imports until\n",
      "/Users/armelleleguelte/anaconda3/lib/python3.7/site-packages/ipykernel_launcher.py:4: SettingWithCopyWarning: \n",
      "A value is trying to be set on a copy of a slice from a DataFrame.\n",
      "Try using .loc[row_indexer,col_indexer] = value instead\n",
      "\n",
      "See the caveats in the documentation: https://pandas.pydata.org/pandas-docs/stable/user_guide/indexing.html#returning-a-view-versus-a-copy\n",
      "  after removing the cwd from sys.path.\n",
      "/Users/armelleleguelte/anaconda3/lib/python3.7/site-packages/ipykernel_launcher.py:5: SettingWithCopyWarning: \n",
      "A value is trying to be set on a copy of a slice from a DataFrame.\n",
      "Try using .loc[row_indexer,col_indexer] = value instead\n",
      "\n",
      "See the caveats in the documentation: https://pandas.pydata.org/pandas-docs/stable/user_guide/indexing.html#returning-a-view-versus-a-copy\n",
      "  \"\"\"\n"
     ]
    }
   ],
   "source": [
    "### For simplicity change \"proposed... etc.\"\" for threatened or endangered\n",
    "ecos_end_species[\"ESA Listing Status\"] = ecos_end_species[\"ESA Listing Status\"].replace(\"Similarity of Appearance (Threatened)\", \"Threatened\")\n",
    "ecos_end_species[\"ESA Listing Status\"] = ecos_end_species[\"ESA Listing Status\"].replace(\"Proposed Threatened\", \"Threatened\")\n",
    "ecos_end_species[\"ESA Listing Status\"] = ecos_end_species[\"ESA Listing Status\"].replace(\"Proposed Similarity of Appearance (Threatened)\", \"Threatened\")\n",
    "ecos_end_species[\"ESA Listing Status\"] = ecos_end_species[\"ESA Listing Status\"].replace(\"Proposed Endangered\", \"Endangered\")"
   ]
  },
  {
   "cell_type": "code",
   "execution_count": 16,
   "metadata": {
    "scrolled": true
   },
   "outputs": [
    {
     "data": {
      "text/plain": [
       "array(['Endangered', 'Threatened', 'Species of Concern', 'Extinction'],\n",
       "      dtype=object)"
      ]
     },
     "execution_count": 16,
     "metadata": {},
     "output_type": "execute_result"
    }
   ],
   "source": [
    "ecos_end_species[\"ESA Listing Status\"].unique()"
   ]
  },
  {
   "cell_type": "markdown",
   "metadata": {},
   "source": [
    "### 2- Fix NaN and \\r\\n:"
   ]
  },
  {
   "cell_type": "code",
   "execution_count": 17,
   "metadata": {},
   "outputs": [],
   "source": [
    "### Fix \"\\r\\n\" in column \"Movement...\" with \"No info available\" \n",
    "dict = {'\\r\\n':\"No information available\"}\n",
    "ecos_end_species = ecos_end_species.replace(dict) "
   ]
  },
  {
   "cell_type": "code",
   "execution_count": 18,
   "metadata": {},
   "outputs": [],
   "source": [
    "### Fix NaN values in columns with NaN in it with \"No info available\" \n",
    "ecos_end_species['Food Habits'] = ecos_end_species['Food Habits'].fillna(\"No information available\")\n",
    "ecos_end_species['Habitat Requirements'] = ecos_end_species['Habitat Requirements'].fillna(\"No information available\")\n",
    "ecos_end_species['Movement / Home Range'] = ecos_end_species['Movement / Home Range'].fillna(\"No information available\")\n",
    "ecos_end_species['Threat Comments'] = ecos_end_species['Threat Comments'].fillna(\"No information available\")\n",
    "ecos_end_species['Reproductive Strategy'] = ecos_end_species['Reproductive Strategy'].fillna(\"No information available\")\n",
    "ecos_end_species['Species Description'] = ecos_end_species['Species Description'].fillna(\"No information available\")"
   ]
  },
  {
   "cell_type": "code",
   "execution_count": 19,
   "metadata": {},
   "outputs": [
    {
     "data": {
      "text/html": [
       "<div>\n",
       "<style scoped>\n",
       "    .dataframe tbody tr th:only-of-type {\n",
       "        vertical-align: middle;\n",
       "    }\n",
       "\n",
       "    .dataframe tbody tr th {\n",
       "        vertical-align: top;\n",
       "    }\n",
       "\n",
       "    .dataframe thead th {\n",
       "        text-align: right;\n",
       "    }\n",
       "</style>\n",
       "<table border=\"1\" class=\"dataframe\">\n",
       "  <thead>\n",
       "    <tr style=\"text-align: right;\">\n",
       "      <th></th>\n",
       "      <th>Common Name</th>\n",
       "      <th>Scientific Name</th>\n",
       "      <th>Species Group</th>\n",
       "      <th>ESA Listing Status</th>\n",
       "      <th>Foreign or Domestic</th>\n",
       "      <th>Image URL_url</th>\n",
       "      <th>Range Envelope</th>\n",
       "      <th>State Abbreviation</th>\n",
       "      <th>State Name</th>\n",
       "      <th>Country Name</th>\n",
       "      <th>Food Habits</th>\n",
       "      <th>Habitat Requirements</th>\n",
       "      <th>Movement / Home Range</th>\n",
       "      <th>Threat Comments</th>\n",
       "      <th>Reproductive Strategy</th>\n",
       "      <th>Species Description</th>\n",
       "    </tr>\n",
       "  </thead>\n",
       "  <tbody>\n",
       "    <tr>\n",
       "      <th>0</th>\n",
       "      <td>Abbott's booby</td>\n",
       "      <td>Papasula (=Sula) abbotti</td>\n",
       "      <td>Birds</td>\n",
       "      <td>Endangered</td>\n",
       "      <td>Foreign</td>\n",
       "      <td>https://ecos.fws.gov/docs/species_images/doc16...</td>\n",
       "      <td>NaN</td>\n",
       "      <td>NaN</td>\n",
       "      <td>NaN</td>\n",
       "      <td>Christmas Island</td>\n",
       "      <td>No information available</td>\n",
       "      <td>No information available</td>\n",
       "      <td>No information available</td>\n",
       "      <td>No information available</td>\n",
       "      <td>No information available</td>\n",
       "      <td>No information available</td>\n",
       "    </tr>\n",
       "    <tr>\n",
       "      <th>1</th>\n",
       "      <td>Acklins ground iguana</td>\n",
       "      <td>Cyclura rileyi nuchalis</td>\n",
       "      <td>Reptiles</td>\n",
       "      <td>Threatened</td>\n",
       "      <td>Foreign</td>\n",
       "      <td>https://ecos.fws.gov/docs/species_images/doc18...</td>\n",
       "      <td>NaN</td>\n",
       "      <td>NaN</td>\n",
       "      <td>NaN</td>\n",
       "      <td>Bahamas</td>\n",
       "      <td>No information available</td>\n",
       "      <td>No information available</td>\n",
       "      <td>No information available</td>\n",
       "      <td>No information available</td>\n",
       "      <td>No information available</td>\n",
       "      <td>No information available</td>\n",
       "    </tr>\n",
       "    <tr>\n",
       "      <th>2</th>\n",
       "      <td>African elephant</td>\n",
       "      <td>Loxodonta africana</td>\n",
       "      <td>Mammals</td>\n",
       "      <td>Threatened</td>\n",
       "      <td>Foreign</td>\n",
       "      <td>https://ecos.fws.gov/docs/species_images/doc14...</td>\n",
       "      <td>NaN</td>\n",
       "      <td>NaN</td>\n",
       "      <td>NaN</td>\n",
       "      <td>Sudan</td>\n",
       "      <td>No information available</td>\n",
       "      <td>No information available</td>\n",
       "      <td>No information available</td>\n",
       "      <td>No information available</td>\n",
       "      <td>No information available</td>\n",
       "      <td>No information available</td>\n",
       "    </tr>\n",
       "    <tr>\n",
       "      <th>3</th>\n",
       "      <td>African elephant</td>\n",
       "      <td>Loxodonta africana</td>\n",
       "      <td>Mammals</td>\n",
       "      <td>Threatened</td>\n",
       "      <td>Foreign</td>\n",
       "      <td>https://ecos.fws.gov/docs/species_images/doc14...</td>\n",
       "      <td>NaN</td>\n",
       "      <td>NaN</td>\n",
       "      <td>NaN</td>\n",
       "      <td>Sierra Leone</td>\n",
       "      <td>No information available</td>\n",
       "      <td>No information available</td>\n",
       "      <td>No information available</td>\n",
       "      <td>No information available</td>\n",
       "      <td>No information available</td>\n",
       "      <td>No information available</td>\n",
       "    </tr>\n",
       "    <tr>\n",
       "      <th>4</th>\n",
       "      <td>African elephant</td>\n",
       "      <td>Loxodonta africana</td>\n",
       "      <td>Mammals</td>\n",
       "      <td>Threatened</td>\n",
       "      <td>Foreign</td>\n",
       "      <td>https://ecos.fws.gov/docs/species_images/doc14...</td>\n",
       "      <td>NaN</td>\n",
       "      <td>NaN</td>\n",
       "      <td>NaN</td>\n",
       "      <td>Kenya</td>\n",
       "      <td>No information available</td>\n",
       "      <td>No information available</td>\n",
       "      <td>No information available</td>\n",
       "      <td>No information available</td>\n",
       "      <td>No information available</td>\n",
       "      <td>No information available</td>\n",
       "    </tr>\n",
       "    <tr>\n",
       "      <th>5</th>\n",
       "      <td>African elephant</td>\n",
       "      <td>Loxodonta africana</td>\n",
       "      <td>Mammals</td>\n",
       "      <td>Threatened</td>\n",
       "      <td>Foreign</td>\n",
       "      <td>https://ecos.fws.gov/docs/species_images/doc14...</td>\n",
       "      <td>NaN</td>\n",
       "      <td>NaN</td>\n",
       "      <td>NaN</td>\n",
       "      <td>Congo (Zaire)</td>\n",
       "      <td>No information available</td>\n",
       "      <td>No information available</td>\n",
       "      <td>No information available</td>\n",
       "      <td>No information available</td>\n",
       "      <td>No information available</td>\n",
       "      <td>No information available</td>\n",
       "    </tr>\n",
       "    <tr>\n",
       "      <th>6</th>\n",
       "      <td>African elephant</td>\n",
       "      <td>Loxodonta africana</td>\n",
       "      <td>Mammals</td>\n",
       "      <td>Threatened</td>\n",
       "      <td>Foreign</td>\n",
       "      <td>https://ecos.fws.gov/docs/species_images/doc14...</td>\n",
       "      <td>NaN</td>\n",
       "      <td>NaN</td>\n",
       "      <td>NaN</td>\n",
       "      <td>Cameroon</td>\n",
       "      <td>No information available</td>\n",
       "      <td>No information available</td>\n",
       "      <td>No information available</td>\n",
       "      <td>No information available</td>\n",
       "      <td>No information available</td>\n",
       "      <td>No information available</td>\n",
       "    </tr>\n",
       "    <tr>\n",
       "      <th>7</th>\n",
       "      <td>African elephant</td>\n",
       "      <td>Loxodonta africana</td>\n",
       "      <td>Mammals</td>\n",
       "      <td>Threatened</td>\n",
       "      <td>Foreign</td>\n",
       "      <td>https://ecos.fws.gov/docs/species_images/doc14...</td>\n",
       "      <td>NaN</td>\n",
       "      <td>NaN</td>\n",
       "      <td>NaN</td>\n",
       "      <td>Uganda</td>\n",
       "      <td>No information available</td>\n",
       "      <td>No information available</td>\n",
       "      <td>No information available</td>\n",
       "      <td>No information available</td>\n",
       "      <td>No information available</td>\n",
       "      <td>No information available</td>\n",
       "    </tr>\n",
       "    <tr>\n",
       "      <th>8</th>\n",
       "      <td>African elephant</td>\n",
       "      <td>Loxodonta africana</td>\n",
       "      <td>Mammals</td>\n",
       "      <td>Threatened</td>\n",
       "      <td>Foreign</td>\n",
       "      <td>https://ecos.fws.gov/docs/species_images/doc14...</td>\n",
       "      <td>NaN</td>\n",
       "      <td>NaN</td>\n",
       "      <td>NaN</td>\n",
       "      <td>Central African Republic</td>\n",
       "      <td>No information available</td>\n",
       "      <td>No information available</td>\n",
       "      <td>No information available</td>\n",
       "      <td>No information available</td>\n",
       "      <td>No information available</td>\n",
       "      <td>No information available</td>\n",
       "    </tr>\n",
       "    <tr>\n",
       "      <th>9</th>\n",
       "      <td>African elephant</td>\n",
       "      <td>Loxodonta africana</td>\n",
       "      <td>Mammals</td>\n",
       "      <td>Threatened</td>\n",
       "      <td>Foreign</td>\n",
       "      <td>https://ecos.fws.gov/docs/species_images/doc14...</td>\n",
       "      <td>NaN</td>\n",
       "      <td>NaN</td>\n",
       "      <td>NaN</td>\n",
       "      <td>Nigeria</td>\n",
       "      <td>No information available</td>\n",
       "      <td>No information available</td>\n",
       "      <td>No information available</td>\n",
       "      <td>No information available</td>\n",
       "      <td>No information available</td>\n",
       "      <td>No information available</td>\n",
       "    </tr>\n",
       "  </tbody>\n",
       "</table>\n",
       "</div>"
      ],
      "text/plain": [
       "             Common Name           Scientific Name Species Group  \\\n",
       "0         Abbott's booby  Papasula (=Sula) abbotti         Birds   \n",
       "1  Acklins ground iguana   Cyclura rileyi nuchalis      Reptiles   \n",
       "2       African elephant        Loxodonta africana       Mammals   \n",
       "3       African elephant        Loxodonta africana       Mammals   \n",
       "4       African elephant        Loxodonta africana       Mammals   \n",
       "5       African elephant        Loxodonta africana       Mammals   \n",
       "6       African elephant        Loxodonta africana       Mammals   \n",
       "7       African elephant        Loxodonta africana       Mammals   \n",
       "8       African elephant        Loxodonta africana       Mammals   \n",
       "9       African elephant        Loxodonta africana       Mammals   \n",
       "\n",
       "  ESA Listing Status Foreign or Domestic  \\\n",
       "0         Endangered             Foreign   \n",
       "1         Threatened             Foreign   \n",
       "2         Threatened             Foreign   \n",
       "3         Threatened             Foreign   \n",
       "4         Threatened             Foreign   \n",
       "5         Threatened             Foreign   \n",
       "6         Threatened             Foreign   \n",
       "7         Threatened             Foreign   \n",
       "8         Threatened             Foreign   \n",
       "9         Threatened             Foreign   \n",
       "\n",
       "                                       Image URL_url Range Envelope  \\\n",
       "0  https://ecos.fws.gov/docs/species_images/doc16...            NaN   \n",
       "1  https://ecos.fws.gov/docs/species_images/doc18...            NaN   \n",
       "2  https://ecos.fws.gov/docs/species_images/doc14...            NaN   \n",
       "3  https://ecos.fws.gov/docs/species_images/doc14...            NaN   \n",
       "4  https://ecos.fws.gov/docs/species_images/doc14...            NaN   \n",
       "5  https://ecos.fws.gov/docs/species_images/doc14...            NaN   \n",
       "6  https://ecos.fws.gov/docs/species_images/doc14...            NaN   \n",
       "7  https://ecos.fws.gov/docs/species_images/doc14...            NaN   \n",
       "8  https://ecos.fws.gov/docs/species_images/doc14...            NaN   \n",
       "9  https://ecos.fws.gov/docs/species_images/doc14...            NaN   \n",
       "\n",
       "  State Abbreviation State Name              Country Name  \\\n",
       "0                NaN        NaN          Christmas Island   \n",
       "1                NaN        NaN                   Bahamas   \n",
       "2                NaN        NaN                     Sudan   \n",
       "3                NaN        NaN              Sierra Leone   \n",
       "4                NaN        NaN                     Kenya   \n",
       "5                NaN        NaN             Congo (Zaire)   \n",
       "6                NaN        NaN                  Cameroon   \n",
       "7                NaN        NaN                    Uganda   \n",
       "8                NaN        NaN  Central African Republic   \n",
       "9                NaN        NaN                   Nigeria   \n",
       "\n",
       "                Food Habits      Habitat Requirements  \\\n",
       "0  No information available  No information available   \n",
       "1  No information available  No information available   \n",
       "2  No information available  No information available   \n",
       "3  No information available  No information available   \n",
       "4  No information available  No information available   \n",
       "5  No information available  No information available   \n",
       "6  No information available  No information available   \n",
       "7  No information available  No information available   \n",
       "8  No information available  No information available   \n",
       "9  No information available  No information available   \n",
       "\n",
       "      Movement / Home Range           Threat Comments  \\\n",
       "0  No information available  No information available   \n",
       "1  No information available  No information available   \n",
       "2  No information available  No information available   \n",
       "3  No information available  No information available   \n",
       "4  No information available  No information available   \n",
       "5  No information available  No information available   \n",
       "6  No information available  No information available   \n",
       "7  No information available  No information available   \n",
       "8  No information available  No information available   \n",
       "9  No information available  No information available   \n",
       "\n",
       "      Reproductive Strategy       Species Description  \n",
       "0  No information available  No information available  \n",
       "1  No information available  No information available  \n",
       "2  No information available  No information available  \n",
       "3  No information available  No information available  \n",
       "4  No information available  No information available  \n",
       "5  No information available  No information available  \n",
       "6  No information available  No information available  \n",
       "7  No information available  No information available  \n",
       "8  No information available  No information available  \n",
       "9  No information available  No information available  "
      ]
     },
     "execution_count": 19,
     "metadata": {},
     "output_type": "execute_result"
    }
   ],
   "source": [
    "ecos_end_species.head(10)"
   ]
  },
  {
   "cell_type": "markdown",
   "metadata": {},
   "source": [
    "### 3- Fix html tags \"< i>\" and \"< /i>\": "
   ]
  },
  {
   "cell_type": "code",
   "execution_count": 20,
   "metadata": {},
   "outputs": [],
   "source": [
    "### Make a function to get ride of html tags <i> </i>\n",
    "def striphtml(data):\n",
    "    p = re.compile(r'<.*?>')\n",
    "    return p.sub('', data)"
   ]
  },
  {
   "cell_type": "code",
   "execution_count": 21,
   "metadata": {},
   "outputs": [],
   "source": [
    "### Apply the function in columns with the html tags\n",
    "ecos_end_species[\"Species Description\"] = ecos_end_species[\"Species Description\"].apply(striphtml)\n",
    "ecos_end_species[\"Threat Comments\"] = ecos_end_species[\"Threat Comments\"].apply(striphtml)"
   ]
  },
  {
   "cell_type": "code",
   "execution_count": 22,
   "metadata": {},
   "outputs": [
    {
     "data": {
      "text/html": [
       "<div>\n",
       "<style scoped>\n",
       "    .dataframe tbody tr th:only-of-type {\n",
       "        vertical-align: middle;\n",
       "    }\n",
       "\n",
       "    .dataframe tbody tr th {\n",
       "        vertical-align: top;\n",
       "    }\n",
       "\n",
       "    .dataframe thead th {\n",
       "        text-align: right;\n",
       "    }\n",
       "</style>\n",
       "<table border=\"1\" class=\"dataframe\">\n",
       "  <thead>\n",
       "    <tr style=\"text-align: right;\">\n",
       "      <th></th>\n",
       "      <th>Common Name</th>\n",
       "      <th>Scientific Name</th>\n",
       "      <th>Species Group</th>\n",
       "      <th>ESA Listing Status</th>\n",
       "      <th>Foreign or Domestic</th>\n",
       "      <th>Image URL_url</th>\n",
       "      <th>Range Envelope</th>\n",
       "      <th>State Abbreviation</th>\n",
       "      <th>State Name</th>\n",
       "      <th>Country Name</th>\n",
       "      <th>Food Habits</th>\n",
       "      <th>Habitat Requirements</th>\n",
       "      <th>Movement / Home Range</th>\n",
       "      <th>Threat Comments</th>\n",
       "      <th>Reproductive Strategy</th>\n",
       "      <th>Species Description</th>\n",
       "    </tr>\n",
       "  </thead>\n",
       "  <tbody>\n",
       "    <tr>\n",
       "      <th>0</th>\n",
       "      <td>Abbott's booby</td>\n",
       "      <td>Papasula (=Sula) abbotti</td>\n",
       "      <td>Birds</td>\n",
       "      <td>Endangered</td>\n",
       "      <td>Foreign</td>\n",
       "      <td>https://ecos.fws.gov/docs/species_images/doc16...</td>\n",
       "      <td>NaN</td>\n",
       "      <td>NaN</td>\n",
       "      <td>NaN</td>\n",
       "      <td>Christmas Island</td>\n",
       "      <td>No information available</td>\n",
       "      <td>No information available</td>\n",
       "      <td>No information available</td>\n",
       "      <td>No information available</td>\n",
       "      <td>No information available</td>\n",
       "      <td>No information available</td>\n",
       "    </tr>\n",
       "    <tr>\n",
       "      <th>1</th>\n",
       "      <td>Acklins ground iguana</td>\n",
       "      <td>Cyclura rileyi nuchalis</td>\n",
       "      <td>Reptiles</td>\n",
       "      <td>Threatened</td>\n",
       "      <td>Foreign</td>\n",
       "      <td>https://ecos.fws.gov/docs/species_images/doc18...</td>\n",
       "      <td>NaN</td>\n",
       "      <td>NaN</td>\n",
       "      <td>NaN</td>\n",
       "      <td>Bahamas</td>\n",
       "      <td>No information available</td>\n",
       "      <td>No information available</td>\n",
       "      <td>No information available</td>\n",
       "      <td>No information available</td>\n",
       "      <td>No information available</td>\n",
       "      <td>No information available</td>\n",
       "    </tr>\n",
       "    <tr>\n",
       "      <th>2</th>\n",
       "      <td>African elephant</td>\n",
       "      <td>Loxodonta africana</td>\n",
       "      <td>Mammals</td>\n",
       "      <td>Threatened</td>\n",
       "      <td>Foreign</td>\n",
       "      <td>https://ecos.fws.gov/docs/species_images/doc14...</td>\n",
       "      <td>NaN</td>\n",
       "      <td>NaN</td>\n",
       "      <td>NaN</td>\n",
       "      <td>Sudan</td>\n",
       "      <td>No information available</td>\n",
       "      <td>No information available</td>\n",
       "      <td>No information available</td>\n",
       "      <td>No information available</td>\n",
       "      <td>No information available</td>\n",
       "      <td>No information available</td>\n",
       "    </tr>\n",
       "    <tr>\n",
       "      <th>3</th>\n",
       "      <td>African elephant</td>\n",
       "      <td>Loxodonta africana</td>\n",
       "      <td>Mammals</td>\n",
       "      <td>Threatened</td>\n",
       "      <td>Foreign</td>\n",
       "      <td>https://ecos.fws.gov/docs/species_images/doc14...</td>\n",
       "      <td>NaN</td>\n",
       "      <td>NaN</td>\n",
       "      <td>NaN</td>\n",
       "      <td>Sierra Leone</td>\n",
       "      <td>No information available</td>\n",
       "      <td>No information available</td>\n",
       "      <td>No information available</td>\n",
       "      <td>No information available</td>\n",
       "      <td>No information available</td>\n",
       "      <td>No information available</td>\n",
       "    </tr>\n",
       "    <tr>\n",
       "      <th>4</th>\n",
       "      <td>African elephant</td>\n",
       "      <td>Loxodonta africana</td>\n",
       "      <td>Mammals</td>\n",
       "      <td>Threatened</td>\n",
       "      <td>Foreign</td>\n",
       "      <td>https://ecos.fws.gov/docs/species_images/doc14...</td>\n",
       "      <td>NaN</td>\n",
       "      <td>NaN</td>\n",
       "      <td>NaN</td>\n",
       "      <td>Kenya</td>\n",
       "      <td>No information available</td>\n",
       "      <td>No information available</td>\n",
       "      <td>No information available</td>\n",
       "      <td>No information available</td>\n",
       "      <td>No information available</td>\n",
       "      <td>No information available</td>\n",
       "    </tr>\n",
       "    <tr>\n",
       "      <th>5</th>\n",
       "      <td>African elephant</td>\n",
       "      <td>Loxodonta africana</td>\n",
       "      <td>Mammals</td>\n",
       "      <td>Threatened</td>\n",
       "      <td>Foreign</td>\n",
       "      <td>https://ecos.fws.gov/docs/species_images/doc14...</td>\n",
       "      <td>NaN</td>\n",
       "      <td>NaN</td>\n",
       "      <td>NaN</td>\n",
       "      <td>Congo (Zaire)</td>\n",
       "      <td>No information available</td>\n",
       "      <td>No information available</td>\n",
       "      <td>No information available</td>\n",
       "      <td>No information available</td>\n",
       "      <td>No information available</td>\n",
       "      <td>No information available</td>\n",
       "    </tr>\n",
       "    <tr>\n",
       "      <th>6</th>\n",
       "      <td>African elephant</td>\n",
       "      <td>Loxodonta africana</td>\n",
       "      <td>Mammals</td>\n",
       "      <td>Threatened</td>\n",
       "      <td>Foreign</td>\n",
       "      <td>https://ecos.fws.gov/docs/species_images/doc14...</td>\n",
       "      <td>NaN</td>\n",
       "      <td>NaN</td>\n",
       "      <td>NaN</td>\n",
       "      <td>Cameroon</td>\n",
       "      <td>No information available</td>\n",
       "      <td>No information available</td>\n",
       "      <td>No information available</td>\n",
       "      <td>No information available</td>\n",
       "      <td>No information available</td>\n",
       "      <td>No information available</td>\n",
       "    </tr>\n",
       "    <tr>\n",
       "      <th>7</th>\n",
       "      <td>African elephant</td>\n",
       "      <td>Loxodonta africana</td>\n",
       "      <td>Mammals</td>\n",
       "      <td>Threatened</td>\n",
       "      <td>Foreign</td>\n",
       "      <td>https://ecos.fws.gov/docs/species_images/doc14...</td>\n",
       "      <td>NaN</td>\n",
       "      <td>NaN</td>\n",
       "      <td>NaN</td>\n",
       "      <td>Uganda</td>\n",
       "      <td>No information available</td>\n",
       "      <td>No information available</td>\n",
       "      <td>No information available</td>\n",
       "      <td>No information available</td>\n",
       "      <td>No information available</td>\n",
       "      <td>No information available</td>\n",
       "    </tr>\n",
       "    <tr>\n",
       "      <th>8</th>\n",
       "      <td>African elephant</td>\n",
       "      <td>Loxodonta africana</td>\n",
       "      <td>Mammals</td>\n",
       "      <td>Threatened</td>\n",
       "      <td>Foreign</td>\n",
       "      <td>https://ecos.fws.gov/docs/species_images/doc14...</td>\n",
       "      <td>NaN</td>\n",
       "      <td>NaN</td>\n",
       "      <td>NaN</td>\n",
       "      <td>Central African Republic</td>\n",
       "      <td>No information available</td>\n",
       "      <td>No information available</td>\n",
       "      <td>No information available</td>\n",
       "      <td>No information available</td>\n",
       "      <td>No information available</td>\n",
       "      <td>No information available</td>\n",
       "    </tr>\n",
       "    <tr>\n",
       "      <th>9</th>\n",
       "      <td>African elephant</td>\n",
       "      <td>Loxodonta africana</td>\n",
       "      <td>Mammals</td>\n",
       "      <td>Threatened</td>\n",
       "      <td>Foreign</td>\n",
       "      <td>https://ecos.fws.gov/docs/species_images/doc14...</td>\n",
       "      <td>NaN</td>\n",
       "      <td>NaN</td>\n",
       "      <td>NaN</td>\n",
       "      <td>Nigeria</td>\n",
       "      <td>No information available</td>\n",
       "      <td>No information available</td>\n",
       "      <td>No information available</td>\n",
       "      <td>No information available</td>\n",
       "      <td>No information available</td>\n",
       "      <td>No information available</td>\n",
       "    </tr>\n",
       "  </tbody>\n",
       "</table>\n",
       "</div>"
      ],
      "text/plain": [
       "             Common Name           Scientific Name Species Group  \\\n",
       "0         Abbott's booby  Papasula (=Sula) abbotti         Birds   \n",
       "1  Acklins ground iguana   Cyclura rileyi nuchalis      Reptiles   \n",
       "2       African elephant        Loxodonta africana       Mammals   \n",
       "3       African elephant        Loxodonta africana       Mammals   \n",
       "4       African elephant        Loxodonta africana       Mammals   \n",
       "5       African elephant        Loxodonta africana       Mammals   \n",
       "6       African elephant        Loxodonta africana       Mammals   \n",
       "7       African elephant        Loxodonta africana       Mammals   \n",
       "8       African elephant        Loxodonta africana       Mammals   \n",
       "9       African elephant        Loxodonta africana       Mammals   \n",
       "\n",
       "  ESA Listing Status Foreign or Domestic  \\\n",
       "0         Endangered             Foreign   \n",
       "1         Threatened             Foreign   \n",
       "2         Threatened             Foreign   \n",
       "3         Threatened             Foreign   \n",
       "4         Threatened             Foreign   \n",
       "5         Threatened             Foreign   \n",
       "6         Threatened             Foreign   \n",
       "7         Threatened             Foreign   \n",
       "8         Threatened             Foreign   \n",
       "9         Threatened             Foreign   \n",
       "\n",
       "                                       Image URL_url Range Envelope  \\\n",
       "0  https://ecos.fws.gov/docs/species_images/doc16...            NaN   \n",
       "1  https://ecos.fws.gov/docs/species_images/doc18...            NaN   \n",
       "2  https://ecos.fws.gov/docs/species_images/doc14...            NaN   \n",
       "3  https://ecos.fws.gov/docs/species_images/doc14...            NaN   \n",
       "4  https://ecos.fws.gov/docs/species_images/doc14...            NaN   \n",
       "5  https://ecos.fws.gov/docs/species_images/doc14...            NaN   \n",
       "6  https://ecos.fws.gov/docs/species_images/doc14...            NaN   \n",
       "7  https://ecos.fws.gov/docs/species_images/doc14...            NaN   \n",
       "8  https://ecos.fws.gov/docs/species_images/doc14...            NaN   \n",
       "9  https://ecos.fws.gov/docs/species_images/doc14...            NaN   \n",
       "\n",
       "  State Abbreviation State Name              Country Name  \\\n",
       "0                NaN        NaN          Christmas Island   \n",
       "1                NaN        NaN                   Bahamas   \n",
       "2                NaN        NaN                     Sudan   \n",
       "3                NaN        NaN              Sierra Leone   \n",
       "4                NaN        NaN                     Kenya   \n",
       "5                NaN        NaN             Congo (Zaire)   \n",
       "6                NaN        NaN                  Cameroon   \n",
       "7                NaN        NaN                    Uganda   \n",
       "8                NaN        NaN  Central African Republic   \n",
       "9                NaN        NaN                   Nigeria   \n",
       "\n",
       "                Food Habits      Habitat Requirements  \\\n",
       "0  No information available  No information available   \n",
       "1  No information available  No information available   \n",
       "2  No information available  No information available   \n",
       "3  No information available  No information available   \n",
       "4  No information available  No information available   \n",
       "5  No information available  No information available   \n",
       "6  No information available  No information available   \n",
       "7  No information available  No information available   \n",
       "8  No information available  No information available   \n",
       "9  No information available  No information available   \n",
       "\n",
       "      Movement / Home Range           Threat Comments  \\\n",
       "0  No information available  No information available   \n",
       "1  No information available  No information available   \n",
       "2  No information available  No information available   \n",
       "3  No information available  No information available   \n",
       "4  No information available  No information available   \n",
       "5  No information available  No information available   \n",
       "6  No information available  No information available   \n",
       "7  No information available  No information available   \n",
       "8  No information available  No information available   \n",
       "9  No information available  No information available   \n",
       "\n",
       "      Reproductive Strategy       Species Description  \n",
       "0  No information available  No information available  \n",
       "1  No information available  No information available  \n",
       "2  No information available  No information available  \n",
       "3  No information available  No information available  \n",
       "4  No information available  No information available  \n",
       "5  No information available  No information available  \n",
       "6  No information available  No information available  \n",
       "7  No information available  No information available  \n",
       "8  No information available  No information available  \n",
       "9  No information available  No information available  "
      ]
     },
     "execution_count": 22,
     "metadata": {},
     "output_type": "execute_result"
    }
   ],
   "source": [
    "ecos_end_species.head(10)"
   ]
  },
  {
   "cell_type": "markdown",
   "metadata": {},
   "source": [
    "### 4- Fix column names:"
   ]
  },
  {
   "cell_type": "code",
   "execution_count": 23,
   "metadata": {},
   "outputs": [
    {
     "data": {
      "text/html": [
       "<div>\n",
       "<style scoped>\n",
       "    .dataframe tbody tr th:only-of-type {\n",
       "        vertical-align: middle;\n",
       "    }\n",
       "\n",
       "    .dataframe tbody tr th {\n",
       "        vertical-align: top;\n",
       "    }\n",
       "\n",
       "    .dataframe thead th {\n",
       "        text-align: right;\n",
       "    }\n",
       "</style>\n",
       "<table border=\"1\" class=\"dataframe\">\n",
       "  <thead>\n",
       "    <tr style=\"text-align: right;\">\n",
       "      <th></th>\n",
       "      <th>common_name</th>\n",
       "      <th>scientific_name</th>\n",
       "      <th>species_group</th>\n",
       "      <th>esa_status</th>\n",
       "      <th>foreign_or_domestic</th>\n",
       "      <th>image_url_full</th>\n",
       "      <th>location</th>\n",
       "      <th>state_abbr</th>\n",
       "      <th>state</th>\n",
       "      <th>country</th>\n",
       "      <th>food</th>\n",
       "      <th>habitat_requirements</th>\n",
       "      <th>home_range</th>\n",
       "      <th>cause</th>\n",
       "      <th>reproduction</th>\n",
       "      <th>description</th>\n",
       "    </tr>\n",
       "  </thead>\n",
       "  <tbody>\n",
       "    <tr>\n",
       "      <th>0</th>\n",
       "      <td>Abbott's booby</td>\n",
       "      <td>Papasula (=Sula) abbotti</td>\n",
       "      <td>Birds</td>\n",
       "      <td>Endangered</td>\n",
       "      <td>Foreign</td>\n",
       "      <td>https://ecos.fws.gov/docs/species_images/doc16...</td>\n",
       "      <td>NaN</td>\n",
       "      <td>NaN</td>\n",
       "      <td>NaN</td>\n",
       "      <td>Christmas Island</td>\n",
       "      <td>No information available</td>\n",
       "      <td>No information available</td>\n",
       "      <td>No information available</td>\n",
       "      <td>No information available</td>\n",
       "      <td>No information available</td>\n",
       "      <td>No information available</td>\n",
       "    </tr>\n",
       "    <tr>\n",
       "      <th>1</th>\n",
       "      <td>Acklins ground iguana</td>\n",
       "      <td>Cyclura rileyi nuchalis</td>\n",
       "      <td>Reptiles</td>\n",
       "      <td>Threatened</td>\n",
       "      <td>Foreign</td>\n",
       "      <td>https://ecos.fws.gov/docs/species_images/doc18...</td>\n",
       "      <td>NaN</td>\n",
       "      <td>NaN</td>\n",
       "      <td>NaN</td>\n",
       "      <td>Bahamas</td>\n",
       "      <td>No information available</td>\n",
       "      <td>No information available</td>\n",
       "      <td>No information available</td>\n",
       "      <td>No information available</td>\n",
       "      <td>No information available</td>\n",
       "      <td>No information available</td>\n",
       "    </tr>\n",
       "  </tbody>\n",
       "</table>\n",
       "</div>"
      ],
      "text/plain": [
       "             common_name           scientific_name species_group  esa_status  \\\n",
       "0         Abbott's booby  Papasula (=Sula) abbotti         Birds  Endangered   \n",
       "1  Acklins ground iguana   Cyclura rileyi nuchalis      Reptiles  Threatened   \n",
       "\n",
       "  foreign_or_domestic                                     image_url_full  \\\n",
       "0             Foreign  https://ecos.fws.gov/docs/species_images/doc16...   \n",
       "1             Foreign  https://ecos.fws.gov/docs/species_images/doc18...   \n",
       "\n",
       "  location state_abbr state           country                      food  \\\n",
       "0      NaN        NaN   NaN  Christmas Island  No information available   \n",
       "1      NaN        NaN   NaN           Bahamas  No information available   \n",
       "\n",
       "       habitat_requirements                home_range  \\\n",
       "0  No information available  No information available   \n",
       "1  No information available  No information available   \n",
       "\n",
       "                      cause              reproduction  \\\n",
       "0  No information available  No information available   \n",
       "1  No information available  No information available   \n",
       "\n",
       "                description  \n",
       "0  No information available  \n",
       "1  No information available  "
      ]
     },
     "execution_count": 23,
     "metadata": {},
     "output_type": "execute_result"
    }
   ],
   "source": [
    "ecos_end_species.rename(columns = {\"Common Name\":\"common_name\", 'Scientific Name':'scientific_name', \"Species Group\": \"species_group\", \"ESA Listing Status\": \"esa_status\", \"Foreign or Domestic\": \"foreign_or_domestic\", \"Image URL_url\":\"image_url_full\", \"Range Envelope\": \"location\", \"State Abbreviation\": \"state_abbr\", \"State Name\": \"state\", \"Country Name\":\"country\", \"Food Habits\": \"food\", \"Habitat Requirements\": \"habitat_requirements\", \"Movement / Home Range\": \"home_range\", \"Threat Comments\": \"cause\", \"Reproductive Strategy\": \"reproduction\", \"Species Description\": \"description\" }, inplace = True)\n",
    "ecos_end_species.head(2)"
   ]
  },
  {
   "cell_type": "markdown",
   "metadata": {},
   "source": [
    "### 5- Make a dataframe with all countries and remove the states (since info only for USA):"
   ]
  },
  {
   "cell_type": "code",
   "execution_count": 24,
   "metadata": {},
   "outputs": [],
   "source": [
    "### Drop states in the df \n",
    "ecos_end_species_countries = ecos_end_species.drop([\"state_abbr\", \"state\"], axis = 1)"
   ]
  },
  {
   "cell_type": "code",
   "execution_count": 25,
   "metadata": {},
   "outputs": [
    {
     "data": {
      "text/plain": [
       "(8093, 14)"
      ]
     },
     "execution_count": 25,
     "metadata": {},
     "output_type": "execute_result"
    }
   ],
   "source": [
    "ecos_end_species_countries.shape"
   ]
  },
  {
   "cell_type": "code",
   "execution_count": 26,
   "metadata": {},
   "outputs": [],
   "source": [
    "### Drop duplicates\n",
    "ecos_end_species_countries = ecos_end_species_countries.drop_duplicates()"
   ]
  },
  {
   "cell_type": "code",
   "execution_count": 27,
   "metadata": {},
   "outputs": [
    {
     "data": {
      "text/plain": [
       "(1723, 14)"
      ]
     },
     "execution_count": 27,
     "metadata": {},
     "output_type": "execute_result"
    }
   ],
   "source": [
    "ecos_end_species_countries.shape"
   ]
  },
  {
   "cell_type": "markdown",
   "metadata": {},
   "source": [
    "### 6- Make a dataframe with only Canada and USA (these are the countries with the majority of information):"
   ]
  },
  {
   "cell_type": "code",
   "execution_count": 28,
   "metadata": {},
   "outputs": [
    {
     "data": {
      "text/plain": [
       "array(['Christmas Island', 'Bahamas', 'Sudan', 'Sierra Leone', 'Kenya',\n",
       "       'Congo (Zaire)', 'Cameroon', 'Uganda', 'Central African Republic',\n",
       "       'Nigeria', 'Chad', 'Burkina Faso', 'Togo', 'Niger', 'Gabon',\n",
       "       'Senegal', 'Tanzania', 'Mauritania', 'Ivory Coast', 'Benin',\n",
       "       'Congo', 'Liberia', 'Ghana', 'Mali', 'Guinea', 'Burundi', nan,\n",
       "       'Ethiopia', 'United States', 'Canada', 'Colombia', 'Haiti',\n",
       "       'Guatemala', 'Mexico', 'El Salvador', 'Peru', 'Ecuador',\n",
       "       'Costa Rica', 'Honduras', 'Jamaica', 'Belize',\n",
       "       'Dominican Republic', 'Venezuela', 'Nicaragua', 'Cuba',\n",
       "       'French Southern Territories', 'Argentina', 'Chile',\n",
       "       'British Virgin Islands', 'Madagascar', 'Italy', 'Israel', 'Egypt',\n",
       "       'Saudi Arabia', 'Jordan', 'Oman', 'Mongolia', 'Tajikistan',\n",
       "       'Russia', 'Afghanistan', 'Kazakstan', 'Uzbekistan', 'India',\n",
       "       'Pakistan', 'China', 'Kyrgyzstan', 'Nepal', 'Aruba', 'Vietnam',\n",
       "       'Thailand', 'Myanmar (Burma)', 'Indonesia', 'Cambodia', 'Laos',\n",
       "       'Malaysia', 'Portugal', 'Cayman Islands', 'Barbados',\n",
       "       'Puerto Rico', 'Namibia', 'Angola', 'Australia', 'New Zealand',\n",
       "       'Spain', 'Bangladesh', 'North Korea', 'South Korea', 'Taiwan',\n",
       "       'Panama', 'Mozambique', 'Tonga', 'Fiji', 'South Africa', 'Brazil',\n",
       "       'Bhutan', 'Equatorial Guinea', 'Sri Lanka',\n",
       "       'Federated States of Micronesia', 'Tokelau', 'French Polynesia',\n",
       "       'Tuvalu', 'Kiribati', 'Cook Islands', 'Marshall Islands',\n",
       "       'Papua New Guinea', 'Solomon Islands', 'U.S. Virgin Islands',\n",
       "       'Maldives', 'Guadeloupe', 'Netherlands Antilles', 'Qatar', 'Guam',\n",
       "       'Eritrea', 'Somalia', 'Vanuatu', 'Palau', 'Bahrain', 'Grenada',\n",
       "       'Antigua and Barbuda', 'Comoros', 'American Samoa', 'Seychelles',\n",
       "       'Kuwait', 'U.S. Pacific Outlying Islands',\n",
       "       'Northern Mariana Islands', 'Saint Kitts and Nevis', 'Japan',\n",
       "       'Trinidad and Tobago', 'Reunion', 'Nauru', 'Sao Tome and Principe',\n",
       "       'British Indian Ocean Territory', 'Yemen', 'United Arab Emirates',\n",
       "       'Mayotte', 'Mauritius', 'Philippines', 'Iran', 'Martinique',\n",
       "       'Dominica', 'Iraq', 'New Caledonia', 'Guyana',\n",
       "       'Turks and Caicos Islands', 'Saint Vincent and the Grenadines',\n",
       "       'Suriname', 'Saint Lucia', 'Albania', 'Montserrat',\n",
       "       'French Guiana', 'Uruguay', 'Bolivia', 'Paraguay',\n",
       "       'Norfolk Island', 'Cape Verde', 'Morocco', 'Guinea-Bissau',\n",
       "       'Gambia', 'Brunei', 'Norway', 'Denmark', 'Bermuda', 'Finland',\n",
       "       'Algeria', 'Libya', 'Cyprus'], dtype=object)"
      ]
     },
     "execution_count": 28,
     "metadata": {},
     "output_type": "execute_result"
    }
   ],
   "source": [
    "ecos_end_species[\"country\"].unique()"
   ]
  },
  {
   "cell_type": "code",
   "execution_count": 29,
   "metadata": {},
   "outputs": [],
   "source": [
    "### Looks like I have most information for US and maybe canada Canada ( as well as for NatureServe explorer if I use it at some point) \n",
    "ecos_end_species_us_ca = ecos_end_species[ecos_end_species[\"country\"].isin([\"United States\", \"Canada\"])]"
   ]
  },
  {
   "cell_type": "code",
   "execution_count": 30,
   "metadata": {},
   "outputs": [
    {
     "data": {
      "text/plain": [
       "array(['United States', 'Canada'], dtype=object)"
      ]
     },
     "execution_count": 30,
     "metadata": {},
     "output_type": "execute_result"
    }
   ],
   "source": [
    "ecos_end_species_us_ca[\"country\"].unique()"
   ]
  },
  {
   "cell_type": "code",
   "execution_count": 31,
   "metadata": {},
   "outputs": [
    {
     "data": {
      "text/plain": [
       "(1883, 16)"
      ]
     },
     "execution_count": 31,
     "metadata": {},
     "output_type": "execute_result"
    }
   ],
   "source": [
    "ecos_end_species_us_ca.shape"
   ]
  },
  {
   "cell_type": "code",
   "execution_count": 32,
   "metadata": {},
   "outputs": [],
   "source": [
    "### Drop states in the df \n",
    "ecos_end_species_us_ca = ecos_end_species_us_ca.drop([\"state_abbr\", \"state\"], axis = 1)"
   ]
  },
  {
   "cell_type": "code",
   "execution_count": 33,
   "metadata": {},
   "outputs": [],
   "source": [
    "### Drop duplicates\n",
    "ecos_end_species_us_ca = ecos_end_species_us_ca.drop_duplicates()"
   ]
  },
  {
   "cell_type": "code",
   "execution_count": 34,
   "metadata": {},
   "outputs": [
    {
     "data": {
      "text/plain": [
       "(571, 14)"
      ]
     },
     "execution_count": 34,
     "metadata": {},
     "output_type": "execute_result"
    }
   ],
   "source": [
    "ecos_end_species_us_ca.shape"
   ]
  },
  {
   "cell_type": "code",
   "execution_count": 35,
   "metadata": {},
   "outputs": [],
   "source": [
    "# If I want to keep only animals and drop plants but so far I will keep them all\n",
    "#ecos_end_animal_species = ecos_end_species.loc[(ecos_end_species[\"Species Group\"] != \"Flowering Plants\") & (ecos_end_species[\"Species Group\"] != \"Ferns and Allies\")]"
   ]
  },
  {
   "cell_type": "markdown",
   "metadata": {},
   "source": [
    "### 7- Make a dataframe with only USA (only country with states info):"
   ]
  },
  {
   "cell_type": "code",
   "execution_count": 36,
   "metadata": {},
   "outputs": [],
   "source": [
    "ecos_end_species_us = ecos_end_species[ecos_end_species[\"country\"].isin([\"United States\"])]"
   ]
  },
  {
   "cell_type": "code",
   "execution_count": 37,
   "metadata": {},
   "outputs": [
    {
     "data": {
      "text/plain": [
       "(1581, 16)"
      ]
     },
     "execution_count": 37,
     "metadata": {},
     "output_type": "execute_result"
    }
   ],
   "source": [
    "ecos_end_species_us.shape"
   ]
  },
  {
   "cell_type": "code",
   "execution_count": 38,
   "metadata": {},
   "outputs": [],
   "source": [
    "### Drop duplicates\n",
    "ecos_end_species_us = ecos_end_species_us.drop_duplicates()"
   ]
  },
  {
   "cell_type": "code",
   "execution_count": 39,
   "metadata": {},
   "outputs": [
    {
     "data": {
      "text/plain": [
       "(1581, 16)"
      ]
     },
     "execution_count": 39,
     "metadata": {},
     "output_type": "execute_result"
    }
   ],
   "source": [
    "ecos_end_species_us.shape"
   ]
  },
  {
   "cell_type": "markdown",
   "metadata": {},
   "source": [
    "### 8- Make a dataframe with only states to avoid duplicates for USA dataframe:"
   ]
  },
  {
   "cell_type": "code",
   "execution_count": 40,
   "metadata": {},
   "outputs": [],
   "source": [
    "### new df with only the states\n",
    "ecos_states_us = ecos_end_species_us.loc[:, [\"common_name\", \"scientific_name\", \"species_group\", \"esa_status\", \"foreign_or_domestic\", \"state\", \"state_abbr\", \"country\" ]]"
   ]
  },
  {
   "cell_type": "code",
   "execution_count": 41,
   "metadata": {},
   "outputs": [
    {
     "data": {
      "text/plain": [
       "(1581, 8)"
      ]
     },
     "execution_count": 41,
     "metadata": {},
     "output_type": "execute_result"
    }
   ],
   "source": [
    "ecos_states_us.shape"
   ]
  },
  {
   "cell_type": "code",
   "execution_count": 42,
   "metadata": {
    "scrolled": false
   },
   "outputs": [
    {
     "data": {
      "text/html": [
       "<div>\n",
       "<style scoped>\n",
       "    .dataframe tbody tr th:only-of-type {\n",
       "        vertical-align: middle;\n",
       "    }\n",
       "\n",
       "    .dataframe tbody tr th {\n",
       "        vertical-align: top;\n",
       "    }\n",
       "\n",
       "    .dataframe thead th {\n",
       "        text-align: right;\n",
       "    }\n",
       "</style>\n",
       "<table border=\"1\" class=\"dataframe\">\n",
       "  <thead>\n",
       "    <tr style=\"text-align: right;\">\n",
       "      <th></th>\n",
       "      <th>common_name</th>\n",
       "      <th>scientific_name</th>\n",
       "      <th>species_group</th>\n",
       "      <th>esa_status</th>\n",
       "      <th>foreign_or_domestic</th>\n",
       "      <th>state</th>\n",
       "      <th>state_abbr</th>\n",
       "      <th>country</th>\n",
       "    </tr>\n",
       "  </thead>\n",
       "  <tbody>\n",
       "    <tr>\n",
       "      <th>34</th>\n",
       "      <td>Akekee</td>\n",
       "      <td>Loxops caeruleirostris</td>\n",
       "      <td>Birds</td>\n",
       "      <td>Endangered</td>\n",
       "      <td>Domestic</td>\n",
       "      <td>Hawaii</td>\n",
       "      <td>HI</td>\n",
       "      <td>United States</td>\n",
       "    </tr>\n",
       "    <tr>\n",
       "      <th>35</th>\n",
       "      <td>Akikiki</td>\n",
       "      <td>Oreomystis bairdi</td>\n",
       "      <td>Birds</td>\n",
       "      <td>Endangered</td>\n",
       "      <td>Domestic</td>\n",
       "      <td>Hawaii</td>\n",
       "      <td>HI</td>\n",
       "      <td>United States</td>\n",
       "    </tr>\n",
       "  </tbody>\n",
       "</table>\n",
       "</div>"
      ],
      "text/plain": [
       "   common_name         scientific_name species_group  esa_status  \\\n",
       "34      Akekee  Loxops caeruleirostris         Birds  Endangered   \n",
       "35     Akikiki       Oreomystis bairdi         Birds  Endangered   \n",
       "\n",
       "   foreign_or_domestic   state state_abbr        country  \n",
       "34            Domestic  Hawaii         HI  United States  \n",
       "35            Domestic  Hawaii         HI  United States  "
      ]
     },
     "execution_count": 42,
     "metadata": {},
     "output_type": "execute_result"
    }
   ],
   "source": [
    "ecos_states_us.head(2)"
   ]
  },
  {
   "cell_type": "code",
   "execution_count": 43,
   "metadata": {},
   "outputs": [],
   "source": [
    "### Drop duplicates\n",
    "ecos_states_us = ecos_states_us.drop_duplicates()"
   ]
  },
  {
   "cell_type": "code",
   "execution_count": 44,
   "metadata": {},
   "outputs": [
    {
     "data": {
      "text/plain": [
       "(1276, 8)"
      ]
     },
     "execution_count": 44,
     "metadata": {},
     "output_type": "execute_result"
    }
   ],
   "source": [
    "ecos_states_us.shape"
   ]
  },
  {
   "cell_type": "code",
   "execution_count": null,
   "metadata": {},
   "outputs": [],
   "source": [
    "### Drop states in the df with animal information\n",
    "ecos_end_species_us = ecos_end_species_us.drop([\"state\", \"state_abbr\"], axis = 1)"
   ]
  },
  {
   "cell_type": "code",
   "execution_count": null,
   "metadata": {},
   "outputs": [],
   "source": [
    "### Drop duplicates\n",
    "ecos_end_species_us = ecos_end_species_us.drop_duplicates()"
   ]
  },
  {
   "cell_type": "code",
   "execution_count": null,
   "metadata": {},
   "outputs": [],
   "source": [
    "ecos_end_species_us.shape"
   ]
  },
  {
   "cell_type": "code",
   "execution_count": null,
   "metadata": {
    "scrolled": true
   },
   "outputs": [],
   "source": [
    "ecos_end_species_us.head(10)"
   ]
  },
  {
   "cell_type": "markdown",
   "metadata": {},
   "source": [
    "### 9- Make a dataframe with all countries for treemap but drop pictures and location:"
   ]
  },
  {
   "cell_type": "code",
   "execution_count": null,
   "metadata": {},
   "outputs": [],
   "source": [
    "ecos_end_species_countries.head(2)"
   ]
  },
  {
   "cell_type": "code",
   "execution_count": null,
   "metadata": {
    "scrolled": false
   },
   "outputs": [],
   "source": [
    "### make a new df for treemap purpose\n",
    "ecos_end_species_treemap = ecos_end_species_countries.loc[:, [\"common_name\", \"scientific_name\", \"species_group\", \"esa_status\", \"foreign_or_domestic\", \"country\"]]\n",
    "ecos_end_species_treemap.head(2)"
   ]
  },
  {
   "cell_type": "code",
   "execution_count": null,
   "metadata": {},
   "outputs": [],
   "source": [
    "ecos_end_species_treemap.shape"
   ]
  },
  {
   "cell_type": "code",
   "execution_count": null,
   "metadata": {},
   "outputs": [],
   "source": [
    "### Drop duplicates\n",
    "ecos_end_species_treemap = ecos_end_species_treemap.drop_duplicates()"
   ]
  },
  {
   "cell_type": "code",
   "execution_count": null,
   "metadata": {},
   "outputs": [],
   "source": [
    "ecos_end_species_treemap.shape"
   ]
  },
  {
   "cell_type": "markdown",
   "metadata": {},
   "source": [
    "### 10- Look if there is any data missing:"
   ]
  },
  {
   "cell_type": "code",
   "execution_count": null,
   "metadata": {},
   "outputs": [],
   "source": [
    "### function to ask if some values are missing... if it's True, yes there is missing information\n",
    "ecos_end_species_us_ca.isnull().values.any()"
   ]
  },
  {
   "cell_type": "code",
   "execution_count": null,
   "metadata": {},
   "outputs": [],
   "source": [
    "### To know how many values are missing\n",
    "ecos_end_species_us_ca.isnull().sum().sum()"
   ]
  },
  {
   "cell_type": "code",
   "execution_count": null,
   "metadata": {},
   "outputs": [],
   "source": [
    "### Use describe to localize in which column the data is missing\n",
    "ecos_end_species_us_ca.describe()"
   ]
  },
  {
   "cell_type": "markdown",
   "metadata": {},
   "source": [
    "There are 6 values missing in the column \"location\"... will drop NA polygones in the midstone_cleaning_03."
   ]
  },
  {
   "cell_type": "code",
   "execution_count": null,
   "metadata": {},
   "outputs": [],
   "source": [
    "### Df USA\n",
    "ecos_end_species_us.describe()"
   ]
  },
  {
   "cell_type": "markdown",
   "metadata": {},
   "source": [
    "Only one polygon data missing in the dataframe with only USA"
   ]
  },
  {
   "cell_type": "code",
   "execution_count": null,
   "metadata": {
    "scrolled": true
   },
   "outputs": [],
   "source": [
    "### Df all countries\n",
    "ecos_end_species_countries.describe()"
   ]
  },
  {
   "cell_type": "markdown",
   "metadata": {},
   "source": [
    "Some countries are missing and a lot of polygon data as expected unfortunately..."
   ]
  },
  {
   "cell_type": "code",
   "execution_count": null,
   "metadata": {},
   "outputs": [],
   "source": [
    "###drop NA values in column country \n",
    "ecos_end_species_countries = ecos_end_species_countries[ecos_end_species_countries[\"country\"].notnull()]"
   ]
  },
  {
   "cell_type": "code",
   "execution_count": null,
   "metadata": {
    "scrolled": true
   },
   "outputs": [],
   "source": [
    "ecos_end_species_countries.describe()"
   ]
  },
  {
   "cell_type": "markdown",
   "metadata": {},
   "source": [
    "### 11- images duplicate ( some images are for the same species but have a different image number and sometimes the image is absent):"
   ]
  },
  {
   "cell_type": "markdown",
   "metadata": {},
   "source": [
    "### Dataframe US and Canada"
   ]
  },
  {
   "cell_type": "code",
   "execution_count": null,
   "metadata": {},
   "outputs": [],
   "source": [
    "ecos_end_species_us_ca.shape"
   ]
  },
  {
   "cell_type": "code",
   "execution_count": null,
   "metadata": {},
   "outputs": [],
   "source": [
    "### NB: there is only 434 unique scientific name which mean there is still some duplicates... comes from the images files!\n",
    "ecos_end_species_us_ca[\"scientific_name\"].nunique()"
   ]
  },
  {
   "cell_type": "code",
   "execution_count": null,
   "metadata": {},
   "outputs": [],
   "source": [
    "### function to check if image is available or not\n",
    "def status_checker (url):\n",
    "    request = requests.get(url)\n",
    "    return request.status_code"
   ]
  },
  {
   "cell_type": "code",
   "execution_count": null,
   "metadata": {},
   "outputs": [],
   "source": [
    "### Apply the function in my Df US-CA only\n",
    "ecos_end_species_us_ca[\"status_code\"] = ecos_end_species_us_ca[\"image_url_full\"].apply(status_checker)"
   ]
  },
  {
   "cell_type": "code",
   "execution_count": null,
   "metadata": {},
   "outputs": [],
   "source": [
    "### Super cool function where the sort_value will put on top the images available and then you run a drop_duplicate on scientific name so if the scientific name was already called the nex one will be droped\n",
    "ecos_end_species_us_ca = ecos_end_species_us_ca.sort_values(\"status_code\").drop_duplicates(\"scientific_name\")"
   ]
  },
  {
   "cell_type": "code",
   "execution_count": null,
   "metadata": {},
   "outputs": [],
   "source": [
    "ecos_end_species_us_ca.shape"
   ]
  },
  {
   "cell_type": "code",
   "execution_count": null,
   "metadata": {
    "scrolled": true
   },
   "outputs": [],
   "source": [
    "ecos_end_species_us_ca.describe()"
   ]
  },
  {
   "cell_type": "code",
   "execution_count": null,
   "metadata": {},
   "outputs": [],
   "source": [
    "### drop columns status code\n",
    "ecos_end_species_us_ca = ecos_end_species_us_ca.drop([\"status_code\"], axis=1)"
   ]
  },
  {
   "cell_type": "code",
   "execution_count": null,
   "metadata": {},
   "outputs": [],
   "source": [
    "ecos_end_species_us_ca.head(2)"
   ]
  },
  {
   "cell_type": "markdown",
   "metadata": {},
   "source": [
    "### Dataframe US only"
   ]
  },
  {
   "cell_type": "code",
   "execution_count": null,
   "metadata": {},
   "outputs": [],
   "source": [
    "### Apply the function in my Df US only\n",
    "ecos_end_species_us[\"status_code\"] = ecos_end_species_us[\"image_url_full\"].apply(status_checker)"
   ]
  },
  {
   "cell_type": "code",
   "execution_count": null,
   "metadata": {},
   "outputs": [],
   "source": [
    "### remove images duplicates if any\n",
    "ecos_end_species_us = ecos_end_species_us.sort_values(\"status_code\").drop_duplicates(\"scientific_name\")"
   ]
  },
  {
   "cell_type": "code",
   "execution_count": null,
   "metadata": {},
   "outputs": [],
   "source": [
    "ecos_end_species_us.shape"
   ]
  },
  {
   "cell_type": "code",
   "execution_count": null,
   "metadata": {},
   "outputs": [],
   "source": [
    "ecos_end_species_us.describe()"
   ]
  },
  {
   "cell_type": "code",
   "execution_count": null,
   "metadata": {},
   "outputs": [],
   "source": [
    "### drop columns status code\n",
    "ecos_end_species_us = ecos_end_species_us.drop([\"status_code\"], axis=1)"
   ]
  },
  {
   "cell_type": "code",
   "execution_count": null,
   "metadata": {},
   "outputs": [],
   "source": [
    "ecos_end_species_us.head(2)"
   ]
  },
  {
   "cell_type": "markdown",
   "metadata": {},
   "source": [
    "### Dataframe all countries"
   ]
  },
  {
   "cell_type": "code",
   "execution_count": null,
   "metadata": {},
   "outputs": [],
   "source": [
    "### Apply the function in my Df US only\n",
    "ecos_end_species_countries[\"status_code\"] = ecos_end_species_countries[\"image_url_full\"].apply(status_checker)"
   ]
  },
  {
   "cell_type": "code",
   "execution_count": null,
   "metadata": {},
   "outputs": [],
   "source": [
    "### remove images duplicates if any\n",
    "ecos_end_species_countries = ecos_end_species_countries.sort_values(\"status_code\").drop_duplicates(\"scientific_name\")"
   ]
  },
  {
   "cell_type": "code",
   "execution_count": null,
   "metadata": {},
   "outputs": [],
   "source": [
    "ecos_end_species_countries.shape"
   ]
  },
  {
   "cell_type": "code",
   "execution_count": null,
   "metadata": {},
   "outputs": [],
   "source": [
    "ecos_end_species_countries.describe()"
   ]
  },
  {
   "cell_type": "code",
   "execution_count": null,
   "metadata": {},
   "outputs": [],
   "source": [
    "### drop columns status code\n",
    "ecos_end_species_countries = ecos_end_species_countries.drop([\"status_code\"], axis=1)"
   ]
  },
  {
   "cell_type": "code",
   "execution_count": null,
   "metadata": {},
   "outputs": [],
   "source": [
    "ecos_end_species_countries.head(2)"
   ]
  },
  {
   "cell_type": "markdown",
   "metadata": {},
   "source": [
    "### 9- Save the cleaned dataframes as new csv files:"
   ]
  },
  {
   "cell_type": "code",
   "execution_count": null,
   "metadata": {},
   "outputs": [],
   "source": [
    "### Save all countries and info df as a new CSV file\n",
    "ecos_end_species_countries.to_csv('../data/ecos_end_species_countries_clean.csv', index = False)"
   ]
  },
  {
   "cell_type": "code",
   "execution_count": null,
   "metadata": {},
   "outputs": [],
   "source": [
    "### Save us-ca and info df as a new CSV file\n",
    "ecos_end_species_us_ca.to_csv('../data/ecos_end_species_us_ca_clean.csv', index = False)"
   ]
  },
  {
   "cell_type": "code",
   "execution_count": null,
   "metadata": {},
   "outputs": [],
   "source": [
    "### Save us and info df as a new CSV file\n",
    "ecos_end_species_us.to_csv('../data/ecos_end_species_us_clean.csv', index = False)"
   ]
  },
  {
   "cell_type": "code",
   "execution_count": 45,
   "metadata": {},
   "outputs": [],
   "source": [
    "### Save states for USA as a new CSV file\n",
    "ecos_states_us.to_csv('../data/ecos_states_us_clean.csv', index = False)"
   ]
  },
  {
   "cell_type": "code",
   "execution_count": null,
   "metadata": {},
   "outputs": [],
   "source": [
    "### Save countries for treemap as a new CSV file\n",
    "ecos_end_species_treemap.to_csv('../data/ecos_countries_treemap_clean.csv', index = False)"
   ]
  },
  {
   "cell_type": "code",
   "execution_count": null,
   "metadata": {},
   "outputs": [],
   "source": []
  }
 ],
 "metadata": {
  "kernelspec": {
   "display_name": "Python 3",
   "language": "python",
   "name": "python3"
  },
  "language_info": {
   "codemirror_mode": {
    "name": "ipython",
    "version": 3
   },
   "file_extension": ".py",
   "mimetype": "text/x-python",
   "name": "python",
   "nbconvert_exporter": "python",
   "pygments_lexer": "ipython3",
   "version": "3.7.3"
  }
 },
 "nbformat": 4,
 "nbformat_minor": 2
}
