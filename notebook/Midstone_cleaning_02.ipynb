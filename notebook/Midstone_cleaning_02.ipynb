{
 "cells": [
  {
   "cell_type": "code",
   "execution_count": 14,
   "metadata": {},
   "outputs": [],
   "source": [
    "import pandas as pd\n",
    "import numpy as np\n",
    "import requests\n",
    "from bs4 import BeautifulSoup as BS"
   ]
  },
  {
   "cell_type": "code",
   "execution_count": 2,
   "metadata": {},
   "outputs": [],
   "source": [
    "### to see all columns\n",
    "pd.set_option('display.max_columns', None)"
   ]
  },
  {
   "cell_type": "code",
   "execution_count": 3,
   "metadata": {
    "scrolled": true
   },
   "outputs": [
    {
     "data": {
      "text/html": [
       "<div>\n",
       "<style scoped>\n",
       "    .dataframe tbody tr th:only-of-type {\n",
       "        vertical-align: middle;\n",
       "    }\n",
       "\n",
       "    .dataframe tbody tr th {\n",
       "        vertical-align: top;\n",
       "    }\n",
       "\n",
       "    .dataframe thead th {\n",
       "        text-align: right;\n",
       "    }\n",
       "</style>\n",
       "<table border=\"1\" class=\"dataframe\">\n",
       "  <thead>\n",
       "    <tr style=\"text-align: right;\">\n",
       "      <th></th>\n",
       "      <th>Common Name</th>\n",
       "      <th>Scientific Name</th>\n",
       "      <th>Element Code</th>\n",
       "      <th>Species Group (Broad)</th>\n",
       "      <th>Species Group (Fine)</th>\n",
       "      <th>NatureServe Global Rank</th>\n",
       "      <th>NatureServe Rounded Global Rank</th>\n",
       "      <th>U.S. Endangered Species Act Status</th>\n",
       "      <th>COSEWIC Status</th>\n",
       "      <th>SARA Status</th>\n",
       "      <th>Distribution</th>\n",
       "      <th>View on NatureServe Explorer</th>\n",
       "    </tr>\n",
       "  </thead>\n",
       "  <tbody>\n",
       "    <tr>\n",
       "      <th>0</th>\n",
       "      <td>Blanchard's Cricket Frog</td>\n",
       "      <td>Acris blanchardi</td>\n",
       "      <td>AAABC01040</td>\n",
       "      <td>Vertebrates</td>\n",
       "      <td>Amphibians</td>\n",
       "      <td>G5</td>\n",
       "      <td>G5</td>\n",
       "      <td>NaN</td>\n",
       "      <td>Endangered</td>\n",
       "      <td>Endangered/En voie de disparition</td>\n",
       "      <td>Canada: ON\\nUnited States: AR, CO, IA, IL, IN,...</td>\n",
       "      <td>https://explorer.natureserve.org/Taxon/ELEMENT...</td>\n",
       "    </tr>\n",
       "    <tr>\n",
       "      <th>1</th>\n",
       "      <td>Eastern Cricket Frog</td>\n",
       "      <td>Acris crepitans</td>\n",
       "      <td>AAABC01030</td>\n",
       "      <td>Vertebrates</td>\n",
       "      <td>Amphibians</td>\n",
       "      <td>G5</td>\n",
       "      <td>G5</td>\n",
       "      <td>NaN</td>\n",
       "      <td>NaN</td>\n",
       "      <td>NaN</td>\n",
       "      <td>United States: AL, DC, DE, FL, GA, KY, LA, MD,...</td>\n",
       "      <td>https://explorer.natureserve.org/Taxon/ELEMENT...</td>\n",
       "    </tr>\n",
       "    <tr>\n",
       "      <th>2</th>\n",
       "      <td>Southern Cricket Frog</td>\n",
       "      <td>Acris gryllus</td>\n",
       "      <td>AAABC01020</td>\n",
       "      <td>Vertebrates</td>\n",
       "      <td>Amphibians</td>\n",
       "      <td>G5</td>\n",
       "      <td>G5</td>\n",
       "      <td>NaN</td>\n",
       "      <td>NaN</td>\n",
       "      <td>NaN</td>\n",
       "      <td>United States: AL, FL, GA, LA, MS, NC, SC, TN, VA</td>\n",
       "      <td>https://explorer.natureserve.org/Taxon/ELEMENT...</td>\n",
       "    </tr>\n",
       "    <tr>\n",
       "      <th>3</th>\n",
       "      <td>Ringed Salamander</td>\n",
       "      <td>Ambystoma annulatum</td>\n",
       "      <td>AAAAA01010</td>\n",
       "      <td>Vertebrates</td>\n",
       "      <td>Amphibians</td>\n",
       "      <td>G4</td>\n",
       "      <td>G4</td>\n",
       "      <td>NaN</td>\n",
       "      <td>NaN</td>\n",
       "      <td>NaN</td>\n",
       "      <td>United States: AR, MO, OK</td>\n",
       "      <td>https://explorer.natureserve.org/Taxon/ELEMENT...</td>\n",
       "    </tr>\n",
       "    <tr>\n",
       "      <th>4</th>\n",
       "      <td>Streamside Salamander</td>\n",
       "      <td>Ambystoma barbouri</td>\n",
       "      <td>AAAAA01170</td>\n",
       "      <td>Vertebrates</td>\n",
       "      <td>Amphibians</td>\n",
       "      <td>G4</td>\n",
       "      <td>G4</td>\n",
       "      <td>NaN</td>\n",
       "      <td>NaN</td>\n",
       "      <td>NaN</td>\n",
       "      <td>United States: IN, KY, OH, TN, WV</td>\n",
       "      <td>https://explorer.natureserve.org/Taxon/ELEMENT...</td>\n",
       "    </tr>\n",
       "  </tbody>\n",
       "</table>\n",
       "</div>"
      ],
      "text/plain": [
       "                Common Name      Scientific Name Element Code  \\\n",
       "0  Blanchard's Cricket Frog     Acris blanchardi   AAABC01040   \n",
       "1      Eastern Cricket Frog      Acris crepitans   AAABC01030   \n",
       "2     Southern Cricket Frog        Acris gryllus   AAABC01020   \n",
       "3         Ringed Salamander  Ambystoma annulatum   AAAAA01010   \n",
       "4     Streamside Salamander   Ambystoma barbouri   AAAAA01170   \n",
       "\n",
       "  Species Group (Broad) Species Group (Fine) NatureServe Global Rank  \\\n",
       "0           Vertebrates           Amphibians                      G5   \n",
       "1           Vertebrates           Amphibians                      G5   \n",
       "2           Vertebrates           Amphibians                      G5   \n",
       "3           Vertebrates           Amphibians                      G4   \n",
       "4           Vertebrates           Amphibians                      G4   \n",
       "\n",
       "  NatureServe Rounded Global Rank U.S. Endangered Species Act Status  \\\n",
       "0                              G5                                NaN   \n",
       "1                              G5                                NaN   \n",
       "2                              G5                                NaN   \n",
       "3                              G4                                NaN   \n",
       "4                              G4                                NaN   \n",
       "\n",
       "  COSEWIC Status                        SARA Status  \\\n",
       "0     Endangered  Endangered/En voie de disparition   \n",
       "1            NaN                                NaN   \n",
       "2            NaN                                NaN   \n",
       "3            NaN                                NaN   \n",
       "4            NaN                                NaN   \n",
       "\n",
       "                                        Distribution  \\\n",
       "0  Canada: ON\\nUnited States: AR, CO, IA, IL, IN,...   \n",
       "1  United States: AL, DC, DE, FL, GA, KY, LA, MD,...   \n",
       "2  United States: AL, FL, GA, LA, MS, NC, SC, TN, VA   \n",
       "3                          United States: AR, MO, OK   \n",
       "4                  United States: IN, KY, OH, TN, WV   \n",
       "\n",
       "                        View on NatureServe Explorer  \n",
       "0  https://explorer.natureserve.org/Taxon/ELEMENT...  \n",
       "1  https://explorer.natureserve.org/Taxon/ELEMENT...  \n",
       "2  https://explorer.natureserve.org/Taxon/ELEMENT...  \n",
       "3  https://explorer.natureserve.org/Taxon/ELEMENT...  \n",
       "4  https://explorer.natureserve.org/Taxon/ELEMENT...  "
      ]
     },
     "execution_count": 3,
     "metadata": {},
     "output_type": "execute_result"
    }
   ],
   "source": [
    "### Read the csv file from ECOS\n",
    "nsExplorer_end_species = pd.read_excel(\"../data/nsExplorer-Export-2020-12-20-01-03-repaired.xlsx\", sheet_name=0, skiprows=1)\n",
    "\n",
    "nsExplorer_end_species.head()"
   ]
  },
  {
   "cell_type": "markdown",
   "metadata": {},
   "source": [
    "## A- Cleaning dataframe"
   ]
  },
  {
   "cell_type": "markdown",
   "metadata": {},
   "source": [
    "### 1- Drop columns:"
   ]
  },
  {
   "cell_type": "code",
   "execution_count": 4,
   "metadata": {},
   "outputs": [],
   "source": [
    "### Drop some columns\n",
    "nsExplorer_end_species = nsExplorer_end_species.drop([\"Element Code\", \"NatureServe Global Rank\", \"NatureServe Rounded Global Rank\", \"COSEWIC Status\", \"SARA Status\" ], axis = 1)"
   ]
  },
  {
   "cell_type": "code",
   "execution_count": 5,
   "metadata": {
    "scrolled": true
   },
   "outputs": [
    {
     "data": {
      "text/html": [
       "<div>\n",
       "<style scoped>\n",
       "    .dataframe tbody tr th:only-of-type {\n",
       "        vertical-align: middle;\n",
       "    }\n",
       "\n",
       "    .dataframe tbody tr th {\n",
       "        vertical-align: top;\n",
       "    }\n",
       "\n",
       "    .dataframe thead th {\n",
       "        text-align: right;\n",
       "    }\n",
       "</style>\n",
       "<table border=\"1\" class=\"dataframe\">\n",
       "  <thead>\n",
       "    <tr style=\"text-align: right;\">\n",
       "      <th></th>\n",
       "      <th>Common Name</th>\n",
       "      <th>Scientific Name</th>\n",
       "      <th>Species Group (Broad)</th>\n",
       "      <th>Species Group (Fine)</th>\n",
       "      <th>U.S. Endangered Species Act Status</th>\n",
       "      <th>Distribution</th>\n",
       "      <th>View on NatureServe Explorer</th>\n",
       "    </tr>\n",
       "  </thead>\n",
       "  <tbody>\n",
       "    <tr>\n",
       "      <th>0</th>\n",
       "      <td>Blanchard's Cricket Frog</td>\n",
       "      <td>Acris blanchardi</td>\n",
       "      <td>Vertebrates</td>\n",
       "      <td>Amphibians</td>\n",
       "      <td>NaN</td>\n",
       "      <td>Canada: ON\\nUnited States: AR, CO, IA, IL, IN,...</td>\n",
       "      <td>https://explorer.natureserve.org/Taxon/ELEMENT...</td>\n",
       "    </tr>\n",
       "    <tr>\n",
       "      <th>1</th>\n",
       "      <td>Eastern Cricket Frog</td>\n",
       "      <td>Acris crepitans</td>\n",
       "      <td>Vertebrates</td>\n",
       "      <td>Amphibians</td>\n",
       "      <td>NaN</td>\n",
       "      <td>United States: AL, DC, DE, FL, GA, KY, LA, MD,...</td>\n",
       "      <td>https://explorer.natureserve.org/Taxon/ELEMENT...</td>\n",
       "    </tr>\n",
       "    <tr>\n",
       "      <th>2</th>\n",
       "      <td>Southern Cricket Frog</td>\n",
       "      <td>Acris gryllus</td>\n",
       "      <td>Vertebrates</td>\n",
       "      <td>Amphibians</td>\n",
       "      <td>NaN</td>\n",
       "      <td>United States: AL, FL, GA, LA, MS, NC, SC, TN, VA</td>\n",
       "      <td>https://explorer.natureserve.org/Taxon/ELEMENT...</td>\n",
       "    </tr>\n",
       "    <tr>\n",
       "      <th>3</th>\n",
       "      <td>Ringed Salamander</td>\n",
       "      <td>Ambystoma annulatum</td>\n",
       "      <td>Vertebrates</td>\n",
       "      <td>Amphibians</td>\n",
       "      <td>NaN</td>\n",
       "      <td>United States: AR, MO, OK</td>\n",
       "      <td>https://explorer.natureserve.org/Taxon/ELEMENT...</td>\n",
       "    </tr>\n",
       "    <tr>\n",
       "      <th>4</th>\n",
       "      <td>Streamside Salamander</td>\n",
       "      <td>Ambystoma barbouri</td>\n",
       "      <td>Vertebrates</td>\n",
       "      <td>Amphibians</td>\n",
       "      <td>NaN</td>\n",
       "      <td>United States: IN, KY, OH, TN, WV</td>\n",
       "      <td>https://explorer.natureserve.org/Taxon/ELEMENT...</td>\n",
       "    </tr>\n",
       "  </tbody>\n",
       "</table>\n",
       "</div>"
      ],
      "text/plain": [
       "                Common Name      Scientific Name Species Group (Broad)  \\\n",
       "0  Blanchard's Cricket Frog     Acris blanchardi           Vertebrates   \n",
       "1      Eastern Cricket Frog      Acris crepitans           Vertebrates   \n",
       "2     Southern Cricket Frog        Acris gryllus           Vertebrates   \n",
       "3         Ringed Salamander  Ambystoma annulatum           Vertebrates   \n",
       "4     Streamside Salamander   Ambystoma barbouri           Vertebrates   \n",
       "\n",
       "  Species Group (Fine) U.S. Endangered Species Act Status  \\\n",
       "0           Amphibians                                NaN   \n",
       "1           Amphibians                                NaN   \n",
       "2           Amphibians                                NaN   \n",
       "3           Amphibians                                NaN   \n",
       "4           Amphibians                                NaN   \n",
       "\n",
       "                                        Distribution  \\\n",
       "0  Canada: ON\\nUnited States: AR, CO, IA, IL, IN,...   \n",
       "1  United States: AL, DC, DE, FL, GA, KY, LA, MD,...   \n",
       "2  United States: AL, FL, GA, LA, MS, NC, SC, TN, VA   \n",
       "3                          United States: AR, MO, OK   \n",
       "4                  United States: IN, KY, OH, TN, WV   \n",
       "\n",
       "                        View on NatureServe Explorer  \n",
       "0  https://explorer.natureserve.org/Taxon/ELEMENT...  \n",
       "1  https://explorer.natureserve.org/Taxon/ELEMENT...  \n",
       "2  https://explorer.natureserve.org/Taxon/ELEMENT...  \n",
       "3  https://explorer.natureserve.org/Taxon/ELEMENT...  \n",
       "4  https://explorer.natureserve.org/Taxon/ELEMENT...  "
      ]
     },
     "execution_count": 5,
     "metadata": {},
     "output_type": "execute_result"
    }
   ],
   "source": [
    "nsExplorer_end_species.head()"
   ]
  },
  {
   "cell_type": "code",
   "execution_count": 6,
   "metadata": {},
   "outputs": [
    {
     "data": {
      "text/plain": [
       "(82588, 7)"
      ]
     },
     "execution_count": 6,
     "metadata": {},
     "output_type": "execute_result"
    }
   ],
   "source": [
    "nsExplorer_end_species.shape"
   ]
  },
  {
   "cell_type": "code",
   "execution_count": 7,
   "metadata": {},
   "outputs": [
    {
     "data": {
      "text/plain": [
       "array([nan, 'Endangered', 'Endangered; Threatened', 'Threatened',\n",
       "       'Delisted', 'Proposed threatened',\n",
       "       'Endangered; Proposed for delisting',\n",
       "       'Endangered; Proposed threatened',\n",
       "       'Endangered; Experimental population, non-essential',\n",
       "       'Endangered; Experimental population, non-essential; Proposed experimental population, non-essential',\n",
       "       'Threatened due to similarity of appearance',\n",
       "       'Threatened; Threatened due to similarity of appearance',\n",
       "       'Candidate', 'Threatened; Candidate',\n",
       "       'Threatened; Experimental population, non-essential',\n",
       "       'Proposed endangered',\n",
       "       'Proposed threatened due to similarity of appearance',\n",
       "       'Threatened; Proposed for delisting'], dtype=object)"
      ]
     },
     "execution_count": 7,
     "metadata": {},
     "output_type": "execute_result"
    }
   ],
   "source": [
    "nsExplorer_end_species[\"U.S. Endangered Species Act Status\"].unique()"
   ]
  },
  {
   "cell_type": "code",
   "execution_count": 8,
   "metadata": {},
   "outputs": [],
   "source": [
    "nsExplorer_end_species = nsExplorer_end_species.dropna()"
   ]
  },
  {
   "cell_type": "code",
   "execution_count": 9,
   "metadata": {},
   "outputs": [
    {
     "data": {
      "text/html": [
       "<div>\n",
       "<style scoped>\n",
       "    .dataframe tbody tr th:only-of-type {\n",
       "        vertical-align: middle;\n",
       "    }\n",
       "\n",
       "    .dataframe tbody tr th {\n",
       "        vertical-align: top;\n",
       "    }\n",
       "\n",
       "    .dataframe thead th {\n",
       "        text-align: right;\n",
       "    }\n",
       "</style>\n",
       "<table border=\"1\" class=\"dataframe\">\n",
       "  <thead>\n",
       "    <tr style=\"text-align: right;\">\n",
       "      <th></th>\n",
       "      <th>Common Name</th>\n",
       "      <th>Scientific Name</th>\n",
       "      <th>Species Group (Broad)</th>\n",
       "      <th>Species Group (Fine)</th>\n",
       "      <th>U.S. Endangered Species Act Status</th>\n",
       "      <th>Distribution</th>\n",
       "      <th>View on NatureServe Explorer</th>\n",
       "    </tr>\n",
       "  </thead>\n",
       "  <tbody>\n",
       "    <tr>\n",
       "      <th>5</th>\n",
       "      <td>Reticulated Flatwoods Salamander</td>\n",
       "      <td>Ambystoma bishopi</td>\n",
       "      <td>Vertebrates</td>\n",
       "      <td>Amphibians</td>\n",
       "      <td>Endangered</td>\n",
       "      <td>United States: AL, FL, GA</td>\n",
       "      <td>https://explorer.natureserve.org/Taxon/ELEMENT...</td>\n",
       "    </tr>\n",
       "    <tr>\n",
       "      <th>6</th>\n",
       "      <td>California Tiger Salamander</td>\n",
       "      <td>Ambystoma californiense</td>\n",
       "      <td>Vertebrates</td>\n",
       "      <td>Amphibians</td>\n",
       "      <td>Endangered; Threatened</td>\n",
       "      <td>United States: CA</td>\n",
       "      <td>https://explorer.natureserve.org/Taxon/ELEMENT...</td>\n",
       "    </tr>\n",
       "    <tr>\n",
       "      <th>7</th>\n",
       "      <td>Frosted Flatwoods Salamander</td>\n",
       "      <td>Ambystoma cingulatum</td>\n",
       "      <td>Vertebrates</td>\n",
       "      <td>Amphibians</td>\n",
       "      <td>Threatened</td>\n",
       "      <td>United States: FL, GA, SC</td>\n",
       "      <td>https://explorer.natureserve.org/Taxon/ELEMENT...</td>\n",
       "    </tr>\n",
       "    <tr>\n",
       "      <th>23</th>\n",
       "      <td>Wyoming Toad</td>\n",
       "      <td>Anaxyrus baxteri</td>\n",
       "      <td>Vertebrates</td>\n",
       "      <td>Amphibians</td>\n",
       "      <td>Endangered</td>\n",
       "      <td>United States: WY</td>\n",
       "      <td>https://explorer.natureserve.org/Taxon/ELEMENT...</td>\n",
       "    </tr>\n",
       "    <tr>\n",
       "      <th>25</th>\n",
       "      <td>Arroyo Toad</td>\n",
       "      <td>Anaxyrus californicus</td>\n",
       "      <td>Vertebrates</td>\n",
       "      <td>Amphibians</td>\n",
       "      <td>Endangered</td>\n",
       "      <td>United States: CA</td>\n",
       "      <td>https://explorer.natureserve.org/Taxon/ELEMENT...</td>\n",
       "    </tr>\n",
       "    <tr>\n",
       "      <th>...</th>\n",
       "      <td>...</td>\n",
       "      <td>...</td>\n",
       "      <td>...</td>\n",
       "      <td>...</td>\n",
       "      <td>...</td>\n",
       "      <td>...</td>\n",
       "      <td>...</td>\n",
       "    </tr>\n",
       "    <tr>\n",
       "      <th>70674</th>\n",
       "      <td>Saw-tooth Logwood</td>\n",
       "      <td>Xylosma crenata</td>\n",
       "      <td>Vascular Plants</td>\n",
       "      <td>Flowering Plants - Dicots</td>\n",
       "      <td>Endangered</td>\n",
       "      <td>United States: HI</td>\n",
       "      <td>https://explorer.natureserve.org/Taxon/ELEMENT...</td>\n",
       "    </tr>\n",
       "    <tr>\n",
       "      <th>70682</th>\n",
       "      <td>Desert Yellowhead</td>\n",
       "      <td>Yermo xanthocephalus</td>\n",
       "      <td>Vascular Plants</td>\n",
       "      <td>Flowering Plants - Dicots</td>\n",
       "      <td>Threatened</td>\n",
       "      <td>United States: WY</td>\n",
       "      <td>https://explorer.natureserve.org/Taxon/ELEMENT...</td>\n",
       "    </tr>\n",
       "    <tr>\n",
       "      <th>70690</th>\n",
       "      <td>Hawai`i Prickly-ash</td>\n",
       "      <td>Zanthoxylum hawaiiense</td>\n",
       "      <td>Vascular Plants</td>\n",
       "      <td>Flowering Plants - Dicots</td>\n",
       "      <td>Endangered</td>\n",
       "      <td>United States: HI</td>\n",
       "      <td>https://explorer.natureserve.org/Taxon/ELEMENT...</td>\n",
       "    </tr>\n",
       "    <tr>\n",
       "      <th>70693</th>\n",
       "      <td>Oahu Prickly-ash</td>\n",
       "      <td>Zanthoxylum oahuense</td>\n",
       "      <td>Vascular Plants</td>\n",
       "      <td>Flowering Plants - Dicots</td>\n",
       "      <td>Endangered</td>\n",
       "      <td>United States: HI</td>\n",
       "      <td>https://explorer.natureserve.org/Taxon/ELEMENT...</td>\n",
       "    </tr>\n",
       "    <tr>\n",
       "      <th>70707</th>\n",
       "      <td>Florida ziziphus</td>\n",
       "      <td>Ziziphus celata</td>\n",
       "      <td>Vascular Plants</td>\n",
       "      <td>Flowering Plants - Dicots</td>\n",
       "      <td>Endangered</td>\n",
       "      <td>United States: FL</td>\n",
       "      <td>https://explorer.natureserve.org/Taxon/ELEMENT...</td>\n",
       "    </tr>\n",
       "  </tbody>\n",
       "</table>\n",
       "<p>1219 rows × 7 columns</p>\n",
       "</div>"
      ],
      "text/plain": [
       "                            Common Name          Scientific Name  \\\n",
       "5      Reticulated Flatwoods Salamander        Ambystoma bishopi   \n",
       "6           California Tiger Salamander  Ambystoma californiense   \n",
       "7          Frosted Flatwoods Salamander     Ambystoma cingulatum   \n",
       "23                         Wyoming Toad         Anaxyrus baxteri   \n",
       "25                          Arroyo Toad    Anaxyrus californicus   \n",
       "...                                 ...                      ...   \n",
       "70674                 Saw-tooth Logwood          Xylosma crenata   \n",
       "70682                 Desert Yellowhead     Yermo xanthocephalus   \n",
       "70690               Hawai`i Prickly-ash   Zanthoxylum hawaiiense   \n",
       "70693                  Oahu Prickly-ash     Zanthoxylum oahuense   \n",
       "70707                  Florida ziziphus          Ziziphus celata   \n",
       "\n",
       "      Species Group (Broad)       Species Group (Fine)  \\\n",
       "5               Vertebrates                 Amphibians   \n",
       "6               Vertebrates                 Amphibians   \n",
       "7               Vertebrates                 Amphibians   \n",
       "23              Vertebrates                 Amphibians   \n",
       "25              Vertebrates                 Amphibians   \n",
       "...                     ...                        ...   \n",
       "70674       Vascular Plants  Flowering Plants - Dicots   \n",
       "70682       Vascular Plants  Flowering Plants - Dicots   \n",
       "70690       Vascular Plants  Flowering Plants - Dicots   \n",
       "70693       Vascular Plants  Flowering Plants - Dicots   \n",
       "70707       Vascular Plants  Flowering Plants - Dicots   \n",
       "\n",
       "      U.S. Endangered Species Act Status               Distribution  \\\n",
       "5                             Endangered  United States: AL, FL, GA   \n",
       "6                 Endangered; Threatened          United States: CA   \n",
       "7                             Threatened  United States: FL, GA, SC   \n",
       "23                            Endangered          United States: WY   \n",
       "25                            Endangered          United States: CA   \n",
       "...                                  ...                        ...   \n",
       "70674                         Endangered          United States: HI   \n",
       "70682                         Threatened          United States: WY   \n",
       "70690                         Endangered          United States: HI   \n",
       "70693                         Endangered          United States: HI   \n",
       "70707                         Endangered          United States: FL   \n",
       "\n",
       "                            View on NatureServe Explorer  \n",
       "5      https://explorer.natureserve.org/Taxon/ELEMENT...  \n",
       "6      https://explorer.natureserve.org/Taxon/ELEMENT...  \n",
       "7      https://explorer.natureserve.org/Taxon/ELEMENT...  \n",
       "23     https://explorer.natureserve.org/Taxon/ELEMENT...  \n",
       "25     https://explorer.natureserve.org/Taxon/ELEMENT...  \n",
       "...                                                  ...  \n",
       "70674  https://explorer.natureserve.org/Taxon/ELEMENT...  \n",
       "70682  https://explorer.natureserve.org/Taxon/ELEMENT...  \n",
       "70690  https://explorer.natureserve.org/Taxon/ELEMENT...  \n",
       "70693  https://explorer.natureserve.org/Taxon/ELEMENT...  \n",
       "70707  https://explorer.natureserve.org/Taxon/ELEMENT...  \n",
       "\n",
       "[1219 rows x 7 columns]"
      ]
     },
     "execution_count": 9,
     "metadata": {},
     "output_type": "execute_result"
    }
   ],
   "source": [
    "nsExplorer_end_species"
   ]
  },
  {
   "cell_type": "markdown",
   "metadata": {},
   "source": [
    "### 2- Clean column \"distribution\":"
   ]
  },
  {
   "cell_type": "code",
   "execution_count": null,
   "metadata": {},
   "outputs": [],
   "source": []
  },
  {
   "cell_type": "markdown",
   "metadata": {},
   "source": [
    "## B- Get the \"threat comment from urls"
   ]
  },
  {
   "cell_type": "markdown",
   "metadata": {},
   "source": [
    "### 1- test on one animal \"Reticulated Flatwoods Salamander\":"
   ]
  },
  {
   "cell_type": "code",
   "execution_count": 11,
   "metadata": {},
   "outputs": [],
   "source": [
    "URL = 'https://explorer.natureserve.org/Taxon/ELEMENT_GLOBAL.2.802300/Ambystoma_bishopi'\n",
    "\n",
    "response = requests.get(URL)"
   ]
  },
  {
   "cell_type": "code",
   "execution_count": 15,
   "metadata": {},
   "outputs": [],
   "source": [
    "soup = BS(response.text)"
   ]
  },
  {
   "cell_type": "code",
   "execution_count": 18,
   "metadata": {},
   "outputs": [
    {
     "data": {
      "text/plain": [
       "'NatureServe Explorer 2.0'"
      ]
     },
     "execution_count": 18,
     "metadata": {},
     "output_type": "execute_result"
    }
   ],
   "source": [
    "soup.find('title').text"
   ]
  },
  {
   "cell_type": "code",
   "execution_count": 23,
   "metadata": {},
   "outputs": [],
   "source": [
    "# Extracting threat in animal url\n",
    "threat = soup.findAll(\"div\")"
   ]
  },
  {
   "cell_type": "code",
   "execution_count": 24,
   "metadata": {},
   "outputs": [
    {
     "data": {
      "text/plain": [
       "[<div id=\"root\"></div>]"
      ]
     },
     "execution_count": 24,
     "metadata": {},
     "output_type": "execute_result"
    }
   ],
   "source": [
    "threat"
   ]
  },
  {
   "cell_type": "code",
   "execution_count": null,
   "metadata": {},
   "outputs": [],
   "source": []
  }
 ],
 "metadata": {
  "kernelspec": {
   "display_name": "Python 3",
   "language": "python",
   "name": "python3"
  },
  "language_info": {
   "codemirror_mode": {
    "name": "ipython",
    "version": 3
   },
   "file_extension": ".py",
   "mimetype": "text/x-python",
   "name": "python",
   "nbconvert_exporter": "python",
   "pygments_lexer": "ipython3",
   "version": "3.7.3"
  }
 },
 "nbformat": 4,
 "nbformat_minor": 2
}
